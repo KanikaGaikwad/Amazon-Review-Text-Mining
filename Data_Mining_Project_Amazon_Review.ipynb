{
  "nbformat": 4,
  "nbformat_minor": 0,
  "metadata": {
    "colab": {
      "provenance": []
    },
    "kernelspec": {
      "name": "python3",
      "display_name": "Python 3"
    }
  },
  "cells": [
    {
      "cell_type": "markdown",
      "metadata": {
        "id": "A9OSCtI7TEgM"
      }
          },
    {
      "cell_type": "code",
      "metadata": {
        "id": "OpOUCuDesbDf",
        "colab": {
          "base_uri": "https://localhost:8080/"
        },
        "outputId": "a053cb5b-0d61-4ca0-f769-01812028df58"
      },
      "source": [
        "# import modules\n",
        "import numpy as np\n",
        "import pandas as pd\n",
        "\n",
        "# plotting\n",
        "import seaborn as sns\n",
        "import matplotlib.pyplot as plt\n",
        "\n",
        "# need to add nltk imports up here\n",
        "# link: https://www.nltk.org/\n",
        "import nltk\n",
        "nltk.download('punkt')"
      ],
      "execution_count": null,
      "outputs": [
        {
          "output_type": "stream",
          "name": "stderr",
          "text": [
            "[nltk_data] Downloading package punkt to /root/nltk_data...\n",
            "[nltk_data]   Package punkt is already up-to-date!\n"
          ]
        },
        {
          "output_type": "execute_result",
          "data": {
            "text/plain": [
              "True"
            ]
          },
          "metadata": {},
          "execution_count": 43
        }
      ]
    },
    {
      "cell_type": "code",
      "source": [
        "from google.colab import drive\n",
        "drive.mount('/content/drive')"
      ],
      "metadata": {
        "id": "VU4p9ZQDKv3k",
        "colab": {
          "base_uri": "https://localhost:8080/"
        },
        "outputId": "31f6e331-fca4-435b-b83a-d604c0ff7926"
      },
      "execution_count": null,
      "outputs": [
        {
          "output_type": "stream",
          "name": "stdout",
          "text": [
            "Drive already mounted at /content/drive; to attempt to forcibly remount, call drive.mount(\"/content/drive\", force_remount=True).\n"
          ]
        }
      ]
    },
    {
      "cell_type": "markdown",
      "metadata": {
        "id": "LoHww6gsvH_0"
      },
      "source": [
        "We read in the data and see this has a traditional database output, with some limited numeric columns. The best data is all the way to the right (comment fields!)\n",
        "\n",
        "In the old days, I would've deleted these things since I had no use for them - but now, with all of the open-source software available, you can really bring that data to life and 1) not only explore it but 2) build models with it! Let's get to work."
      ]
    },
    {
      "cell_type": "code",
      "metadata": {
        "id": "apx_MH2HP65t",
        "colab": {
          "base_uri": "https://localhost:8080/",
          "height": 310
        },
        "outputId": "e9d5ef54-fed1-40d8-d4dd-3d80123561d7"
      },
      "source": [
        "# we will read the file directly from this link\n",
        "url = \"/content/drive/MyDrive/DS using python/data/New Cleaned Dataset (2).xlsx\"\n",
        "dataframe = pd.read_excel(url, header = 0) # this means there is a header in the first row\n",
        "df = pd.DataFrame(dataframe)\n",
        "print(df.shape) # woah! 60K rows and 28 columns, very nice.\n",
        "df.head()"
      ],
      "execution_count": null,
      "outputs": [
        {
          "output_type": "stream",
          "name": "stdout",
          "text": [
            "(5726, 7)\n"
          ]
        },
        {
          "output_type": "execute_result",
          "data": {
            "text/plain": [
              "   product_id                                      product_title  Brands  \\\n",
              "0  B001FE9KU6     ALTEC LANSING IM207 orbit-mp3 portable speaker  ALTEC    \n",
              "1  B001FE9KU6     ALTEC LANSING IM207 orbit-mp3 portable speaker  ALTEC    \n",
              "2  B001FE9KU6     ALTEC LANSING IM207 orbit-mp3 portable speaker  ALTEC    \n",
              "3  B002PU9RO8  Altec Lansing inMotion MIX Digital Portable Bo...  ALTEC    \n",
              "4  B00T7Z0BVW  Beats Pill Portable Speaker (Pink) - Newest Model   Beats   \n",
              "\n",
              "   star_rating verified_purchase  \\\n",
              "0            2                 Y   \n",
              "1            5                 Y   \n",
              "2            3                 Y   \n",
              "3            3                 Y   \n",
              "4            1                 Y   \n",
              "\n",
              "                                     review_headline  \\\n",
              "0  Cheap plastic feel. Speaker sounds good when y...   \n",
              "1                                            Speaker   \n",
              "2                                        Three Stars   \n",
              "3                                        Three Stars   \n",
              "4  ... instructions and they don't answer emails ...   \n",
              "\n",
              "                                         review_body  \n",
              "0  Cheap plastic feel. Hard to turn on and off as...  \n",
              "1  I bought this product to use with my iPod touc...  \n",
              "2  Ok speaker for easy listening. But I don't do ...  \n",
              "3      Out dated iPhone system, not what I expected.  \n",
              "4  It doesn't stay charged 12 hours doesn't charg...  "
            ],
            "text/html": [
              "\n",
              "  <div id=\"df-021713ea-17a7-4b9d-b39b-d44ffdbc8e34\" class=\"colab-df-container\">\n",
              "    <div>\n",
              "<style scoped>\n",
              "    .dataframe tbody tr th:only-of-type {\n",
              "        vertical-align: middle;\n",
              "    }\n",
              "\n",
              "    .dataframe tbody tr th {\n",
              "        vertical-align: top;\n",
              "    }\n",
              "\n",
              "    .dataframe thead th {\n",
              "        text-align: right;\n",
              "    }\n",
              "</style>\n",
              "<table border=\"1\" class=\"dataframe\">\n",
              "  <thead>\n",
              "    <tr style=\"text-align: right;\">\n",
              "      <th></th>\n",
              "      <th>product_id</th>\n",
              "      <th>product_title</th>\n",
              "      <th>Brands</th>\n",
              "      <th>star_rating</th>\n",
              "      <th>verified_purchase</th>\n",
              "      <th>review_headline</th>\n",
              "      <th>review_body</th>\n",
              "    </tr>\n",
              "  </thead>\n",
              "  <tbody>\n",
              "    <tr>\n",
              "      <th>0</th>\n",
              "      <td>B001FE9KU6</td>\n",
              "      <td>ALTEC LANSING IM207 orbit-mp3 portable speaker</td>\n",
              "      <td>ALTEC</td>\n",
              "      <td>2</td>\n",
              "      <td>Y</td>\n",
              "      <td>Cheap plastic feel. Speaker sounds good when y...</td>\n",
              "      <td>Cheap plastic feel. Hard to turn on and off as...</td>\n",
              "    </tr>\n",
              "    <tr>\n",
              "      <th>1</th>\n",
              "      <td>B001FE9KU6</td>\n",
              "      <td>ALTEC LANSING IM207 orbit-mp3 portable speaker</td>\n",
              "      <td>ALTEC</td>\n",
              "      <td>5</td>\n",
              "      <td>Y</td>\n",
              "      <td>Speaker</td>\n",
              "      <td>I bought this product to use with my iPod touc...</td>\n",
              "    </tr>\n",
              "    <tr>\n",
              "      <th>2</th>\n",
              "      <td>B001FE9KU6</td>\n",
              "      <td>ALTEC LANSING IM207 orbit-mp3 portable speaker</td>\n",
              "      <td>ALTEC</td>\n",
              "      <td>3</td>\n",
              "      <td>Y</td>\n",
              "      <td>Three Stars</td>\n",
              "      <td>Ok speaker for easy listening. But I don't do ...</td>\n",
              "    </tr>\n",
              "    <tr>\n",
              "      <th>3</th>\n",
              "      <td>B002PU9RO8</td>\n",
              "      <td>Altec Lansing inMotion MIX Digital Portable Bo...</td>\n",
              "      <td>ALTEC</td>\n",
              "      <td>3</td>\n",
              "      <td>Y</td>\n",
              "      <td>Three Stars</td>\n",
              "      <td>Out dated iPhone system, not what I expected.</td>\n",
              "    </tr>\n",
              "    <tr>\n",
              "      <th>4</th>\n",
              "      <td>B00T7Z0BVW</td>\n",
              "      <td>Beats Pill Portable Speaker (Pink) - Newest Model</td>\n",
              "      <td>Beats</td>\n",
              "      <td>1</td>\n",
              "      <td>Y</td>\n",
              "      <td>... instructions and they don't answer emails ...</td>\n",
              "      <td>It doesn't stay charged 12 hours doesn't charg...</td>\n",
              "    </tr>\n",
              "  </tbody>\n",
              "</table>\n",
              "</div>\n",
              "    <div class=\"colab-df-buttons\">\n",
              "\n",
              "  <div class=\"colab-df-container\">\n",
              "    <button class=\"colab-df-convert\" onclick=\"convertToInteractive('df-021713ea-17a7-4b9d-b39b-d44ffdbc8e34')\"\n",
              "            title=\"Convert this dataframe to an interactive table.\"\n",
              "            style=\"display:none;\">\n",
              "\n",
              "  <svg xmlns=\"http://www.w3.org/2000/svg\" height=\"24px\" viewBox=\"0 -960 960 960\">\n",
              "    <path d=\"M120-120v-720h720v720H120Zm60-500h600v-160H180v160Zm220 220h160v-160H400v160Zm0 220h160v-160H400v160ZM180-400h160v-160H180v160Zm440 0h160v-160H620v160ZM180-180h160v-160H180v160Zm440 0h160v-160H620v160Z\"/>\n",
              "  </svg>\n",
              "    </button>\n",
              "\n",
              "  <style>\n",
              "    .colab-df-container {\n",
              "      display:flex;\n",
              "      gap: 12px;\n",
              "    }\n",
              "\n",
              "    .colab-df-convert {\n",
              "      background-color: #E8F0FE;\n",
              "      border: none;\n",
              "      border-radius: 50%;\n",
              "      cursor: pointer;\n",
              "      display: none;\n",
              "      fill: #1967D2;\n",
              "      height: 32px;\n",
              "      padding: 0 0 0 0;\n",
              "      width: 32px;\n",
              "    }\n",
              "\n",
              "    .colab-df-convert:hover {\n",
              "      background-color: #E2EBFA;\n",
              "      box-shadow: 0px 1px 2px rgba(60, 64, 67, 0.3), 0px 1px 3px 1px rgba(60, 64, 67, 0.15);\n",
              "      fill: #174EA6;\n",
              "    }\n",
              "\n",
              "    .colab-df-buttons div {\n",
              "      margin-bottom: 4px;\n",
              "    }\n",
              "\n",
              "    [theme=dark] .colab-df-convert {\n",
              "      background-color: #3B4455;\n",
              "      fill: #D2E3FC;\n",
              "    }\n",
              "\n",
              "    [theme=dark] .colab-df-convert:hover {\n",
              "      background-color: #434B5C;\n",
              "      box-shadow: 0px 1px 3px 1px rgba(0, 0, 0, 0.15);\n",
              "      filter: drop-shadow(0px 1px 2px rgba(0, 0, 0, 0.3));\n",
              "      fill: #FFFFFF;\n",
              "    }\n",
              "  </style>\n",
              "\n",
              "    <script>\n",
              "      const buttonEl =\n",
              "        document.querySelector('#df-021713ea-17a7-4b9d-b39b-d44ffdbc8e34 button.colab-df-convert');\n",
              "      buttonEl.style.display =\n",
              "        google.colab.kernel.accessAllowed ? 'block' : 'none';\n",
              "\n",
              "      async function convertToInteractive(key) {\n",
              "        const element = document.querySelector('#df-021713ea-17a7-4b9d-b39b-d44ffdbc8e34');\n",
              "        const dataTable =\n",
              "          await google.colab.kernel.invokeFunction('convertToInteractive',\n",
              "                                                    [key], {});\n",
              "        if (!dataTable) return;\n",
              "\n",
              "        const docLinkHtml = 'Like what you see? Visit the ' +\n",
              "          '<a target=\"_blank\" href=https://colab.research.google.com/notebooks/data_table.ipynb>data table notebook</a>'\n",
              "          + ' to learn more about interactive tables.';\n",
              "        element.innerHTML = '';\n",
              "        dataTable['output_type'] = 'display_data';\n",
              "        await google.colab.output.renderOutput(dataTable, element);\n",
              "        const docLink = document.createElement('div');\n",
              "        docLink.innerHTML = docLinkHtml;\n",
              "        element.appendChild(docLink);\n",
              "      }\n",
              "    </script>\n",
              "  </div>\n",
              "\n",
              "\n",
              "<div id=\"df-e994a639-aaf9-41f9-bec7-69b43967563b\">\n",
              "  <button class=\"colab-df-quickchart\" onclick=\"quickchart('df-e994a639-aaf9-41f9-bec7-69b43967563b')\"\n",
              "            title=\"Suggest charts\"\n",
              "            style=\"display:none;\">\n",
              "\n",
              "<svg xmlns=\"http://www.w3.org/2000/svg\" height=\"24px\"viewBox=\"0 0 24 24\"\n",
              "     width=\"24px\">\n",
              "    <g>\n",
              "        <path d=\"M19 3H5c-1.1 0-2 .9-2 2v14c0 1.1.9 2 2 2h14c1.1 0 2-.9 2-2V5c0-1.1-.9-2-2-2zM9 17H7v-7h2v7zm4 0h-2V7h2v10zm4 0h-2v-4h2v4z\"/>\n",
              "    </g>\n",
              "</svg>\n",
              "  </button>\n",
              "\n",
              "<style>\n",
              "  .colab-df-quickchart {\n",
              "      --bg-color: #E8F0FE;\n",
              "      --fill-color: #1967D2;\n",
              "      --hover-bg-color: #E2EBFA;\n",
              "      --hover-fill-color: #174EA6;\n",
              "      --disabled-fill-color: #AAA;\n",
              "      --disabled-bg-color: #DDD;\n",
              "  }\n",
              "\n",
              "  [theme=dark] .colab-df-quickchart {\n",
              "      --bg-color: #3B4455;\n",
              "      --fill-color: #D2E3FC;\n",
              "      --hover-bg-color: #434B5C;\n",
              "      --hover-fill-color: #FFFFFF;\n",
              "      --disabled-bg-color: #3B4455;\n",
              "      --disabled-fill-color: #666;\n",
              "  }\n",
              "\n",
              "  .colab-df-quickchart {\n",
              "    background-color: var(--bg-color);\n",
              "    border: none;\n",
              "    border-radius: 50%;\n",
              "    cursor: pointer;\n",
              "    display: none;\n",
              "    fill: var(--fill-color);\n",
              "    height: 32px;\n",
              "    padding: 0;\n",
              "    width: 32px;\n",
              "  }\n",
              "\n",
              "  .colab-df-quickchart:hover {\n",
              "    background-color: var(--hover-bg-color);\n",
              "    box-shadow: 0 1px 2px rgba(60, 64, 67, 0.3), 0 1px 3px 1px rgba(60, 64, 67, 0.15);\n",
              "    fill: var(--button-hover-fill-color);\n",
              "  }\n",
              "\n",
              "  .colab-df-quickchart-complete:disabled,\n",
              "  .colab-df-quickchart-complete:disabled:hover {\n",
              "    background-color: var(--disabled-bg-color);\n",
              "    fill: var(--disabled-fill-color);\n",
              "    box-shadow: none;\n",
              "  }\n",
              "\n",
              "  .colab-df-spinner {\n",
              "    border: 2px solid var(--fill-color);\n",
              "    border-color: transparent;\n",
              "    border-bottom-color: var(--fill-color);\n",
              "    animation:\n",
              "      spin 1s steps(1) infinite;\n",
              "  }\n",
              "\n",
              "  @keyframes spin {\n",
              "    0% {\n",
              "      border-color: transparent;\n",
              "      border-bottom-color: var(--fill-color);\n",
              "      border-left-color: var(--fill-color);\n",
              "    }\n",
              "    20% {\n",
              "      border-color: transparent;\n",
              "      border-left-color: var(--fill-color);\n",
              "      border-top-color: var(--fill-color);\n",
              "    }\n",
              "    30% {\n",
              "      border-color: transparent;\n",
              "      border-left-color: var(--fill-color);\n",
              "      border-top-color: var(--fill-color);\n",
              "      border-right-color: var(--fill-color);\n",
              "    }\n",
              "    40% {\n",
              "      border-color: transparent;\n",
              "      border-right-color: var(--fill-color);\n",
              "      border-top-color: var(--fill-color);\n",
              "    }\n",
              "    60% {\n",
              "      border-color: transparent;\n",
              "      border-right-color: var(--fill-color);\n",
              "    }\n",
              "    80% {\n",
              "      border-color: transparent;\n",
              "      border-right-color: var(--fill-color);\n",
              "      border-bottom-color: var(--fill-color);\n",
              "    }\n",
              "    90% {\n",
              "      border-color: transparent;\n",
              "      border-bottom-color: var(--fill-color);\n",
              "    }\n",
              "  }\n",
              "</style>\n",
              "\n",
              "  <script>\n",
              "    async function quickchart(key) {\n",
              "      const quickchartButtonEl =\n",
              "        document.querySelector('#' + key + ' button');\n",
              "      quickchartButtonEl.disabled = true;  // To prevent multiple clicks.\n",
              "      quickchartButtonEl.classList.add('colab-df-spinner');\n",
              "      try {\n",
              "        const charts = await google.colab.kernel.invokeFunction(\n",
              "            'suggestCharts', [key], {});\n",
              "      } catch (error) {\n",
              "        console.error('Error during call to suggestCharts:', error);\n",
              "      }\n",
              "      quickchartButtonEl.classList.remove('colab-df-spinner');\n",
              "      quickchartButtonEl.classList.add('colab-df-quickchart-complete');\n",
              "    }\n",
              "    (() => {\n",
              "      let quickchartButtonEl =\n",
              "        document.querySelector('#df-e994a639-aaf9-41f9-bec7-69b43967563b button');\n",
              "      quickchartButtonEl.style.display =\n",
              "        google.colab.kernel.accessAllowed ? 'block' : 'none';\n",
              "    })();\n",
              "  </script>\n",
              "</div>\n",
              "    </div>\n",
              "  </div>\n"
            ],
            "application/vnd.google.colaboratory.intrinsic+json": {
              "type": "dataframe",
              "variable_name": "df",
              "summary": "{\n  \"name\": \"df\",\n  \"rows\": 5726,\n  \"fields\": [\n    {\n      \"column\": \"product_id\",\n      \"properties\": {\n        \"dtype\": \"category\",\n        \"num_unique_values\": 1068,\n        \"samples\": [\n          \"B00KMD27T2\",\n          \"B006H6V4TW\",\n          \"B007KOSW6I\"\n        ],\n        \"semantic_type\": \"\",\n        \"description\": \"\"\n      }\n    },\n    {\n      \"column\": \"product_title\",\n      \"properties\": {\n        \"dtype\": \"category\",\n        \"num_unique_values\": 1033,\n        \"samples\": [\n          \"Sonic Impact I-P23 Portable Speakers for iPod\",\n          \"Rocksteady XS Portable Bluetooth Stereo Speaker - Stylish & Rugged with Killer Sound Quality - Black\",\n          \"Pyle Complete Audio/Video/Camera Package for Car/Truck/SUV -- PLDNV71BTU - 7-Inch Motorized TFT Touch Screen DVD/CD/MP3 Player with AM/FM/SD USB/ Bluetooth/Built-In GPS/TTS with USA/Canada & Mexico Maps + PLA2200 2-Channel 1400w Bridgeable Mosfet Amplifier + PLHB10 Dual 10\\\" 800W Hatchback Speaker Cabinet + PLCM22IR Water Proof Rear View Camera with Lux Night Vision Capability + PLAM14 20 Ft. 8 Gau\"\n        ],\n        \"semantic_type\": \"\",\n        \"description\": \"\"\n      }\n    },\n    {\n      \"column\": \"Brands\",\n      \"properties\": {\n        \"dtype\": \"category\",\n        \"num_unique_values\": 6,\n        \"samples\": [\n          \"ALTEC \",\n          \"Beats\",\n          \"Others\"\n        ],\n        \"semantic_type\": \"\",\n        \"description\": \"\"\n      }\n    },\n    {\n      \"column\": \"star_rating\",\n      \"properties\": {\n        \"dtype\": \"number\",\n        \"std\": 1,\n        \"min\": 1,\n        \"max\": 5,\n        \"num_unique_values\": 5,\n        \"samples\": [\n          5,\n          4,\n          3\n        ],\n        \"semantic_type\": \"\",\n        \"description\": \"\"\n      }\n    },\n    {\n      \"column\": \"verified_purchase\",\n      \"properties\": {\n        \"dtype\": \"category\",\n        \"num_unique_values\": 2,\n        \"samples\": [\n          \"N\",\n          \"Y\"\n        ],\n        \"semantic_type\": \"\",\n        \"description\": \"\"\n      }\n    },\n    {\n      \"column\": \"review_headline\",\n      \"properties\": {\n        \"dtype\": \"string\",\n        \"num_unique_values\": 4605,\n        \"samples\": [\n          \"Inexpensive upgrade for stock Ford speakers\",\n          \"Awesome!  Highly recommended!  Sounds very good.\"\n        ],\n        \"semantic_type\": \"\",\n        \"description\": \"\"\n      }\n    },\n    {\n      \"column\": \"review_body\",\n      \"properties\": {\n        \"dtype\": \"string\",\n        \"num_unique_values\": 5711,\n        \"samples\": [\n          \"I like the blue color, the texture of the covering, and the look. It's bigger than most speakers and lacks the cube, tube, or block shapes of other Bluetooth types of audio. The set-up is easy, and the buttons are recessed well so to keep the visual attention on the design. The speaker stays upright and has a more solid center; I have tried others where vibrations pull the speaker along!<br /><br />However, the sound is sub-par. Crackling and hiss persisted when I tried this out (as asked) with different sound streams on audio connection with the provided mini-plug. I thought it might be the wire, but I tried another one than the one in the box: same problem.<br /><br />So, while I applaud the design and the intent, the product as provided me for testing is not up to the satisfactory sound level I expect, even for a more modest price point. The booklet admits it may take 8 hours for the speaker to &#34;break in,&#34; but given the noticeable hiss from the speaker, the situation (from my experience with other speakers at this level) appears to demand attention.\",\n          \"Bought this and tried to use it. It did not work well. Got another one and had the same problem. The only good thing was that the sellers responded well and on time and they sent a new product without any cost. Outside of that I would not recommend the product....\"\n        ],\n        \"semantic_type\": \"\",\n        \"description\": \"\"\n      }\n    }\n  ]\n}"
            }
          },
          "metadata": {},
          "execution_count": 45
        }
      ]
    },
    {
      "cell_type": "code",
      "source": [
        "df['new_rating'] = np.where(df['star_rating'] <= 3, 0, 1)\n",
        "\n",
        "# check your work!\n",
        "#print('The mean of medv is:', df['medv'].mean())\n",
        "df.head()"
      ],
      "metadata": {
        "colab": {
          "base_uri": "https://localhost:8080/",
          "height": 292
        },
        "id": "qaoh1zPBMAWd",
        "outputId": "6325a6ce-e276-4d14-981a-f3889e20ee8c"
      },
      "execution_count": null,
      "outputs": [
        {
          "output_type": "execute_result",
          "data": {
            "text/plain": [
              "   product_id                                      product_title  Brands  \\\n",
              "0  B001FE9KU6     ALTEC LANSING IM207 orbit-mp3 portable speaker  ALTEC    \n",
              "1  B001FE9KU6     ALTEC LANSING IM207 orbit-mp3 portable speaker  ALTEC    \n",
              "2  B001FE9KU6     ALTEC LANSING IM207 orbit-mp3 portable speaker  ALTEC    \n",
              "3  B002PU9RO8  Altec Lansing inMotion MIX Digital Portable Bo...  ALTEC    \n",
              "4  B00T7Z0BVW  Beats Pill Portable Speaker (Pink) - Newest Model   Beats   \n",
              "\n",
              "   star_rating verified_purchase  \\\n",
              "0            2                 Y   \n",
              "1            5                 Y   \n",
              "2            3                 Y   \n",
              "3            3                 Y   \n",
              "4            1                 Y   \n",
              "\n",
              "                                     review_headline  \\\n",
              "0  Cheap plastic feel. Speaker sounds good when y...   \n",
              "1                                            Speaker   \n",
              "2                                        Three Stars   \n",
              "3                                        Three Stars   \n",
              "4  ... instructions and they don't answer emails ...   \n",
              "\n",
              "                                         review_body  new_rating  \n",
              "0  Cheap plastic feel. Hard to turn on and off as...           0  \n",
              "1  I bought this product to use with my iPod touc...           1  \n",
              "2  Ok speaker for easy listening. But I don't do ...           0  \n",
              "3      Out dated iPhone system, not what I expected.           0  \n",
              "4  It doesn't stay charged 12 hours doesn't charg...           0  "
            ],
            "text/html": [
              "\n",
              "  <div id=\"df-4f5e095d-7fbe-46e4-a42c-9d61573b9b4d\" class=\"colab-df-container\">\n",
              "    <div>\n",
              "<style scoped>\n",
              "    .dataframe tbody tr th:only-of-type {\n",
              "        vertical-align: middle;\n",
              "    }\n",
              "\n",
              "    .dataframe tbody tr th {\n",
              "        vertical-align: top;\n",
              "    }\n",
              "\n",
              "    .dataframe thead th {\n",
              "        text-align: right;\n",
              "    }\n",
              "</style>\n",
              "<table border=\"1\" class=\"dataframe\">\n",
              "  <thead>\n",
              "    <tr style=\"text-align: right;\">\n",
              "      <th></th>\n",
              "      <th>product_id</th>\n",
              "      <th>product_title</th>\n",
              "      <th>Brands</th>\n",
              "      <th>star_rating</th>\n",
              "      <th>verified_purchase</th>\n",
              "      <th>review_headline</th>\n",
              "      <th>review_body</th>\n",
              "      <th>new_rating</th>\n",
              "    </tr>\n",
              "  </thead>\n",
              "  <tbody>\n",
              "    <tr>\n",
              "      <th>0</th>\n",
              "      <td>B001FE9KU6</td>\n",
              "      <td>ALTEC LANSING IM207 orbit-mp3 portable speaker</td>\n",
              "      <td>ALTEC</td>\n",
              "      <td>2</td>\n",
              "      <td>Y</td>\n",
              "      <td>Cheap plastic feel. Speaker sounds good when y...</td>\n",
              "      <td>Cheap plastic feel. Hard to turn on and off as...</td>\n",
              "      <td>0</td>\n",
              "    </tr>\n",
              "    <tr>\n",
              "      <th>1</th>\n",
              "      <td>B001FE9KU6</td>\n",
              "      <td>ALTEC LANSING IM207 orbit-mp3 portable speaker</td>\n",
              "      <td>ALTEC</td>\n",
              "      <td>5</td>\n",
              "      <td>Y</td>\n",
              "      <td>Speaker</td>\n",
              "      <td>I bought this product to use with my iPod touc...</td>\n",
              "      <td>1</td>\n",
              "    </tr>\n",
              "    <tr>\n",
              "      <th>2</th>\n",
              "      <td>B001FE9KU6</td>\n",
              "      <td>ALTEC LANSING IM207 orbit-mp3 portable speaker</td>\n",
              "      <td>ALTEC</td>\n",
              "      <td>3</td>\n",
              "      <td>Y</td>\n",
              "      <td>Three Stars</td>\n",
              "      <td>Ok speaker for easy listening. But I don't do ...</td>\n",
              "      <td>0</td>\n",
              "    </tr>\n",
              "    <tr>\n",
              "      <th>3</th>\n",
              "      <td>B002PU9RO8</td>\n",
              "      <td>Altec Lansing inMotion MIX Digital Portable Bo...</td>\n",
              "      <td>ALTEC</td>\n",
              "      <td>3</td>\n",
              "      <td>Y</td>\n",
              "      <td>Three Stars</td>\n",
              "      <td>Out dated iPhone system, not what I expected.</td>\n",
              "      <td>0</td>\n",
              "    </tr>\n",
              "    <tr>\n",
              "      <th>4</th>\n",
              "      <td>B00T7Z0BVW</td>\n",
              "      <td>Beats Pill Portable Speaker (Pink) - Newest Model</td>\n",
              "      <td>Beats</td>\n",
              "      <td>1</td>\n",
              "      <td>Y</td>\n",
              "      <td>... instructions and they don't answer emails ...</td>\n",
              "      <td>It doesn't stay charged 12 hours doesn't charg...</td>\n",
              "      <td>0</td>\n",
              "    </tr>\n",
              "  </tbody>\n",
              "</table>\n",
              "</div>\n",
              "    <div class=\"colab-df-buttons\">\n",
              "\n",
              "  <div class=\"colab-df-container\">\n",
              "    <button class=\"colab-df-convert\" onclick=\"convertToInteractive('df-4f5e095d-7fbe-46e4-a42c-9d61573b9b4d')\"\n",
              "            title=\"Convert this dataframe to an interactive table.\"\n",
              "            style=\"display:none;\">\n",
              "\n",
              "  <svg xmlns=\"http://www.w3.org/2000/svg\" height=\"24px\" viewBox=\"0 -960 960 960\">\n",
              "    <path d=\"M120-120v-720h720v720H120Zm60-500h600v-160H180v160Zm220 220h160v-160H400v160Zm0 220h160v-160H400v160ZM180-400h160v-160H180v160Zm440 0h160v-160H620v160ZM180-180h160v-160H180v160Zm440 0h160v-160H620v160Z\"/>\n",
              "  </svg>\n",
              "    </button>\n",
              "\n",
              "  <style>\n",
              "    .colab-df-container {\n",
              "      display:flex;\n",
              "      gap: 12px;\n",
              "    }\n",
              "\n",
              "    .colab-df-convert {\n",
              "      background-color: #E8F0FE;\n",
              "      border: none;\n",
              "      border-radius: 50%;\n",
              "      cursor: pointer;\n",
              "      display: none;\n",
              "      fill: #1967D2;\n",
              "      height: 32px;\n",
              "      padding: 0 0 0 0;\n",
              "      width: 32px;\n",
              "    }\n",
              "\n",
              "    .colab-df-convert:hover {\n",
              "      background-color: #E2EBFA;\n",
              "      box-shadow: 0px 1px 2px rgba(60, 64, 67, 0.3), 0px 1px 3px 1px rgba(60, 64, 67, 0.15);\n",
              "      fill: #174EA6;\n",
              "    }\n",
              "\n",
              "    .colab-df-buttons div {\n",
              "      margin-bottom: 4px;\n",
              "    }\n",
              "\n",
              "    [theme=dark] .colab-df-convert {\n",
              "      background-color: #3B4455;\n",
              "      fill: #D2E3FC;\n",
              "    }\n",
              "\n",
              "    [theme=dark] .colab-df-convert:hover {\n",
              "      background-color: #434B5C;\n",
              "      box-shadow: 0px 1px 3px 1px rgba(0, 0, 0, 0.15);\n",
              "      filter: drop-shadow(0px 1px 2px rgba(0, 0, 0, 0.3));\n",
              "      fill: #FFFFFF;\n",
              "    }\n",
              "  </style>\n",
              "\n",
              "    <script>\n",
              "      const buttonEl =\n",
              "        document.querySelector('#df-4f5e095d-7fbe-46e4-a42c-9d61573b9b4d button.colab-df-convert');\n",
              "      buttonEl.style.display =\n",
              "        google.colab.kernel.accessAllowed ? 'block' : 'none';\n",
              "\n",
              "      async function convertToInteractive(key) {\n",
              "        const element = document.querySelector('#df-4f5e095d-7fbe-46e4-a42c-9d61573b9b4d');\n",
              "        const dataTable =\n",
              "          await google.colab.kernel.invokeFunction('convertToInteractive',\n",
              "                                                    [key], {});\n",
              "        if (!dataTable) return;\n",
              "\n",
              "        const docLinkHtml = 'Like what you see? Visit the ' +\n",
              "          '<a target=\"_blank\" href=https://colab.research.google.com/notebooks/data_table.ipynb>data table notebook</a>'\n",
              "          + ' to learn more about interactive tables.';\n",
              "        element.innerHTML = '';\n",
              "        dataTable['output_type'] = 'display_data';\n",
              "        await google.colab.output.renderOutput(dataTable, element);\n",
              "        const docLink = document.createElement('div');\n",
              "        docLink.innerHTML = docLinkHtml;\n",
              "        element.appendChild(docLink);\n",
              "      }\n",
              "    </script>\n",
              "  </div>\n",
              "\n",
              "\n",
              "<div id=\"df-c73b2d07-2b01-4a78-9d73-f245f230ab13\">\n",
              "  <button class=\"colab-df-quickchart\" onclick=\"quickchart('df-c73b2d07-2b01-4a78-9d73-f245f230ab13')\"\n",
              "            title=\"Suggest charts\"\n",
              "            style=\"display:none;\">\n",
              "\n",
              "<svg xmlns=\"http://www.w3.org/2000/svg\" height=\"24px\"viewBox=\"0 0 24 24\"\n",
              "     width=\"24px\">\n",
              "    <g>\n",
              "        <path d=\"M19 3H5c-1.1 0-2 .9-2 2v14c0 1.1.9 2 2 2h14c1.1 0 2-.9 2-2V5c0-1.1-.9-2-2-2zM9 17H7v-7h2v7zm4 0h-2V7h2v10zm4 0h-2v-4h2v4z\"/>\n",
              "    </g>\n",
              "</svg>\n",
              "  </button>\n",
              "\n",
              "<style>\n",
              "  .colab-df-quickchart {\n",
              "      --bg-color: #E8F0FE;\n",
              "      --fill-color: #1967D2;\n",
              "      --hover-bg-color: #E2EBFA;\n",
              "      --hover-fill-color: #174EA6;\n",
              "      --disabled-fill-color: #AAA;\n",
              "      --disabled-bg-color: #DDD;\n",
              "  }\n",
              "\n",
              "  [theme=dark] .colab-df-quickchart {\n",
              "      --bg-color: #3B4455;\n",
              "      --fill-color: #D2E3FC;\n",
              "      --hover-bg-color: #434B5C;\n",
              "      --hover-fill-color: #FFFFFF;\n",
              "      --disabled-bg-color: #3B4455;\n",
              "      --disabled-fill-color: #666;\n",
              "  }\n",
              "\n",
              "  .colab-df-quickchart {\n",
              "    background-color: var(--bg-color);\n",
              "    border: none;\n",
              "    border-radius: 50%;\n",
              "    cursor: pointer;\n",
              "    display: none;\n",
              "    fill: var(--fill-color);\n",
              "    height: 32px;\n",
              "    padding: 0;\n",
              "    width: 32px;\n",
              "  }\n",
              "\n",
              "  .colab-df-quickchart:hover {\n",
              "    background-color: var(--hover-bg-color);\n",
              "    box-shadow: 0 1px 2px rgba(60, 64, 67, 0.3), 0 1px 3px 1px rgba(60, 64, 67, 0.15);\n",
              "    fill: var(--button-hover-fill-color);\n",
              "  }\n",
              "\n",
              "  .colab-df-quickchart-complete:disabled,\n",
              "  .colab-df-quickchart-complete:disabled:hover {\n",
              "    background-color: var(--disabled-bg-color);\n",
              "    fill: var(--disabled-fill-color);\n",
              "    box-shadow: none;\n",
              "  }\n",
              "\n",
              "  .colab-df-spinner {\n",
              "    border: 2px solid var(--fill-color);\n",
              "    border-color: transparent;\n",
              "    border-bottom-color: var(--fill-color);\n",
              "    animation:\n",
              "      spin 1s steps(1) infinite;\n",
              "  }\n",
              "\n",
              "  @keyframes spin {\n",
              "    0% {\n",
              "      border-color: transparent;\n",
              "      border-bottom-color: var(--fill-color);\n",
              "      border-left-color: var(--fill-color);\n",
              "    }\n",
              "    20% {\n",
              "      border-color: transparent;\n",
              "      border-left-color: var(--fill-color);\n",
              "      border-top-color: var(--fill-color);\n",
              "    }\n",
              "    30% {\n",
              "      border-color: transparent;\n",
              "      border-left-color: var(--fill-color);\n",
              "      border-top-color: var(--fill-color);\n",
              "      border-right-color: var(--fill-color);\n",
              "    }\n",
              "    40% {\n",
              "      border-color: transparent;\n",
              "      border-right-color: var(--fill-color);\n",
              "      border-top-color: var(--fill-color);\n",
              "    }\n",
              "    60% {\n",
              "      border-color: transparent;\n",
              "      border-right-color: var(--fill-color);\n",
              "    }\n",
              "    80% {\n",
              "      border-color: transparent;\n",
              "      border-right-color: var(--fill-color);\n",
              "      border-bottom-color: var(--fill-color);\n",
              "    }\n",
              "    90% {\n",
              "      border-color: transparent;\n",
              "      border-bottom-color: var(--fill-color);\n",
              "    }\n",
              "  }\n",
              "</style>\n",
              "\n",
              "  <script>\n",
              "    async function quickchart(key) {\n",
              "      const quickchartButtonEl =\n",
              "        document.querySelector('#' + key + ' button');\n",
              "      quickchartButtonEl.disabled = true;  // To prevent multiple clicks.\n",
              "      quickchartButtonEl.classList.add('colab-df-spinner');\n",
              "      try {\n",
              "        const charts = await google.colab.kernel.invokeFunction(\n",
              "            'suggestCharts', [key], {});\n",
              "      } catch (error) {\n",
              "        console.error('Error during call to suggestCharts:', error);\n",
              "      }\n",
              "      quickchartButtonEl.classList.remove('colab-df-spinner');\n",
              "      quickchartButtonEl.classList.add('colab-df-quickchart-complete');\n",
              "    }\n",
              "    (() => {\n",
              "      let quickchartButtonEl =\n",
              "        document.querySelector('#df-c73b2d07-2b01-4a78-9d73-f245f230ab13 button');\n",
              "      quickchartButtonEl.style.display =\n",
              "        google.colab.kernel.accessAllowed ? 'block' : 'none';\n",
              "    })();\n",
              "  </script>\n",
              "</div>\n",
              "    </div>\n",
              "  </div>\n"
            ],
            "application/vnd.google.colaboratory.intrinsic+json": {
              "type": "dataframe",
              "variable_name": "df",
              "summary": "{\n  \"name\": \"df\",\n  \"rows\": 5726,\n  \"fields\": [\n    {\n      \"column\": \"product_id\",\n      \"properties\": {\n        \"dtype\": \"category\",\n        \"num_unique_values\": 1068,\n        \"samples\": [\n          \"B00KMD27T2\",\n          \"B006H6V4TW\",\n          \"B007KOSW6I\"\n        ],\n        \"semantic_type\": \"\",\n        \"description\": \"\"\n      }\n    },\n    {\n      \"column\": \"product_title\",\n      \"properties\": {\n        \"dtype\": \"category\",\n        \"num_unique_values\": 1033,\n        \"samples\": [\n          \"Sonic Impact I-P23 Portable Speakers for iPod\",\n          \"Rocksteady XS Portable Bluetooth Stereo Speaker - Stylish & Rugged with Killer Sound Quality - Black\",\n          \"Pyle Complete Audio/Video/Camera Package for Car/Truck/SUV -- PLDNV71BTU - 7-Inch Motorized TFT Touch Screen DVD/CD/MP3 Player with AM/FM/SD USB/ Bluetooth/Built-In GPS/TTS with USA/Canada & Mexico Maps + PLA2200 2-Channel 1400w Bridgeable Mosfet Amplifier + PLHB10 Dual 10\\\" 800W Hatchback Speaker Cabinet + PLCM22IR Water Proof Rear View Camera with Lux Night Vision Capability + PLAM14 20 Ft. 8 Gau\"\n        ],\n        \"semantic_type\": \"\",\n        \"description\": \"\"\n      }\n    },\n    {\n      \"column\": \"Brands\",\n      \"properties\": {\n        \"dtype\": \"category\",\n        \"num_unique_values\": 6,\n        \"samples\": [\n          \"ALTEC \",\n          \"Beats\",\n          \"Others\"\n        ],\n        \"semantic_type\": \"\",\n        \"description\": \"\"\n      }\n    },\n    {\n      \"column\": \"star_rating\",\n      \"properties\": {\n        \"dtype\": \"number\",\n        \"std\": 1,\n        \"min\": 1,\n        \"max\": 5,\n        \"num_unique_values\": 5,\n        \"samples\": [\n          5,\n          4,\n          3\n        ],\n        \"semantic_type\": \"\",\n        \"description\": \"\"\n      }\n    },\n    {\n      \"column\": \"verified_purchase\",\n      \"properties\": {\n        \"dtype\": \"category\",\n        \"num_unique_values\": 2,\n        \"samples\": [\n          \"N\",\n          \"Y\"\n        ],\n        \"semantic_type\": \"\",\n        \"description\": \"\"\n      }\n    },\n    {\n      \"column\": \"review_headline\",\n      \"properties\": {\n        \"dtype\": \"string\",\n        \"num_unique_values\": 4605,\n        \"samples\": [\n          \"Inexpensive upgrade for stock Ford speakers\",\n          \"Awesome!  Highly recommended!  Sounds very good.\"\n        ],\n        \"semantic_type\": \"\",\n        \"description\": \"\"\n      }\n    },\n    {\n      \"column\": \"review_body\",\n      \"properties\": {\n        \"dtype\": \"string\",\n        \"num_unique_values\": 5711,\n        \"samples\": [\n          \"I like the blue color, the texture of the covering, and the look. It's bigger than most speakers and lacks the cube, tube, or block shapes of other Bluetooth types of audio. The set-up is easy, and the buttons are recessed well so to keep the visual attention on the design. The speaker stays upright and has a more solid center; I have tried others where vibrations pull the speaker along!<br /><br />However, the sound is sub-par. Crackling and hiss persisted when I tried this out (as asked) with different sound streams on audio connection with the provided mini-plug. I thought it might be the wire, but I tried another one than the one in the box: same problem.<br /><br />So, while I applaud the design and the intent, the product as provided me for testing is not up to the satisfactory sound level I expect, even for a more modest price point. The booklet admits it may take 8 hours for the speaker to &#34;break in,&#34; but given the noticeable hiss from the speaker, the situation (from my experience with other speakers at this level) appears to demand attention.\",\n          \"Bought this and tried to use it. It did not work well. Got another one and had the same problem. The only good thing was that the sellers responded well and on time and they sent a new product without any cost. Outside of that I would not recommend the product....\"\n        ],\n        \"semantic_type\": \"\",\n        \"description\": \"\"\n      }\n    },\n    {\n      \"column\": \"new_rating\",\n      \"properties\": {\n        \"dtype\": \"number\",\n        \"std\": 0,\n        \"min\": 0,\n        \"max\": 1,\n        \"num_unique_values\": 2,\n        \"samples\": [\n          1,\n          0\n        ],\n        \"semantic_type\": \"\",\n        \"description\": \"\"\n      }\n    }\n  ]\n}"
            }
          },
          "metadata": {},
          "execution_count": 46
        }
      ]
    },
    {
      "source": [
        "from matplotlib import pyplot as plt\n",
        "import seaborn as sns\n",
        "_df_5.groupby('review_headline').size().plot(kind='barh', color=sns.palettes.mpl_palette('Dark2'))\n",
        "plt.gca().spines[['top', 'right',]].set_visible(False)"
      ],
      "cell_type": "code",
      "metadata": {
        "colab": {
          "base_uri": "https://localhost:8080/",
          "height": 383
        },
        "id": "ahmy9vgENQZ-",
        "outputId": "4532ec03-a46e-4a71-cd06-890261bdc2a6"
      },
      "execution_count": null,
      "outputs": [
        {
          "output_type": "display_data",
          "data": {
            "text/plain": [
              "<Figure size 640x480 with 1 Axes>"
            ],
            "image/png": "[encoded data removed]"
          },
          "metadata": {}
        }
      ]
    },
    {
      "cell_type": "markdown",
      "metadata": {
        "id": "og3gZbvLvuRF"
      },
      "source": [
        "Let's look at a sample text examples. There is a detailed column (EPISODE_NARRATIVE) and a more concise column (EVENT_NARRATIVE)."
      ]
    },
    {
      "cell_type": "code",
      "metadata": {
        "id": "_tYNUysXwV--",
        "colab": {
          "base_uri": "https://localhost:8080/"
        },
        "outputId": "3bf24253-0b92-4065-fcd0-f3b1f427dbed"
      },
      "source": [
        "# there's a more detailed column called \"EPISODE_NARRATIVE\"\n",
        "print(df['review_body'][0])\n",
        "print(df['review_body'][1])\n",
        "print(df['review_body'][2])"
      ],
      "execution_count": null,
      "outputs": [
        {
          "output_type": "stream",
          "name": "stdout",
          "text": [
            "Cheap plastic feel. Hard to turn on and off as it is difficult to twist. But if you can get past that, you get decent sound quality in a small portable speaker. Batteries last at least several hours. Recommend spending a little more on something like a Jambox and you will be much happier.\n",
            "I bought this product to use with my iPod touch.  I use it at work a lot.  Plus, I use it when I workout.\n",
            "Ok speaker for easy listening. But I don't do ANYTHING easy. So I bought a Bose!\n"
          ]
        }
      ]
    },
    {
      "cell_type": "markdown",
      "metadata": {
        "id": "WYXSONYTUU8D"
      },
      "source": [
        "As we are trying to classify event type based on the narrative, lets get rid of the rows where the data narrative is not available"
      ]
    },
    {
      "cell_type": "code",
      "metadata": {
        "id": "hT7c3ETdUUlo",
        "colab": {
          "base_uri": "https://localhost:8080/"
        },
        "outputId": "f50af690-9da3-462f-80ae-f8a094ed7bbe"
      },
      "source": [
        "# Checking for null values in event narrative column\n",
        "df.info()\n",
        "\n",
        "# the data is MOSTLY good but has some nulls, so we drop it."
      ],
      "execution_count": null,
      "outputs": [
        {
          "output_type": "stream",
          "name": "stdout",
          "text": [
            "<class 'pandas.core.frame.DataFrame'>\n",
            "RangeIndex: 5726 entries, 0 to 5725\n",
            "Data columns (total 8 columns):\n",
            " #   Column             Non-Null Count  Dtype \n",
            "---  ------             --------------  ----- \n",
            " 0   product_id         5726 non-null   object\n",
            " 1   product_title      5726 non-null   object\n",
            " 2   Brands             5726 non-null   object\n",
            " 3   star_rating        5726 non-null   int64 \n",
            " 4   verified_purchase  5726 non-null   object\n",
            " 5   review_headline    5726 non-null   object\n",
            " 6   review_body        5726 non-null   object\n",
            " 7   new_rating         5726 non-null   int64 \n",
            "dtypes: int64(2), object(6)\n",
            "memory usage: 358.0+ KB\n"
          ]
        }
      ]
    },
    {
      "cell_type": "markdown",
      "metadata": {
        "id": "njFpwjL9xSFO"
      },
      "source": [
        "We can make a nice barplot of the different storm types."
      ]
    },
    {
      "cell_type": "code",
      "metadata": {
        "id": "aOSyi-TUXoKi",
        "colab": {
          "base_uri": "https://localhost:8080/",
          "height": 492
        },
        "outputId": "3f810c96-bb02-4ce5-dd3d-9330756f721b"
      },
      "source": [
        "# to sort by frequency...\n",
        "# link: https://stackoverflow.com/questions/46623583/seaborn-countplot-order-categories-by-count\n",
        "\n",
        "plt.figure(figsize=(15,5))\n",
        "ax = sns.countplot(x=\"Brands\", data=df,\n",
        "                   order = df['Brands'].value_counts().index)\n",
        "ax.set_xticklabels(ax.get_xticklabels(), rotation = 90)\n",
        "plt.show()"
      ],
      "execution_count": null,
      "outputs": [
        {
          "output_type": "stream",
          "name": "stderr",
          "text": [
            "<ipython-input-51-f4162c2ee579>:7: UserWarning: FixedFormatter should only be used together with FixedLocator\n",
            "  ax.set_xticklabels(ax.get_xticklabels(), rotation = 90)\n"
          ]
        },
        {
          "output_type": "display_data",
          "data": {
            "text/plain": [
              "<Figure size 1500x500 with 1 Axes>"
            ],
            "image/png": "[encoded data removed]"
          },
          "metadata": {}
        }
      ]
    },
    {
      "cell_type": "markdown",
      "metadata": {
        "id": "Hhgj42jhx_0g"
      },
      "source": [
        "Remember, we've made three different versions of the data now:\n",
        "* storm_df (original data)\n",
        "* event_df (has only complete rows for text data)\n",
        "* final_df (contains storms with as least 300 counts)"
      ]
    },
    {
      "cell_type": "markdown",
      "metadata": {
        "id": "Q7o7g48c5jrC"
      },
      "source": [
        "# Exploring the text data\n",
        "Let's compare hail storms and flash floods and see what's going on."
      ]
    },
    {
      "cell_type": "markdown",
      "metadata": {
        "id": "B4_GsjuX5y0U"
      },
      "source": [
        "# Subset Hail data\n",
        "First things first - let's take a peak at just the hail storms."
      ]
    },
    {
      "cell_type": "code",
      "metadata": {
        "id": "Lps5nVL9h9e0",
        "colab": {
          "base_uri": "https://localhost:8080/"
        },
        "outputId": "faaa219a-93a0-419c-9993-7903a5328a5f"
      },
      "source": [
        "# before we get started, here are the first three rows\n",
        "print(df['review_body'][0])\n",
        "print(df['review_body'][1])\n",
        "print(df['review_body'][2])"
      ],
      "execution_count": null,
      "outputs": [
        {
          "output_type": "stream",
          "name": "stdout",
          "text": [
            "Cheap plastic feel. Hard to turn on and off as it is difficult to twist. But if you can get past that, you get decent sound quality in a small portable speaker. Batteries last at least several hours. Recommend spending a little more on something like a Jambox and you will be much happier.\n",
            "I bought this product to use with my iPod touch.  I use it at work a lot.  Plus, I use it when I workout.\n",
            "Ok speaker for easy listening. But I don't do ANYTHING easy. So I bought a Bose!\n"
          ]
        }
      ]
    },
    {
      "cell_type": "code",
      "metadata": {
        "id": "7tBAP3RcUObS",
        "colab": {
          "base_uri": "https://localhost:8080/",
          "height": 292
        },
        "outputId": "4df1cc78-7ccd-4bfa-d4b0-a3513b4d5209"
      },
      "source": [
        "# make everything lowercase\n",
        "df['review_body'] = df['review_body'].str.lower()\n",
        "df.head()"
      ],
      "execution_count": null,
      "outputs": [
        {
          "output_type": "execute_result",
          "data": {
            "text/plain": [
              "   product_id                                      product_title  Brands  \\\n",
              "0  B001FE9KU6     ALTEC LANSING IM207 orbit-mp3 portable speaker  ALTEC    \n",
              "1  B001FE9KU6     ALTEC LANSING IM207 orbit-mp3 portable speaker  ALTEC    \n",
              "2  B001FE9KU6     ALTEC LANSING IM207 orbit-mp3 portable speaker  ALTEC    \n",
              "3  B002PU9RO8  Altec Lansing inMotion MIX Digital Portable Bo...  ALTEC    \n",
              "4  B00T7Z0BVW  Beats Pill Portable Speaker (Pink) - Newest Model   Beats   \n",
              "\n",
              "   star_rating verified_purchase  \\\n",
              "0            2                 Y   \n",
              "1            5                 Y   \n",
              "2            3                 Y   \n",
              "3            3                 Y   \n",
              "4            1                 Y   \n",
              "\n",
              "                                     review_headline  \\\n",
              "0  Cheap plastic feel. Speaker sounds good when y...   \n",
              "1                                            Speaker   \n",
              "2                                        Three Stars   \n",
              "3                                        Three Stars   \n",
              "4  ... instructions and they don't answer emails ...   \n",
              "\n",
              "                                         review_body  new_rating  \n",
              "0  cheap plastic feel. hard to turn on and off as...           0  \n",
              "1  i bought this product to use with my ipod touc...           1  \n",
              "2  ok speaker for easy listening. but i don't do ...           0  \n",
              "3      out dated iphone system, not what i expected.           0  \n",
              "4  it doesn't stay charged 12 hours doesn't charg...           0  "
            ],
            "text/html": [
              "\n",
              "  <div id=\"df-5917d127-a30d-4bea-b5b0-0e6fabdaa3b8\" class=\"colab-df-container\">\n",
              "    <div>\n",
              "<style scoped>\n",
              "    .dataframe tbody tr th:only-of-type {\n",
              "        vertical-align: middle;\n",
              "    }\n",
              "\n",
              "    .dataframe tbody tr th {\n",
              "        vertical-align: top;\n",
              "    }\n",
              "\n",
              "    .dataframe thead th {\n",
              "        text-align: right;\n",
              "    }\n",
              "</style>\n",
              "<table border=\"1\" class=\"dataframe\">\n",
              "  <thead>\n",
              "    <tr style=\"text-align: right;\">\n",
              "      <th></th>\n",
              "      <th>product_id</th>\n",
              "      <th>product_title</th>\n",
              "      <th>Brands</th>\n",
              "      <th>star_rating</th>\n",
              "      <th>verified_purchase</th>\n",
              "      <th>review_headline</th>\n",
              "      <th>review_body</th>\n",
              "      <th>new_rating</th>\n",
              "    </tr>\n",
              "  </thead>\n",
              "  <tbody>\n",
              "    <tr>\n",
              "      <th>0</th>\n",
              "      <td>B001FE9KU6</td>\n",
              "      <td>ALTEC LANSING IM207 orbit-mp3 portable speaker</td>\n",
              "      <td>ALTEC</td>\n",
              "      <td>2</td>\n",
              "      <td>Y</td>\n",
              "      <td>Cheap plastic feel. Speaker sounds good when y...</td>\n",
              "      <td>cheap plastic feel. hard to turn on and off as...</td>\n",
              "      <td>0</td>\n",
              "    </tr>\n",
              "    <tr>\n",
              "      <th>1</th>\n",
              "      <td>B001FE9KU6</td>\n",
              "      <td>ALTEC LANSING IM207 orbit-mp3 portable speaker</td>\n",
              "      <td>ALTEC</td>\n",
              "      <td>5</td>\n",
              "      <td>Y</td>\n",
              "      <td>Speaker</td>\n",
              "      <td>i bought this product to use with my ipod touc...</td>\n",
              "      <td>1</td>\n",
              "    </tr>\n",
              "    <tr>\n",
              "      <th>2</th>\n",
              "      <td>B001FE9KU6</td>\n",
              "      <td>ALTEC LANSING IM207 orbit-mp3 portable speaker</td>\n",
              "      <td>ALTEC</td>\n",
              "      <td>3</td>\n",
              "      <td>Y</td>\n",
              "      <td>Three Stars</td>\n",
              "      <td>ok speaker for easy listening. but i don't do ...</td>\n",
              "      <td>0</td>\n",
              "    </tr>\n",
              "    <tr>\n",
              "      <th>3</th>\n",
              "      <td>B002PU9RO8</td>\n",
              "      <td>Altec Lansing inMotion MIX Digital Portable Bo...</td>\n",
              "      <td>ALTEC</td>\n",
              "      <td>3</td>\n",
              "      <td>Y</td>\n",
              "      <td>Three Stars</td>\n",
              "      <td>out dated iphone system, not what i expected.</td>\n",
              "      <td>0</td>\n",
              "    </tr>\n",
              "    <tr>\n",
              "      <th>4</th>\n",
              "      <td>B00T7Z0BVW</td>\n",
              "      <td>Beats Pill Portable Speaker (Pink) - Newest Model</td>\n",
              "      <td>Beats</td>\n",
              "      <td>1</td>\n",
              "      <td>Y</td>\n",
              "      <td>... instructions and they don't answer emails ...</td>\n",
              "      <td>it doesn't stay charged 12 hours doesn't charg...</td>\n",
              "      <td>0</td>\n",
              "    </tr>\n",
              "  </tbody>\n",
              "</table>\n",
              "</div>\n",
              "    <div class=\"colab-df-buttons\">\n",
              "\n",
              "  <div class=\"colab-df-container\">\n",
              "    <button class=\"colab-df-convert\" onclick=\"convertToInteractive('df-5917d127-a30d-4bea-b5b0-0e6fabdaa3b8')\"\n",
              "            title=\"Convert this dataframe to an interactive table.\"\n",
              "            style=\"display:none;\">\n",
              "\n",
              "  <svg xmlns=\"http://www.w3.org/2000/svg\" height=\"24px\" viewBox=\"0 -960 960 960\">\n",
              "    <path d=\"M120-120v-720h720v720H120Zm60-500h600v-160H180v160Zm220 220h160v-160H400v160Zm0 220h160v-160H400v160ZM180-400h160v-160H180v160Zm440 0h160v-160H620v160ZM180-180h160v-160H180v160Zm440 0h160v-160H620v160Z\"/>\n",
              "  </svg>\n",
              "    </button>\n",
              "\n",
              "  <style>\n",
              "    .colab-df-container {\n",
              "      display:flex;\n",
              "      gap: 12px;\n",
              "    }\n",
              "\n",
              "    .colab-df-convert {\n",
              "      background-color: #E8F0FE;\n",
              "      border: none;\n",
              "      border-radius: 50%;\n",
              "      cursor: pointer;\n",
              "      display: none;\n",
              "      fill: #1967D2;\n",
              "      height: 32px;\n",
              "      padding: 0 0 0 0;\n",
              "      width: 32px;\n",
              "    }\n",
              "\n",
              "    .colab-df-convert:hover {\n",
              "      background-color: #E2EBFA;\n",
              "      box-shadow: 0px 1px 2px rgba(60, 64, 67, 0.3), 0px 1px 3px 1px rgba(60, 64, 67, 0.15);\n",
              "      fill: #174EA6;\n",
              "    }\n",
              "\n",
              "    .colab-df-buttons div {\n",
              "      margin-bottom: 4px;\n",
              "    }\n",
              "\n",
              "    [theme=dark] .colab-df-convert {\n",
              "      background-color: #3B4455;\n",
              "      fill: #D2E3FC;\n",
              "    }\n",
              "\n",
              "    [theme=dark] .colab-df-convert:hover {\n",
              "      background-color: #434B5C;\n",
              "      box-shadow: 0px 1px 3px 1px rgba(0, 0, 0, 0.15);\n",
              "      filter: drop-shadow(0px 1px 2px rgba(0, 0, 0, 0.3));\n",
              "      fill: #FFFFFF;\n",
              "    }\n",
              "  </style>\n",
              "\n",
              "    <script>\n",
              "      const buttonEl =\n",
              "        document.querySelector('#df-5917d127-a30d-4bea-b5b0-0e6fabdaa3b8 button.colab-df-convert');\n",
              "      buttonEl.style.display =\n",
              "        google.colab.kernel.accessAllowed ? 'block' : 'none';\n",
              "\n",
              "      async function convertToInteractive(key) {\n",
              "        const element = document.querySelector('#df-5917d127-a30d-4bea-b5b0-0e6fabdaa3b8');\n",
              "        const dataTable =\n",
              "          await google.colab.kernel.invokeFunction('convertToInteractive',\n",
              "                                                    [key], {});\n",
              "        if (!dataTable) return;\n",
              "\n",
              "        const docLinkHtml = 'Like what you see? Visit the ' +\n",
              "          '<a target=\"_blank\" href=https://colab.research.google.com/notebooks/data_table.ipynb>data table notebook</a>'\n",
              "          + ' to learn more about interactive tables.';\n",
              "        element.innerHTML = '';\n",
              "        dataTable['output_type'] = 'display_data';\n",
              "        await google.colab.output.renderOutput(dataTable, element);\n",
              "        const docLink = document.createElement('div');\n",
              "        docLink.innerHTML = docLinkHtml;\n",
              "        element.appendChild(docLink);\n",
              "      }\n",
              "    </script>\n",
              "  </div>\n",
              "\n",
              "\n",
              "<div id=\"df-a84ea241-9651-44ca-b9ad-ed370ff385f3\">\n",
              "  <button class=\"colab-df-quickchart\" onclick=\"quickchart('df-a84ea241-9651-44ca-b9ad-ed370ff385f3')\"\n",
              "            title=\"Suggest charts\"\n",
              "            style=\"display:none;\">\n",
              "\n",
              "<svg xmlns=\"http://www.w3.org/2000/svg\" height=\"24px\"viewBox=\"0 0 24 24\"\n",
              "     width=\"24px\">\n",
              "    <g>\n",
              "        <path d=\"M19 3H5c-1.1 0-2 .9-2 2v14c0 1.1.9 2 2 2h14c1.1 0 2-.9 2-2V5c0-1.1-.9-2-2-2zM9 17H7v-7h2v7zm4 0h-2V7h2v10zm4 0h-2v-4h2v4z\"/>\n",
              "    </g>\n",
              "</svg>\n",
              "  </button>\n",
              "\n",
              "<style>\n",
              "  .colab-df-quickchart {\n",
              "      --bg-color: #E8F0FE;\n",
              "      --fill-color: #1967D2;\n",
              "      --hover-bg-color: #E2EBFA;\n",
              "      --hover-fill-color: #174EA6;\n",
              "      --disabled-fill-color: #AAA;\n",
              "      --disabled-bg-color: #DDD;\n",
              "  }\n",
              "\n",
              "  [theme=dark] .colab-df-quickchart {\n",
              "      --bg-color: #3B4455;\n",
              "      --fill-color: #D2E3FC;\n",
              "      --hover-bg-color: #434B5C;\n",
              "      --hover-fill-color: #FFFFFF;\n",
              "      --disabled-bg-color: #3B4455;\n",
              "      --disabled-fill-color: #666;\n",
              "  }\n",
              "\n",
              "  .colab-df-quickchart {\n",
              "    background-color: var(--bg-color);\n",
              "    border: none;\n",
              "    border-radius: 50%;\n",
              "    cursor: pointer;\n",
              "    display: none;\n",
              "    fill: var(--fill-color);\n",
              "    height: 32px;\n",
              "    padding: 0;\n",
              "    width: 32px;\n",
              "  }\n",
              "\n",
              "  .colab-df-quickchart:hover {\n",
              "    background-color: var(--hover-bg-color);\n",
              "    box-shadow: 0 1px 2px rgba(60, 64, 67, 0.3), 0 1px 3px 1px rgba(60, 64, 67, 0.15);\n",
              "    fill: var(--button-hover-fill-color);\n",
              "  }\n",
              "\n",
              "  .colab-df-quickchart-complete:disabled,\n",
              "  .colab-df-quickchart-complete:disabled:hover {\n",
              "    background-color: var(--disabled-bg-color);\n",
              "    fill: var(--disabled-fill-color);\n",
              "    box-shadow: none;\n",
              "  }\n",
              "\n",
              "  .colab-df-spinner {\n",
              "    border: 2px solid var(--fill-color);\n",
              "    border-color: transparent;\n",
              "    border-bottom-color: var(--fill-color);\n",
              "    animation:\n",
              "      spin 1s steps(1) infinite;\n",
              "  }\n",
              "\n",
              "  @keyframes spin {\n",
              "    0% {\n",
              "      border-color: transparent;\n",
              "      border-bottom-color: var(--fill-color);\n",
              "      border-left-color: var(--fill-color);\n",
              "    }\n",
              "    20% {\n",
              "      border-color: transparent;\n",
              "      border-left-color: var(--fill-color);\n",
              "      border-top-color: var(--fill-color);\n",
              "    }\n",
              "    30% {\n",
              "      border-color: transparent;\n",
              "      border-left-color: var(--fill-color);\n",
              "      border-top-color: var(--fill-color);\n",
              "      border-right-color: var(--fill-color);\n",
              "    }\n",
              "    40% {\n",
              "      border-color: transparent;\n",
              "      border-right-color: var(--fill-color);\n",
              "      border-top-color: var(--fill-color);\n",
              "    }\n",
              "    60% {\n",
              "      border-color: transparent;\n",
              "      border-right-color: var(--fill-color);\n",
              "    }\n",
              "    80% {\n",
              "      border-color: transparent;\n",
              "      border-right-color: var(--fill-color);\n",
              "      border-bottom-color: var(--fill-color);\n",
              "    }\n",
              "    90% {\n",
              "      border-color: transparent;\n",
              "      border-bottom-color: var(--fill-color);\n",
              "    }\n",
              "  }\n",
              "</style>\n",
              "\n",
              "  <script>\n",
              "    async function quickchart(key) {\n",
              "      const quickchartButtonEl =\n",
              "        document.querySelector('#' + key + ' button');\n",
              "      quickchartButtonEl.disabled = true;  // To prevent multiple clicks.\n",
              "      quickchartButtonEl.classList.add('colab-df-spinner');\n",
              "      try {\n",
              "        const charts = await google.colab.kernel.invokeFunction(\n",
              "            'suggestCharts', [key], {});\n",
              "      } catch (error) {\n",
              "        console.error('Error during call to suggestCharts:', error);\n",
              "      }\n",
              "      quickchartButtonEl.classList.remove('colab-df-spinner');\n",
              "      quickchartButtonEl.classList.add('colab-df-quickchart-complete');\n",
              "    }\n",
              "    (() => {\n",
              "      let quickchartButtonEl =\n",
              "        document.querySelector('#df-a84ea241-9651-44ca-b9ad-ed370ff385f3 button');\n",
              "      quickchartButtonEl.style.display =\n",
              "        google.colab.kernel.accessAllowed ? 'block' : 'none';\n",
              "    })();\n",
              "  </script>\n",
              "</div>\n",
              "    </div>\n",
              "  </div>\n"
            ],
            "application/vnd.google.colaboratory.intrinsic+json": {
              "type": "dataframe",
              "variable_name": "df",
              "summary": "{\n  \"name\": \"df\",\n  \"rows\": 5726,\n  \"fields\": [\n    {\n      \"column\": \"product_id\",\n      \"properties\": {\n        \"dtype\": \"category\",\n        \"num_unique_values\": 1068,\n        \"samples\": [\n          \"B00KMD27T2\",\n          \"B006H6V4TW\",\n          \"B007KOSW6I\"\n        ],\n        \"semantic_type\": \"\",\n        \"description\": \"\"\n      }\n    },\n    {\n      \"column\": \"product_title\",\n      \"properties\": {\n        \"dtype\": \"category\",\n        \"num_unique_values\": 1033,\n        \"samples\": [\n          \"Sonic Impact I-P23 Portable Speakers for iPod\",\n          \"Rocksteady XS Portable Bluetooth Stereo Speaker - Stylish & Rugged with Killer Sound Quality - Black\",\n          \"Pyle Complete Audio/Video/Camera Package for Car/Truck/SUV -- PLDNV71BTU - 7-Inch Motorized TFT Touch Screen DVD/CD/MP3 Player with AM/FM/SD USB/ Bluetooth/Built-In GPS/TTS with USA/Canada & Mexico Maps + PLA2200 2-Channel 1400w Bridgeable Mosfet Amplifier + PLHB10 Dual 10\\\" 800W Hatchback Speaker Cabinet + PLCM22IR Water Proof Rear View Camera with Lux Night Vision Capability + PLAM14 20 Ft. 8 Gau\"\n        ],\n        \"semantic_type\": \"\",\n        \"description\": \"\"\n      }\n    },\n    {\n      \"column\": \"Brands\",\n      \"properties\": {\n        \"dtype\": \"category\",\n        \"num_unique_values\": 6,\n        \"samples\": [\n          \"ALTEC \",\n          \"Beats\",\n          \"Others\"\n        ],\n        \"semantic_type\": \"\",\n        \"description\": \"\"\n      }\n    },\n    {\n      \"column\": \"star_rating\",\n      \"properties\": {\n        \"dtype\": \"number\",\n        \"std\": 1,\n        \"min\": 1,\n        \"max\": 5,\n        \"num_unique_values\": 5,\n        \"samples\": [\n          5,\n          4,\n          3\n        ],\n        \"semantic_type\": \"\",\n        \"description\": \"\"\n      }\n    },\n    {\n      \"column\": \"verified_purchase\",\n      \"properties\": {\n        \"dtype\": \"category\",\n        \"num_unique_values\": 2,\n        \"samples\": [\n          \"N\",\n          \"Y\"\n        ],\n        \"semantic_type\": \"\",\n        \"description\": \"\"\n      }\n    },\n    {\n      \"column\": \"review_headline\",\n      \"properties\": {\n        \"dtype\": \"string\",\n        \"num_unique_values\": 4605,\n        \"samples\": [\n          \"Inexpensive upgrade for stock Ford speakers\",\n          \"Awesome!  Highly recommended!  Sounds very good.\"\n        ],\n        \"semantic_type\": \"\",\n        \"description\": \"\"\n      }\n    },\n    {\n      \"column\": \"review_body\",\n      \"properties\": {\n        \"dtype\": \"string\",\n        \"num_unique_values\": 5701,\n        \"samples\": [\n          \"1)  voice sensitivity & recognizition is still a big issue  2)  touch sensitivity for volume up & down is a big issue  3)  reaction time is too slow for touch. if cancel the call & then you want to make a call.  you have to really wait.  4)  latest firmware cannot be upgraded if you have 64bit windows or mac    feb 15th, 2011: update    i have sent four emails requesting why cannot i upgrade my blueant firmware (they have removed the upgrade firmware from website).  their website used to show that they are preparing 64bit firmware upgrade procedure and they never did it.  now they have removed instances of upgrading firmware options.      after purchase i was waiting for the firmware upgrade to decide to return.  but i have no options & months gone passed waiting for their updates.  .        please stayoff this product\",\n          \"the sound has not met my expectations and left me surprised. there are other jbl models, with better sound quality.\"\n        ],\n        \"semantic_type\": \"\",\n        \"description\": \"\"\n      }\n    },\n    {\n      \"column\": \"new_rating\",\n      \"properties\": {\n        \"dtype\": \"number\",\n        \"std\": 0,\n        \"min\": 0,\n        \"max\": 1,\n        \"num_unique_values\": 2,\n        \"samples\": [\n          1,\n          0\n        ],\n        \"semantic_type\": \"\",\n        \"description\": \"\"\n      }\n    }\n  ]\n}"
            }
          },
          "metadata": {},
          "execution_count": 53
        }
      ]
    },
    {
      "cell_type": "code",
      "metadata": {
        "id": "jt334WkuzIRr",
        "colab": {
          "base_uri": "https://localhost:8080/"
        },
        "outputId": "288f638c-12c5-4d31-e9fd-3fef8feb8556"
      },
      "source": [
        "# here's an example of what we did\n",
        "print(df['review_body'][0])\n",
        "print(df['review_body'][1])\n",
        "print(df['review_body'][2])"
      ],
      "execution_count": null,
      "outputs": [
        {
          "output_type": "stream",
          "name": "stdout",
          "text": [
            "cheap plastic feel. hard to turn on and off as it is difficult to twist. but if you can get past that, you get decent sound quality in a small portable speaker. batteries last at least several hours. recommend spending a little more on something like a jambox and you will be much happier.\n",
            "i bought this product to use with my ipod touch.  i use it at work a lot.  plus, i use it when i workout.\n",
            "ok speaker for easy listening. but i don't do anything easy. so i bought a bose!\n"
          ]
        }
      ]
    },
    {
      "cell_type": "markdown",
      "metadata": {
        "id": "rNkajiFhqgOs"
      },
      "source": [
        "### Strip funky characters (!,~-@$% etc)\n",
        "Funky characters can be a pain - they make words appear to be unique (think of trouble with strings). Let's ditch 'em!"
      ]
    },
    {
      "cell_type": "code",
      "source": [
        "# Convert all entries in the 'review_body' column to strings\n",
        "df[\"review_body\"] = df[\"review_body\"].astype(str)"
      ],
      "metadata": {
        "id": "YhcZoCWHV4Jv"
      },
      "execution_count": null,
      "outputs": []
    },
    {
      "cell_type": "code",
      "source": [
        "# Remove any funky characters with a blank, including handling extra spaces and trimming\n",
        "df['review_body'] = df['review_body'].str.replace('[^a-zA-Z ]', '', regex=True).str.replace(' +', ' ', regex=True).str.strip()\n",
        "\n",
        "# Display the cleaned DataFrame\n",
        "df.head()"
      ],
      "metadata": {
        "colab": {
          "base_uri": "https://localhost:8080/",
          "height": 310
        },
        "id": "Occ-rbX6RVDD",
        "outputId": "bf84dc97-7e45-4a33-fcfd-c028b2f0e055"
      },
      "execution_count": null,
      "outputs": [
        {
          "output_type": "execute_result",
          "data": {
            "text/plain": [
              "   product_id                                      product_title  Brands  \\\n",
              "0  B001FE9KU6     ALTEC LANSING IM207 orbit-mp3 portable speaker  ALTEC    \n",
              "1  B001FE9KU6     ALTEC LANSING IM207 orbit-mp3 portable speaker  ALTEC    \n",
              "2  B001FE9KU6     ALTEC LANSING IM207 orbit-mp3 portable speaker  ALTEC    \n",
              "3  B002PU9RO8  Altec Lansing inMotion MIX Digital Portable Bo...  ALTEC    \n",
              "4  B00T7Z0BVW  Beats Pill Portable Speaker (Pink) - Newest Model   Beats   \n",
              "\n",
              "   star_rating verified_purchase  \\\n",
              "0            2                 Y   \n",
              "1            5                 Y   \n",
              "2            3                 Y   \n",
              "3            3                 Y   \n",
              "4            1                 Y   \n",
              "\n",
              "                                     review_headline  \\\n",
              "0  Cheap plastic feel. Speaker sounds good when y...   \n",
              "1                                            Speaker   \n",
              "2                                        Three Stars   \n",
              "3                                        Three Stars   \n",
              "4  ... instructions and they don't answer emails ...   \n",
              "\n",
              "                                         review_body  new_rating  \n",
              "0  cheap plastic feel hard to turn on and off as ...           0  \n",
              "1  i bought this product to use with my ipod touc...           1  \n",
              "2  ok speaker for easy listening but i dont do an...           0  \n",
              "3        out dated iphone system not what i expected           0  \n",
              "4  it doesnt stay charged hours doesnt charge ano...           0  "
            ],
            "text/html": [
              "\n",
              "  <div id=\"df-9e8b1318-9fe0-4d5e-ac1e-dfec48c41516\" class=\"colab-df-container\">\n",
              "    <div>\n",
              "<style scoped>\n",
              "    .dataframe tbody tr th:only-of-type {\n",
              "        vertical-align: middle;\n",
              "    }\n",
              "\n",
              "    .dataframe tbody tr th {\n",
              "        vertical-align: top;\n",
              "    }\n",
              "\n",
              "    .dataframe thead th {\n",
              "        text-align: right;\n",
              "    }\n",
              "</style>\n",
              "<table border=\"1\" class=\"dataframe\">\n",
              "  <thead>\n",
              "    <tr style=\"text-align: right;\">\n",
              "      <th></th>\n",
              "      <th>product_id</th>\n",
              "      <th>product_title</th>\n",
              "      <th>Brands</th>\n",
              "      <th>star_rating</th>\n",
              "      <th>verified_purchase</th>\n",
              "      <th>review_headline</th>\n",
              "      <th>review_body</th>\n",
              "      <th>new_rating</th>\n",
              "    </tr>\n",
              "  </thead>\n",
              "  <tbody>\n",
              "    <tr>\n",
              "      <th>0</th>\n",
              "      <td>B001FE9KU6</td>\n",
              "      <td>ALTEC LANSING IM207 orbit-mp3 portable speaker</td>\n",
              "      <td>ALTEC</td>\n",
              "      <td>2</td>\n",
              "      <td>Y</td>\n",
              "      <td>Cheap plastic feel. Speaker sounds good when y...</td>\n",
              "      <td>cheap plastic feel hard to turn on and off as ...</td>\n",
              "      <td>0</td>\n",
              "    </tr>\n",
              "    <tr>\n",
              "      <th>1</th>\n",
              "      <td>B001FE9KU6</td>\n",
              "      <td>ALTEC LANSING IM207 orbit-mp3 portable speaker</td>\n",
              "      <td>ALTEC</td>\n",
              "      <td>5</td>\n",
              "      <td>Y</td>\n",
              "      <td>Speaker</td>\n",
              "      <td>i bought this product to use with my ipod touc...</td>\n",
              "      <td>1</td>\n",
              "    </tr>\n",
              "    <tr>\n",
              "      <th>2</th>\n",
              "      <td>B001FE9KU6</td>\n",
              "      <td>ALTEC LANSING IM207 orbit-mp3 portable speaker</td>\n",
              "      <td>ALTEC</td>\n",
              "      <td>3</td>\n",
              "      <td>Y</td>\n",
              "      <td>Three Stars</td>\n",
              "      <td>ok speaker for easy listening but i dont do an...</td>\n",
              "      <td>0</td>\n",
              "    </tr>\n",
              "    <tr>\n",
              "      <th>3</th>\n",
              "      <td>B002PU9RO8</td>\n",
              "      <td>Altec Lansing inMotion MIX Digital Portable Bo...</td>\n",
              "      <td>ALTEC</td>\n",
              "      <td>3</td>\n",
              "      <td>Y</td>\n",
              "      <td>Three Stars</td>\n",
              "      <td>out dated iphone system not what i expected</td>\n",
              "      <td>0</td>\n",
              "    </tr>\n",
              "    <tr>\n",
              "      <th>4</th>\n",
              "      <td>B00T7Z0BVW</td>\n",
              "      <td>Beats Pill Portable Speaker (Pink) - Newest Model</td>\n",
              "      <td>Beats</td>\n",
              "      <td>1</td>\n",
              "      <td>Y</td>\n",
              "      <td>... instructions and they don't answer emails ...</td>\n",
              "      <td>it doesnt stay charged hours doesnt charge ano...</td>\n",
              "      <td>0</td>\n",
              "    </tr>\n",
              "  </tbody>\n",
              "</table>\n",
              "</div>\n",
              "    <div class=\"colab-df-buttons\">\n",
              "\n",
              "  <div class=\"colab-df-container\">\n",
              "    <button class=\"colab-df-convert\" onclick=\"convertToInteractive('df-9e8b1318-9fe0-4d5e-ac1e-dfec48c41516')\"\n",
              "            title=\"Convert this dataframe to an interactive table.\"\n",
              "            style=\"display:none;\">\n",
              "\n",
              "  <svg xmlns=\"http://www.w3.org/2000/svg\" height=\"24px\" viewBox=\"0 -960 960 960\">\n",
              "    <path d=\"M120-120v-720h720v720H120Zm60-500h600v-160H180v160Zm220 220h160v-160H400v160Zm0 220h160v-160H400v160ZM180-400h160v-160H180v160Zm440 0h160v-160H620v160ZM180-180h160v-160H180v160Zm440 0h160v-160H620v160Z\"/>\n",
              "  </svg>\n",
              "    </button>\n",
              "\n",
              "  <style>\n",
              "    .colab-df-container {\n",
              "      display:flex;\n",
              "      gap: 12px;\n",
              "    }\n",
              "\n",
              "    .colab-df-convert {\n",
              "      background-color: #E8F0FE;\n",
              "      border: none;\n",
              "      border-radius: 50%;\n",
              "      cursor: pointer;\n",
              "      display: none;\n",
              "      fill: #1967D2;\n",
              "      height: 32px;\n",
              "      padding: 0 0 0 0;\n",
              "      width: 32px;\n",
              "    }\n",
              "\n",
              "    .colab-df-convert:hover {\n",
              "      background-color: #E2EBFA;\n",
              "      box-shadow: 0px 1px 2px rgba(60, 64, 67, 0.3), 0px 1px 3px 1px rgba(60, 64, 67, 0.15);\n",
              "      fill: #174EA6;\n",
              "    }\n",
              "\n",
              "    .colab-df-buttons div {\n",
              "      margin-bottom: 4px;\n",
              "    }\n",
              "\n",
              "    [theme=dark] .colab-df-convert {\n",
              "      background-color: #3B4455;\n",
              "      fill: #D2E3FC;\n",
              "    }\n",
              "\n",
              "    [theme=dark] .colab-df-convert:hover {\n",
              "      background-color: #434B5C;\n",
              "      box-shadow: 0px 1px 3px 1px rgba(0, 0, 0, 0.15);\n",
              "      filter: drop-shadow(0px 1px 2px rgba(0, 0, 0, 0.3));\n",
              "      fill: #FFFFFF;\n",
              "    }\n",
              "  </style>\n",
              "\n",
              "    <script>\n",
              "      const buttonEl =\n",
              "        document.querySelector('#df-9e8b1318-9fe0-4d5e-ac1e-dfec48c41516 button.colab-df-convert');\n",
              "      buttonEl.style.display =\n",
              "        google.colab.kernel.accessAllowed ? 'block' : 'none';\n",
              "\n",
              "      async function convertToInteractive(key) {\n",
              "        const element = document.querySelector('#df-9e8b1318-9fe0-4d5e-ac1e-dfec48c41516');\n",
              "        const dataTable =\n",
              "          await google.colab.kernel.invokeFunction('convertToInteractive',\n",
              "                                                    [key], {});\n",
              "        if (!dataTable) return;\n",
              "\n",
              "        const docLinkHtml = 'Like what you see? Visit the ' +\n",
              "          '<a target=\"_blank\" href=https://colab.research.google.com/notebooks/data_table.ipynb>data table notebook</a>'\n",
              "          + ' to learn more about interactive tables.';\n",
              "        element.innerHTML = '';\n",
              "        dataTable['output_type'] = 'display_data';\n",
              "        await google.colab.output.renderOutput(dataTable, element);\n",
              "        const docLink = document.createElement('div');\n",
              "        docLink.innerHTML = docLinkHtml;\n",
              "        element.appendChild(docLink);\n",
              "      }\n",
              "    </script>\n",
              "  </div>\n",
              "\n",
              "\n",
              "<div id=\"df-60f81cd8-4b7b-4182-a47b-1d059141a436\">\n",
              "  <button class=\"colab-df-quickchart\" onclick=\"quickchart('df-60f81cd8-4b7b-4182-a47b-1d059141a436')\"\n",
              "            title=\"Suggest charts\"\n",
              "            style=\"display:none;\">\n",
              "\n",
              "<svg xmlns=\"http://www.w3.org/2000/svg\" height=\"24px\"viewBox=\"0 0 24 24\"\n",
              "     width=\"24px\">\n",
              "    <g>\n",
              "        <path d=\"M19 3H5c-1.1 0-2 .9-2 2v14c0 1.1.9 2 2 2h14c1.1 0 2-.9 2-2V5c0-1.1-.9-2-2-2zM9 17H7v-7h2v7zm4 0h-2V7h2v10zm4 0h-2v-4h2v4z\"/>\n",
              "    </g>\n",
              "</svg>\n",
              "  </button>\n",
              "\n",
              "<style>\n",
              "  .colab-df-quickchart {\n",
              "      --bg-color: #E8F0FE;\n",
              "      --fill-color: #1967D2;\n",
              "      --hover-bg-color: #E2EBFA;\n",
              "      --hover-fill-color: #174EA6;\n",
              "      --disabled-fill-color: #AAA;\n",
              "      --disabled-bg-color: #DDD;\n",
              "  }\n",
              "\n",
              "  [theme=dark] .colab-df-quickchart {\n",
              "      --bg-color: #3B4455;\n",
              "      --fill-color: #D2E3FC;\n",
              "      --hover-bg-color: #434B5C;\n",
              "      --hover-fill-color: #FFFFFF;\n",
              "      --disabled-bg-color: #3B4455;\n",
              "      --disabled-fill-color: #666;\n",
              "  }\n",
              "\n",
              "  .colab-df-quickchart {\n",
              "    background-color: var(--bg-color);\n",
              "    border: none;\n",
              "    border-radius: 50%;\n",
              "    cursor: pointer;\n",
              "    display: none;\n",
              "    fill: var(--fill-color);\n",
              "    height: 32px;\n",
              "    padding: 0;\n",
              "    width: 32px;\n",
              "  }\n",
              "\n",
              "  .colab-df-quickchart:hover {\n",
              "    background-color: var(--hover-bg-color);\n",
              "    box-shadow: 0 1px 2px rgba(60, 64, 67, 0.3), 0 1px 3px 1px rgba(60, 64, 67, 0.15);\n",
              "    fill: var(--button-hover-fill-color);\n",
              "  }\n",
              "\n",
              "  .colab-df-quickchart-complete:disabled,\n",
              "  .colab-df-quickchart-complete:disabled:hover {\n",
              "    background-color: var(--disabled-bg-color);\n",
              "    fill: var(--disabled-fill-color);\n",
              "    box-shadow: none;\n",
              "  }\n",
              "\n",
              "  .colab-df-spinner {\n",
              "    border: 2px solid var(--fill-color);\n",
              "    border-color: transparent;\n",
              "    border-bottom-color: var(--fill-color);\n",
              "    animation:\n",
              "      spin 1s steps(1) infinite;\n",
              "  }\n",
              "\n",
              "  @keyframes spin {\n",
              "    0% {\n",
              "      border-color: transparent;\n",
              "      border-bottom-color: var(--fill-color);\n",
              "      border-left-color: var(--fill-color);\n",
              "    }\n",
              "    20% {\n",
              "      border-color: transparent;\n",
              "      border-left-color: var(--fill-color);\n",
              "      border-top-color: var(--fill-color);\n",
              "    }\n",
              "    30% {\n",
              "      border-color: transparent;\n",
              "      border-left-color: var(--fill-color);\n",
              "      border-top-color: var(--fill-color);\n",
              "      border-right-color: var(--fill-color);\n",
              "    }\n",
              "    40% {\n",
              "      border-color: transparent;\n",
              "      border-right-color: var(--fill-color);\n",
              "      border-top-color: var(--fill-color);\n",
              "    }\n",
              "    60% {\n",
              "      border-color: transparent;\n",
              "      border-right-color: var(--fill-color);\n",
              "    }\n",
              "    80% {\n",
              "      border-color: transparent;\n",
              "      border-right-color: var(--fill-color);\n",
              "      border-bottom-color: var(--fill-color);\n",
              "    }\n",
              "    90% {\n",
              "      border-color: transparent;\n",
              "      border-bottom-color: var(--fill-color);\n",
              "    }\n",
              "  }\n",
              "</style>\n",
              "\n",
              "  <script>\n",
              "    async function quickchart(key) {\n",
              "      const quickchartButtonEl =\n",
              "        document.querySelector('#' + key + ' button');\n",
              "      quickchartButtonEl.disabled = true;  // To prevent multiple clicks.\n",
              "      quickchartButtonEl.classList.add('colab-df-spinner');\n",
              "      try {\n",
              "        const charts = await google.colab.kernel.invokeFunction(\n",
              "            'suggestCharts', [key], {});\n",
              "      } catch (error) {\n",
              "        console.error('Error during call to suggestCharts:', error);\n",
              "      }\n",
              "      quickchartButtonEl.classList.remove('colab-df-spinner');\n",
              "      quickchartButtonEl.classList.add('colab-df-quickchart-complete');\n",
              "    }\n",
              "    (() => {\n",
              "      let quickchartButtonEl =\n",
              "        document.querySelector('#df-60f81cd8-4b7b-4182-a47b-1d059141a436 button');\n",
              "      quickchartButtonEl.style.display =\n",
              "        google.colab.kernel.accessAllowed ? 'block' : 'none';\n",
              "    })();\n",
              "  </script>\n",
              "</div>\n",
              "    </div>\n",
              "  </div>\n"
            ],
            "application/vnd.google.colaboratory.intrinsic+json": {
              "type": "dataframe",
              "variable_name": "df",
              "summary": "{\n  \"name\": \"df\",\n  \"rows\": 5726,\n  \"fields\": [\n    {\n      \"column\": \"product_id\",\n      \"properties\": {\n        \"dtype\": \"category\",\n        \"num_unique_values\": 1068,\n        \"samples\": [\n          \"B00KMD27T2\",\n          \"B006H6V4TW\",\n          \"B007KOSW6I\"\n        ],\n        \"semantic_type\": \"\",\n        \"description\": \"\"\n      }\n    },\n    {\n      \"column\": \"product_title\",\n      \"properties\": {\n        \"dtype\": \"category\",\n        \"num_unique_values\": 1033,\n        \"samples\": [\n          \"Sonic Impact I-P23 Portable Speakers for iPod\",\n          \"Rocksteady XS Portable Bluetooth Stereo Speaker - Stylish & Rugged with Killer Sound Quality - Black\",\n          \"Pyle Complete Audio/Video/Camera Package for Car/Truck/SUV -- PLDNV71BTU - 7-Inch Motorized TFT Touch Screen DVD/CD/MP3 Player with AM/FM/SD USB/ Bluetooth/Built-In GPS/TTS with USA/Canada & Mexico Maps + PLA2200 2-Channel 1400w Bridgeable Mosfet Amplifier + PLHB10 Dual 10\\\" 800W Hatchback Speaker Cabinet + PLCM22IR Water Proof Rear View Camera with Lux Night Vision Capability + PLAM14 20 Ft. 8 Gau\"\n        ],\n        \"semantic_type\": \"\",\n        \"description\": \"\"\n      }\n    },\n    {\n      \"column\": \"Brands\",\n      \"properties\": {\n        \"dtype\": \"category\",\n        \"num_unique_values\": 6,\n        \"samples\": [\n          \"ALTEC \",\n          \"Beats\",\n          \"Others\"\n        ],\n        \"semantic_type\": \"\",\n        \"description\": \"\"\n      }\n    },\n    {\n      \"column\": \"star_rating\",\n      \"properties\": {\n        \"dtype\": \"number\",\n        \"std\": 1,\n        \"min\": 1,\n        \"max\": 5,\n        \"num_unique_values\": 5,\n        \"samples\": [\n          5,\n          4,\n          3\n        ],\n        \"semantic_type\": \"\",\n        \"description\": \"\"\n      }\n    },\n    {\n      \"column\": \"verified_purchase\",\n      \"properties\": {\n        \"dtype\": \"category\",\n        \"num_unique_values\": 2,\n        \"samples\": [\n          \"N\",\n          \"Y\"\n        ],\n        \"semantic_type\": \"\",\n        \"description\": \"\"\n      }\n    },\n    {\n      \"column\": \"review_headline\",\n      \"properties\": {\n        \"dtype\": \"string\",\n        \"num_unique_values\": 4605,\n        \"samples\": [\n          \"Inexpensive upgrade for stock Ford speakers\",\n          \"Awesome!  Highly recommended!  Sounds very good.\"\n        ],\n        \"semantic_type\": \"\",\n        \"description\": \"\"\n      }\n    },\n    {\n      \"column\": \"review_body\",\n      \"properties\": {\n        \"dtype\": \"string\",\n        \"num_unique_values\": 5683,\n        \"samples\": [\n          \"this little speaker is attractive looking and puts out decent volume for the size and price\",\n          \"not as loud as i expected but its a decent little system\"\n        ],\n        \"semantic_type\": \"\",\n        \"description\": \"\"\n      }\n    },\n    {\n      \"column\": \"new_rating\",\n      \"properties\": {\n        \"dtype\": \"number\",\n        \"std\": 0,\n        \"min\": 0,\n        \"max\": 1,\n        \"num_unique_values\": 2,\n        \"samples\": [\n          1,\n          0\n        ],\n        \"semantic_type\": \"\",\n        \"description\": \"\"\n      }\n    }\n  ]\n}"
            }
          },
          "metadata": {},
          "execution_count": 58
        }
      ]
    },
    {
      "cell_type": "code",
      "metadata": {
        "id": "ZTAz6udEzW-S",
        "colab": {
          "base_uri": "https://localhost:8080/"
        },
        "outputId": "c0d3688d-78da-451a-a1a0-50964a681876"
      },
      "source": [
        "# let's see what we did, no commas or periods!!!\n",
        "print(df['review_body'][0])\n",
        "print(df['review_body'][1])\n",
        "print(df['review_body'][2])"
      ],
      "execution_count": null,
      "outputs": [
        {
          "output_type": "stream",
          "name": "stdout",
          "text": [
            "cheap plastic feel hard to turn on and off as it is difficult to twist but if you can get past that you get decent sound quality in a small portable speaker batteries last at least several hours recommend spending a little more on something like a jambox and you will be much happier\n",
            "i bought this product to use with my ipod touch i use it at work a lot plus i use it when i workout\n",
            "ok speaker for easy listening but i dont do anything easy so i bought a bose\n"
          ]
        }
      ]
    },
    {
      "cell_type": "markdown",
      "metadata": {
        "id": "F7SvjnSrqmxP"
      },
      "source": [
        "### Stop words\n",
        "'Stop words' are simply common words in the English language - they are not special and generally don't convey too much information. So it's best to get rid of them."
      ]
    },
    {
      "cell_type": "code",
      "metadata": {
        "id": "c5b0PxNDVm5x",
        "colab": {
          "base_uri": "https://localhost:8080/"
        },
        "outputId": "5db2aa0d-7091-43c2-8e5d-98b836c47f8c"
      },
      "source": [
        "# let's remove some of the stop words (see what happens if you comment this cell out)\n",
        "# we can do better!\n",
        "# define some stop words\n",
        "import nltk\n",
        "from nltk.corpus import stopwords\n",
        "\n",
        "\n",
        "nltk.download('stopwords') # this makes sure these are downloaded if you haven't already!\n",
        "print(stopwords.words('english'))\n",
        "\n",
        "stop = stopwords.words('english') # see why it's important to turn everything lower case? all of your stopwords are!"
      ],
      "execution_count": null,
      "outputs": [
        {
          "output_type": "stream",
          "name": "stdout",
          "text": [
            "['i', 'me', 'my', 'myself', 'we', 'our', 'ours', 'ourselves', 'you', \"you're\", \"you've\", \"you'll\", \"you'd\", 'your', 'yours', 'yourself', 'yourselves', 'he', 'him', 'his', 'himself', 'she', \"she's\", 'her', 'hers', 'herself', 'it', \"it's\", 'its', 'itself', 'they', 'them', 'their', 'theirs', 'themselves', 'what', 'which', 'who', 'whom', 'this', 'that', \"that'll\", 'these', 'those', 'am', 'is', 'are', 'was', 'were', 'be', 'been', 'being', 'have', 'has', 'had', 'having', 'do', 'does', 'did', 'doing', 'a', 'an', 'the', 'and', 'but', 'if', 'or', 'because', 'as', 'until', 'while', 'of', 'at', 'by', 'for', 'with', 'about', 'against', 'between', 'into', 'through', 'during', 'before', 'after', 'above', 'below', 'to', 'from', 'up', 'down', 'in', 'out', 'on', 'off', 'over', 'under', 'again', 'further', 'then', 'once', 'here', 'there', 'when', 'where', 'why', 'how', 'all', 'any', 'both', 'each', 'few', 'more', 'most', 'other', 'some', 'such', 'no', 'nor', 'not', 'only', 'own', 'same', 'so', 'than', 'too', 'very', 's', 't', 'can', 'will', 'just', 'don', \"don't\", 'should', \"should've\", 'now', 'd', 'll', 'm', 'o', 're', 've', 'y', 'ain', 'aren', \"aren't\", 'couldn', \"couldn't\", 'didn', \"didn't\", 'doesn', \"doesn't\", 'hadn', \"hadn't\", 'hasn', \"hasn't\", 'haven', \"haven't\", 'isn', \"isn't\", 'ma', 'mightn', \"mightn't\", 'mustn', \"mustn't\", 'needn', \"needn't\", 'shan', \"shan't\", 'shouldn', \"shouldn't\", 'wasn', \"wasn't\", 'weren', \"weren't\", 'won', \"won't\", 'wouldn', \"wouldn't\"]\n"
          ]
        },
        {
          "output_type": "stream",
          "name": "stderr",
          "text": [
            "[nltk_data] Downloading package stopwords to /root/nltk_data...\n",
            "[nltk_data]   Package stopwords is already up-to-date!\n"
          ]
        }
      ]
    },
    {
      "cell_type": "code",
      "source": [
        "df.info()"
      ],
      "metadata": {
        "colab": {
          "base_uri": "https://localhost:8080/"
        },
        "id": "TEccqbHHPeMv",
        "outputId": "b4d4e606-abb7-46c0-8b47-9b86614d428e"
      },
      "execution_count": null,
      "outputs": [
        {
          "output_type": "stream",
          "name": "stdout",
          "text": [
            "<class 'pandas.core.frame.DataFrame'>\n",
            "RangeIndex: 5726 entries, 0 to 5725\n",
            "Data columns (total 8 columns):\n",
            " #   Column             Non-Null Count  Dtype \n",
            "---  ------             --------------  ----- \n",
            " 0   product_id         5726 non-null   object\n",
            " 1   product_title      5726 non-null   object\n",
            " 2   Brands             5726 non-null   object\n",
            " 3   star_rating        5726 non-null   int64 \n",
            " 4   verified_purchase  5726 non-null   object\n",
            " 5   review_headline    5726 non-null   object\n",
            " 6   review_body        5726 non-null   object\n",
            " 7   new_rating         5726 non-null   int64 \n",
            "dtypes: int64(2), object(6)\n",
            "memory usage: 358.0+ KB\n"
          ]
        }
      ]
    },
    {
      "cell_type": "code",
      "source": [
        "# # Convert all entries in the 'review_body' column to strings\n",
        "# df[\"review_body\"] = df[\"review_body\"].astype(str)"
      ],
      "metadata": {
        "id": "xUIG7DqTPqkn"
      },
      "execution_count": null,
      "outputs": []
    },
    {
      "cell_type": "code",
      "metadata": {
        "id": "-VfgETgoV0aj",
        "colab": {
          "base_uri": "https://localhost:8080/",
          "height": 292
        },
        "outputId": "3f4532f5-da23-4791-85f4-761d841a86a1"
      },
      "source": [
        "# remove the stop words\n",
        "# apply these stopwords to the data\n",
        "# link: https://stackoverflow.com/questions/29523254/python-remove-stop-words-from-pandas-dataframe/43407993\n",
        "\n",
        "# this looks good!\n",
        "# ' '. adds a nice space (try adding a 'D' instead of ' ' and see what happens!)\n",
        "df.head() # note how the stop words have been removed\n",
        "df[\"review_body\"] = df['review_body'].apply(lambda x: ' '.join([word for word in x.split() if word not in (stop)]))\n",
        "df.head()"
      ],
      "execution_count": null,
      "outputs": [
        {
          "output_type": "execute_result",
          "data": {
            "text/plain": [
              "   product_id                                      product_title  Brands  \\\n",
              "0  B001FE9KU6     ALTEC LANSING IM207 orbit-mp3 portable speaker  ALTEC    \n",
              "1  B001FE9KU6     ALTEC LANSING IM207 orbit-mp3 portable speaker  ALTEC    \n",
              "2  B001FE9KU6     ALTEC LANSING IM207 orbit-mp3 portable speaker  ALTEC    \n",
              "3  B002PU9RO8  Altec Lansing inMotion MIX Digital Portable Bo...  ALTEC    \n",
              "4  B00T7Z0BVW  Beats Pill Portable Speaker (Pink) - Newest Model   Beats   \n",
              "\n",
              "   star_rating verified_purchase  \\\n",
              "0            2                 Y   \n",
              "1            5                 Y   \n",
              "2            3                 Y   \n",
              "3            3                 Y   \n",
              "4            1                 Y   \n",
              "\n",
              "                                     review_headline  \\\n",
              "0  Cheap plastic feel. Speaker sounds good when y...   \n",
              "1                                            Speaker   \n",
              "2                                        Three Stars   \n",
              "3                                        Three Stars   \n",
              "4  ... instructions and they don't answer emails ...   \n",
              "\n",
              "                                         review_body  new_rating  \n",
              "0  cheap plastic feel hard turn difficult twist g...           0  \n",
              "1  bought product use ipod touch use work lot plu...           1  \n",
              "2  ok speaker easy listening dont anything easy b...           0  \n",
              "3                       dated iphone system expected           0  \n",
              "4  doesnt stay charged hours doesnt charge anothe...           0  "
            ],
            "text/html": [
              "\n",
              "  <div id=\"df-e8a86a5d-27b3-4531-9992-7683135bf21c\" class=\"colab-df-container\">\n",
              "    <div>\n",
              "<style scoped>\n",
              "    .dataframe tbody tr th:only-of-type {\n",
              "        vertical-align: middle;\n",
              "    }\n",
              "\n",
              "    .dataframe tbody tr th {\n",
              "        vertical-align: top;\n",
              "    }\n",
              "\n",
              "    .dataframe thead th {\n",
              "        text-align: right;\n",
              "    }\n",
              "</style>\n",
              "<table border=\"1\" class=\"dataframe\">\n",
              "  <thead>\n",
              "    <tr style=\"text-align: right;\">\n",
              "      <th></th>\n",
              "      <th>product_id</th>\n",
              "      <th>product_title</th>\n",
              "      <th>Brands</th>\n",
              "      <th>star_rating</th>\n",
              "      <th>verified_purchase</th>\n",
              "      <th>review_headline</th>\n",
              "      <th>review_body</th>\n",
              "      <th>new_rating</th>\n",
              "    </tr>\n",
              "  </thead>\n",
              "  <tbody>\n",
              "    <tr>\n",
              "      <th>0</th>\n",
              "      <td>B001FE9KU6</td>\n",
              "      <td>ALTEC LANSING IM207 orbit-mp3 portable speaker</td>\n",
              "      <td>ALTEC</td>\n",
              "      <td>2</td>\n",
              "      <td>Y</td>\n",
              "      <td>Cheap plastic feel. Speaker sounds good when y...</td>\n",
              "      <td>cheap plastic feel hard turn difficult twist g...</td>\n",
              "      <td>0</td>\n",
              "    </tr>\n",
              "    <tr>\n",
              "      <th>1</th>\n",
              "      <td>B001FE9KU6</td>\n",
              "      <td>ALTEC LANSING IM207 orbit-mp3 portable speaker</td>\n",
              "      <td>ALTEC</td>\n",
              "      <td>5</td>\n",
              "      <td>Y</td>\n",
              "      <td>Speaker</td>\n",
              "      <td>bought product use ipod touch use work lot plu...</td>\n",
              "      <td>1</td>\n",
              "    </tr>\n",
              "    <tr>\n",
              "      <th>2</th>\n",
              "      <td>B001FE9KU6</td>\n",
              "      <td>ALTEC LANSING IM207 orbit-mp3 portable speaker</td>\n",
              "      <td>ALTEC</td>\n",
              "      <td>3</td>\n",
              "      <td>Y</td>\n",
              "      <td>Three Stars</td>\n",
              "      <td>ok speaker easy listening dont anything easy b...</td>\n",
              "      <td>0</td>\n",
              "    </tr>\n",
              "    <tr>\n",
              "      <th>3</th>\n",
              "      <td>B002PU9RO8</td>\n",
              "      <td>Altec Lansing inMotion MIX Digital Portable Bo...</td>\n",
              "      <td>ALTEC</td>\n",
              "      <td>3</td>\n",
              "      <td>Y</td>\n",
              "      <td>Three Stars</td>\n",
              "      <td>dated iphone system expected</td>\n",
              "      <td>0</td>\n",
              "    </tr>\n",
              "    <tr>\n",
              "      <th>4</th>\n",
              "      <td>B00T7Z0BVW</td>\n",
              "      <td>Beats Pill Portable Speaker (Pink) - Newest Model</td>\n",
              "      <td>Beats</td>\n",
              "      <td>1</td>\n",
              "      <td>Y</td>\n",
              "      <td>... instructions and they don't answer emails ...</td>\n",
              "      <td>doesnt stay charged hours doesnt charge anothe...</td>\n",
              "      <td>0</td>\n",
              "    </tr>\n",
              "  </tbody>\n",
              "</table>\n",
              "</div>\n",
              "    <div class=\"colab-df-buttons\">\n",
              "\n",
              "  <div class=\"colab-df-container\">\n",
              "    <button class=\"colab-df-convert\" onclick=\"convertToInteractive('df-e8a86a5d-27b3-4531-9992-7683135bf21c')\"\n",
              "            title=\"Convert this dataframe to an interactive table.\"\n",
              "            style=\"display:none;\">\n",
              "\n",
              "  <svg xmlns=\"http://www.w3.org/2000/svg\" height=\"24px\" viewBox=\"0 -960 960 960\">\n",
              "    <path d=\"M120-120v-720h720v720H120Zm60-500h600v-160H180v160Zm220 220h160v-160H400v160Zm0 220h160v-160H400v160ZM180-400h160v-160H180v160Zm440 0h160v-160H620v160ZM180-180h160v-160H180v160Zm440 0h160v-160H620v160Z\"/>\n",
              "  </svg>\n",
              "    </button>\n",
              "\n",
              "  <style>\n",
              "    .colab-df-container {\n",
              "      display:flex;\n",
              "      gap: 12px;\n",
              "    }\n",
              "\n",
              "    .colab-df-convert {\n",
              "      background-color: #E8F0FE;\n",
              "      border: none;\n",
              "      border-radius: 50%;\n",
              "      cursor: pointer;\n",
              "      display: none;\n",
              "      fill: #1967D2;\n",
              "      height: 32px;\n",
              "      padding: 0 0 0 0;\n",
              "      width: 32px;\n",
              "    }\n",
              "\n",
              "    .colab-df-convert:hover {\n",
              "      background-color: #E2EBFA;\n",
              "      box-shadow: 0px 1px 2px rgba(60, 64, 67, 0.3), 0px 1px 3px 1px rgba(60, 64, 67, 0.15);\n",
              "      fill: #174EA6;\n",
              "    }\n",
              "\n",
              "    .colab-df-buttons div {\n",
              "      margin-bottom: 4px;\n",
              "    }\n",
              "\n",
              "    [theme=dark] .colab-df-convert {\n",
              "      background-color: #3B4455;\n",
              "      fill: #D2E3FC;\n",
              "    }\n",
              "\n",
              "    [theme=dark] .colab-df-convert:hover {\n",
              "      background-color: #434B5C;\n",
              "      box-shadow: 0px 1px 3px 1px rgba(0, 0, 0, 0.15);\n",
              "      filter: drop-shadow(0px 1px 2px rgba(0, 0, 0, 0.3));\n",
              "      fill: #FFFFFF;\n",
              "    }\n",
              "  </style>\n",
              "\n",
              "    <script>\n",
              "      const buttonEl =\n",
              "        document.querySelector('#df-e8a86a5d-27b3-4531-9992-7683135bf21c button.colab-df-convert');\n",
              "      buttonEl.style.display =\n",
              "        google.colab.kernel.accessAllowed ? 'block' : 'none';\n",
              "\n",
              "      async function convertToInteractive(key) {\n",
              "        const element = document.querySelector('#df-e8a86a5d-27b3-4531-9992-7683135bf21c');\n",
              "        const dataTable =\n",
              "          await google.colab.kernel.invokeFunction('convertToInteractive',\n",
              "                                                    [key], {});\n",
              "        if (!dataTable) return;\n",
              "\n",
              "        const docLinkHtml = 'Like what you see? Visit the ' +\n",
              "          '<a target=\"_blank\" href=https://colab.research.google.com/notebooks/data_table.ipynb>data table notebook</a>'\n",
              "          + ' to learn more about interactive tables.';\n",
              "        element.innerHTML = '';\n",
              "        dataTable['output_type'] = 'display_data';\n",
              "        await google.colab.output.renderOutput(dataTable, element);\n",
              "        const docLink = document.createElement('div');\n",
              "        docLink.innerHTML = docLinkHtml;\n",
              "        element.appendChild(docLink);\n",
              "      }\n",
              "    </script>\n",
              "  </div>\n",
              "\n",
              "\n",
              "<div id=\"df-e100a31e-6365-4398-b0f5-29b020a49682\">\n",
              "  <button class=\"colab-df-quickchart\" onclick=\"quickchart('df-e100a31e-6365-4398-b0f5-29b020a49682')\"\n",
              "            title=\"Suggest charts\"\n",
              "            style=\"display:none;\">\n",
              "\n",
              "<svg xmlns=\"http://www.w3.org/2000/svg\" height=\"24px\"viewBox=\"0 0 24 24\"\n",
              "     width=\"24px\">\n",
              "    <g>\n",
              "        <path d=\"M19 3H5c-1.1 0-2 .9-2 2v14c0 1.1.9 2 2 2h14c1.1 0 2-.9 2-2V5c0-1.1-.9-2-2-2zM9 17H7v-7h2v7zm4 0h-2V7h2v10zm4 0h-2v-4h2v4z\"/>\n",
              "    </g>\n",
              "</svg>\n",
              "  </button>\n",
              "\n",
              "<style>\n",
              "  .colab-df-quickchart {\n",
              "      --bg-color: #E8F0FE;\n",
              "      --fill-color: #1967D2;\n",
              "      --hover-bg-color: #E2EBFA;\n",
              "      --hover-fill-color: #174EA6;\n",
              "      --disabled-fill-color: #AAA;\n",
              "      --disabled-bg-color: #DDD;\n",
              "  }\n",
              "\n",
              "  [theme=dark] .colab-df-quickchart {\n",
              "      --bg-color: #3B4455;\n",
              "      --fill-color: #D2E3FC;\n",
              "      --hover-bg-color: #434B5C;\n",
              "      --hover-fill-color: #FFFFFF;\n",
              "      --disabled-bg-color: #3B4455;\n",
              "      --disabled-fill-color: #666;\n",
              "  }\n",
              "\n",
              "  .colab-df-quickchart {\n",
              "    background-color: var(--bg-color);\n",
              "    border: none;\n",
              "    border-radius: 50%;\n",
              "    cursor: pointer;\n",
              "    display: none;\n",
              "    fill: var(--fill-color);\n",
              "    height: 32px;\n",
              "    padding: 0;\n",
              "    width: 32px;\n",
              "  }\n",
              "\n",
              "  .colab-df-quickchart:hover {\n",
              "    background-color: var(--hover-bg-color);\n",
              "    box-shadow: 0 1px 2px rgba(60, 64, 67, 0.3), 0 1px 3px 1px rgba(60, 64, 67, 0.15);\n",
              "    fill: var(--button-hover-fill-color);\n",
              "  }\n",
              "\n",
              "  .colab-df-quickchart-complete:disabled,\n",
              "  .colab-df-quickchart-complete:disabled:hover {\n",
              "    background-color: var(--disabled-bg-color);\n",
              "    fill: var(--disabled-fill-color);\n",
              "    box-shadow: none;\n",
              "  }\n",
              "\n",
              "  .colab-df-spinner {\n",
              "    border: 2px solid var(--fill-color);\n",
              "    border-color: transparent;\n",
              "    border-bottom-color: var(--fill-color);\n",
              "    animation:\n",
              "      spin 1s steps(1) infinite;\n",
              "  }\n",
              "\n",
              "  @keyframes spin {\n",
              "    0% {\n",
              "      border-color: transparent;\n",
              "      border-bottom-color: var(--fill-color);\n",
              "      border-left-color: var(--fill-color);\n",
              "    }\n",
              "    20% {\n",
              "      border-color: transparent;\n",
              "      border-left-color: var(--fill-color);\n",
              "      border-top-color: var(--fill-color);\n",
              "    }\n",
              "    30% {\n",
              "      border-color: transparent;\n",
              "      border-left-color: var(--fill-color);\n",
              "      border-top-color: var(--fill-color);\n",
              "      border-right-color: var(--fill-color);\n",
              "    }\n",
              "    40% {\n",
              "      border-color: transparent;\n",
              "      border-right-color: var(--fill-color);\n",
              "      border-top-color: var(--fill-color);\n",
              "    }\n",
              "    60% {\n",
              "      border-color: transparent;\n",
              "      border-right-color: var(--fill-color);\n",
              "    }\n",
              "    80% {\n",
              "      border-color: transparent;\n",
              "      border-right-color: var(--fill-color);\n",
              "      border-bottom-color: var(--fill-color);\n",
              "    }\n",
              "    90% {\n",
              "      border-color: transparent;\n",
              "      border-bottom-color: var(--fill-color);\n",
              "    }\n",
              "  }\n",
              "</style>\n",
              "\n",
              "  <script>\n",
              "    async function quickchart(key) {\n",
              "      const quickchartButtonEl =\n",
              "        document.querySelector('#' + key + ' button');\n",
              "      quickchartButtonEl.disabled = true;  // To prevent multiple clicks.\n",
              "      quickchartButtonEl.classList.add('colab-df-spinner');\n",
              "      try {\n",
              "        const charts = await google.colab.kernel.invokeFunction(\n",
              "            'suggestCharts', [key], {});\n",
              "      } catch (error) {\n",
              "        console.error('Error during call to suggestCharts:', error);\n",
              "      }\n",
              "      quickchartButtonEl.classList.remove('colab-df-spinner');\n",
              "      quickchartButtonEl.classList.add('colab-df-quickchart-complete');\n",
              "    }\n",
              "    (() => {\n",
              "      let quickchartButtonEl =\n",
              "        document.querySelector('#df-e100a31e-6365-4398-b0f5-29b020a49682 button');\n",
              "      quickchartButtonEl.style.display =\n",
              "        google.colab.kernel.accessAllowed ? 'block' : 'none';\n",
              "    })();\n",
              "  </script>\n",
              "</div>\n",
              "    </div>\n",
              "  </div>\n"
            ],
            "application/vnd.google.colaboratory.intrinsic+json": {
              "type": "dataframe",
              "variable_name": "df",
              "summary": "{\n  \"name\": \"df\",\n  \"rows\": 5726,\n  \"fields\": [\n    {\n      \"column\": \"product_id\",\n      \"properties\": {\n        \"dtype\": \"category\",\n        \"num_unique_values\": 1068,\n        \"samples\": [\n          \"B00KMD27T2\",\n          \"B006H6V4TW\",\n          \"B007KOSW6I\"\n        ],\n        \"semantic_type\": \"\",\n        \"description\": \"\"\n      }\n    },\n    {\n      \"column\": \"product_title\",\n      \"properties\": {\n        \"dtype\": \"category\",\n        \"num_unique_values\": 1033,\n        \"samples\": [\n          \"Sonic Impact I-P23 Portable Speakers for iPod\",\n          \"Rocksteady XS Portable Bluetooth Stereo Speaker - Stylish & Rugged with Killer Sound Quality - Black\",\n          \"Pyle Complete Audio/Video/Camera Package for Car/Truck/SUV -- PLDNV71BTU - 7-Inch Motorized TFT Touch Screen DVD/CD/MP3 Player with AM/FM/SD USB/ Bluetooth/Built-In GPS/TTS with USA/Canada & Mexico Maps + PLA2200 2-Channel 1400w Bridgeable Mosfet Amplifier + PLHB10 Dual 10\\\" 800W Hatchback Speaker Cabinet + PLCM22IR Water Proof Rear View Camera with Lux Night Vision Capability + PLAM14 20 Ft. 8 Gau\"\n        ],\n        \"semantic_type\": \"\",\n        \"description\": \"\"\n      }\n    },\n    {\n      \"column\": \"Brands\",\n      \"properties\": {\n        \"dtype\": \"category\",\n        \"num_unique_values\": 6,\n        \"samples\": [\n          \"ALTEC \",\n          \"Beats\",\n          \"Others\"\n        ],\n        \"semantic_type\": \"\",\n        \"description\": \"\"\n      }\n    },\n    {\n      \"column\": \"star_rating\",\n      \"properties\": {\n        \"dtype\": \"number\",\n        \"std\": 1,\n        \"min\": 1,\n        \"max\": 5,\n        \"num_unique_values\": 5,\n        \"samples\": [\n          5,\n          4,\n          3\n        ],\n        \"semantic_type\": \"\",\n        \"description\": \"\"\n      }\n    },\n    {\n      \"column\": \"verified_purchase\",\n      \"properties\": {\n        \"dtype\": \"category\",\n        \"num_unique_values\": 2,\n        \"samples\": [\n          \"N\",\n          \"Y\"\n        ],\n        \"semantic_type\": \"\",\n        \"description\": \"\"\n      }\n    },\n    {\n      \"column\": \"review_headline\",\n      \"properties\": {\n        \"dtype\": \"string\",\n        \"num_unique_values\": 4605,\n        \"samples\": [\n          \"Inexpensive upgrade for stock Ford speakers\",\n          \"Awesome!  Highly recommended!  Sounds very good.\"\n        ],\n        \"semantic_type\": \"\",\n        \"description\": \"\"\n      }\n    },\n    {\n      \"column\": \"review_body\",\n      \"properties\": {\n        \"dtype\": \"string\",\n        \"num_unique_values\": 5659,\n        \"samples\": [\n          \"dont waste dime got one like ebay worth didnt leave negative feedback seller hong kong graciously threatened buyers dispute refunded purchase price without return ones going trash finish writing review\",\n          \"good speakers price wasnt looking anything fancy met expectations perfectly shipped quickly easy install\"\n        ],\n        \"semantic_type\": \"\",\n        \"description\": \"\"\n      }\n    },\n    {\n      \"column\": \"new_rating\",\n      \"properties\": {\n        \"dtype\": \"number\",\n        \"std\": 0,\n        \"min\": 0,\n        \"max\": 1,\n        \"num_unique_values\": 2,\n        \"samples\": [\n          1,\n          0\n        ],\n        \"semantic_type\": \"\",\n        \"description\": \"\"\n      }\n    }\n  ]\n}"
            }
          },
          "metadata": {},
          "execution_count": 62
        }
      ]
    },
    {
      "cell_type": "code",
      "metadata": {
        "id": "5sBPvCsIqq13",
        "colab": {
          "base_uri": "https://localhost:8080/"
        },
        "outputId": "4e1ddb35-2050-4743-f811-0233d34a879a"
      },
      "source": [
        "# let's see what we did, no commas or periods!!!\n",
        "print(df['review_body'][0])\n",
        "print(df['review_body'][1])\n",
        "print(df['review_body'][2])"
      ],
      "execution_count": null,
      "outputs": [
        {
          "output_type": "stream",
          "name": "stdout",
          "text": [
            "cheap plastic feel hard turn difficult twist get past get decent sound quality small portable speaker batteries last least several hours recommend spending little something like jambox much happier\n",
            "bought product use ipod touch use work lot plus use workout\n",
            "ok speaker easy listening dont anything easy bought bose\n"
          ]
        }
      ]
    },
    {
      "cell_type": "markdown",
      "metadata": {
        "id": "W4PnPazJrvn-"
      },
      "source": [
        "# Text EDA on the Hail Data"
      ]
    },
    {
      "cell_type": "markdown",
      "metadata": {
        "id": "FK0NaIzPqqyx"
      },
      "source": [
        "### Most common words\n",
        "Word clouds and frequency tables/plots."
      ]
    },
    {
      "cell_type": "code",
      "metadata": {
        "id": "7mkK-LV26cnu",
        "colab": {
          "base_uri": "https://localhost:8080/"
        },
        "outputId": "f63820cd-c83b-41b0-d7b6-57306da72c1a"
      },
      "source": [
        "# 1) what are the most common words in the EVENT_NARRATIVE? note that we are doing this before tokenizer\n",
        "# you can also turn this into a bar plot!\n",
        "myTable = df['review_body'].str.split(expand=True).stack().value_counts()\n",
        "myTable[0:20] # too cool!"
      ],
      "execution_count": null,
      "outputs": [
        {
          "output_type": "execute_result",
          "data": {
            "text/plain": [
              "sound        3384\n",
              "speaker      3136\n",
              "good         1870\n",
              "great        1798\n",
              "br           1642\n",
              "speakers     1488\n",
              "one          1483\n",
              "use          1382\n",
              "would        1339\n",
              "quality      1256\n",
              "product      1114\n",
              "like         1113\n",
              "volume       1097\n",
              "little       1023\n",
              "music        1022\n",
              "bluetooth     963\n",
              "work          907\n",
              "get           890\n",
              "price         839\n",
              "well          789\n",
              "Name: count, dtype: int64"
            ]
          },
          "metadata": {},
          "execution_count": 64
        }
      ]
    },
    {
      "cell_type": "code",
      "metadata": {
        "id": "pGum_qFr_xzC",
        "colab": {
          "base_uri": "https://localhost:8080/",
          "height": 206
        },
        "outputId": "f2f5b974-1a81-4418-9893-5f88258053cd"
      },
      "source": [
        "# and we can make a frequency plot\n",
        "# we'll group, then convert to pandas DataFrame for easy plotting\n",
        "x = df['review_body'].str.split(expand=True).stack().value_counts()\n",
        "x = pd.DataFrame(x)\n",
        "# reset the index\n",
        "x.reset_index(inplace=True)\n",
        "# rename the columns\n",
        "x.rename(columns={x.columns[0]:'word', x.columns[1]:'frequency'}, inplace=True)\n",
        "x.head()"
      ],
      "execution_count": null,
      "outputs": [
        {
          "output_type": "execute_result",
          "data": {
            "text/plain": [
              "      word  frequency\n",
              "0    sound       3384\n",
              "1  speaker       3136\n",
              "2     good       1870\n",
              "3    great       1798\n",
              "4       br       1642"
            ],
            "text/html": [
              "\n",
              "  <div id=\"df-8dfdad45-06a7-4432-a6cb-8e9265bb3a63\" class=\"colab-df-container\">\n",
              "    <div>\n",
              "<style scoped>\n",
              "    .dataframe tbody tr th:only-of-type {\n",
              "        vertical-align: middle;\n",
              "    }\n",
              "\n",
              "    .dataframe tbody tr th {\n",
              "        vertical-align: top;\n",
              "    }\n",
              "\n",
              "    .dataframe thead th {\n",
              "        text-align: right;\n",
              "    }\n",
              "</style>\n",
              "<table border=\"1\" class=\"dataframe\">\n",
              "  <thead>\n",
              "    <tr style=\"text-align: right;\">\n",
              "      <th></th>\n",
              "      <th>word</th>\n",
              "      <th>frequency</th>\n",
              "    </tr>\n",
              "  </thead>\n",
              "  <tbody>\n",
              "    <tr>\n",
              "      <th>0</th>\n",
              "      <td>sound</td>\n",
              "      <td>3384</td>\n",
              "    </tr>\n",
              "    <tr>\n",
              "      <th>1</th>\n",
              "      <td>speaker</td>\n",
              "      <td>3136</td>\n",
              "    </tr>\n",
              "    <tr>\n",
              "      <th>2</th>\n",
              "      <td>good</td>\n",
              "      <td>1870</td>\n",
              "    </tr>\n",
              "    <tr>\n",
              "      <th>3</th>\n",
              "      <td>great</td>\n",
              "      <td>1798</td>\n",
              "    </tr>\n",
              "    <tr>\n",
              "      <th>4</th>\n",
              "      <td>br</td>\n",
              "      <td>1642</td>\n",
              "    </tr>\n",
              "  </tbody>\n",
              "</table>\n",
              "</div>\n",
              "    <div class=\"colab-df-buttons\">\n",
              "\n",
              "  <div class=\"colab-df-container\">\n",
              "    <button class=\"colab-df-convert\" onclick=\"convertToInteractive('df-8dfdad45-06a7-4432-a6cb-8e9265bb3a63')\"\n",
              "            title=\"Convert this dataframe to an interactive table.\"\n",
              "            style=\"display:none;\">\n",
              "\n",
              "  <svg xmlns=\"http://www.w3.org/2000/svg\" height=\"24px\" viewBox=\"0 -960 960 960\">\n",
              "    <path d=\"M120-120v-720h720v720H120Zm60-500h600v-160H180v160Zm220 220h160v-160H400v160Zm0 220h160v-160H400v160ZM180-400h160v-160H180v160Zm440 0h160v-160H620v160ZM180-180h160v-160H180v160Zm440 0h160v-160H620v160Z\"/>\n",
              "  </svg>\n",
              "    </button>\n",
              "\n",
              "  <style>\n",
              "    .colab-df-container {\n",
              "      display:flex;\n",
              "      gap: 12px;\n",
              "    }\n",
              "\n",
              "    .colab-df-convert {\n",
              "      background-color: #E8F0FE;\n",
              "      border: none;\n",
              "      border-radius: 50%;\n",
              "      cursor: pointer;\n",
              "      display: none;\n",
              "      fill: #1967D2;\n",
              "      height: 32px;\n",
              "      padding: 0 0 0 0;\n",
              "      width: 32px;\n",
              "    }\n",
              "\n",
              "    .colab-df-convert:hover {\n",
              "      background-color: #E2EBFA;\n",
              "      box-shadow: 0px 1px 2px rgba(60, 64, 67, 0.3), 0px 1px 3px 1px rgba(60, 64, 67, 0.15);\n",
              "      fill: #174EA6;\n",
              "    }\n",
              "\n",
              "    .colab-df-buttons div {\n",
              "      margin-bottom: 4px;\n",
              "    }\n",
              "\n",
              "    [theme=dark] .colab-df-convert {\n",
              "      background-color: #3B4455;\n",
              "      fill: #D2E3FC;\n",
              "    }\n",
              "\n",
              "    [theme=dark] .colab-df-convert:hover {\n",
              "      background-color: #434B5C;\n",
              "      box-shadow: 0px 1px 3px 1px rgba(0, 0, 0, 0.15);\n",
              "      filter: drop-shadow(0px 1px 2px rgba(0, 0, 0, 0.3));\n",
              "      fill: #FFFFFF;\n",
              "    }\n",
              "  </style>\n",
              "\n",
              "    <script>\n",
              "      const buttonEl =\n",
              "        document.querySelector('#df-8dfdad45-06a7-4432-a6cb-8e9265bb3a63 button.colab-df-convert');\n",
              "      buttonEl.style.display =\n",
              "        google.colab.kernel.accessAllowed ? 'block' : 'none';\n",
              "\n",
              "      async function convertToInteractive(key) {\n",
              "        const element = document.querySelector('#df-8dfdad45-06a7-4432-a6cb-8e9265bb3a63');\n",
              "        const dataTable =\n",
              "          await google.colab.kernel.invokeFunction('convertToInteractive',\n",
              "                                                    [key], {});\n",
              "        if (!dataTable) return;\n",
              "\n",
              "        const docLinkHtml = 'Like what you see? Visit the ' +\n",
              "          '<a target=\"_blank\" href=https://colab.research.google.com/notebooks/data_table.ipynb>data table notebook</a>'\n",
              "          + ' to learn more about interactive tables.';\n",
              "        element.innerHTML = '';\n",
              "        dataTable['output_type'] = 'display_data';\n",
              "        await google.colab.output.renderOutput(dataTable, element);\n",
              "        const docLink = document.createElement('div');\n",
              "        docLink.innerHTML = docLinkHtml;\n",
              "        element.appendChild(docLink);\n",
              "      }\n",
              "    </script>\n",
              "  </div>\n",
              "\n",
              "\n",
              "<div id=\"df-301e2b8b-ef84-49c8-b5a7-84c9e99a8691\">\n",
              "  <button class=\"colab-df-quickchart\" onclick=\"quickchart('df-301e2b8b-ef84-49c8-b5a7-84c9e99a8691')\"\n",
              "            title=\"Suggest charts\"\n",
              "            style=\"display:none;\">\n",
              "\n",
              "<svg xmlns=\"http://www.w3.org/2000/svg\" height=\"24px\"viewBox=\"0 0 24 24\"\n",
              "     width=\"24px\">\n",
              "    <g>\n",
              "        <path d=\"M19 3H5c-1.1 0-2 .9-2 2v14c0 1.1.9 2 2 2h14c1.1 0 2-.9 2-2V5c0-1.1-.9-2-2-2zM9 17H7v-7h2v7zm4 0h-2V7h2v10zm4 0h-2v-4h2v4z\"/>\n",
              "    </g>\n",
              "</svg>\n",
              "  </button>\n",
              "\n",
              "<style>\n",
              "  .colab-df-quickchart {\n",
              "      --bg-color: #E8F0FE;\n",
              "      --fill-color: #1967D2;\n",
              "      --hover-bg-color: #E2EBFA;\n",
              "      --hover-fill-color: #174EA6;\n",
              "      --disabled-fill-color: #AAA;\n",
              "      --disabled-bg-color: #DDD;\n",
              "  }\n",
              "\n",
              "  [theme=dark] .colab-df-quickchart {\n",
              "      --bg-color: #3B4455;\n",
              "      --fill-color: #D2E3FC;\n",
              "      --hover-bg-color: #434B5C;\n",
              "      --hover-fill-color: #FFFFFF;\n",
              "      --disabled-bg-color: #3B4455;\n",
              "      --disabled-fill-color: #666;\n",
              "  }\n",
              "\n",
              "  .colab-df-quickchart {\n",
              "    background-color: var(--bg-color);\n",
              "    border: none;\n",
              "    border-radius: 50%;\n",
              "    cursor: pointer;\n",
              "    display: none;\n",
              "    fill: var(--fill-color);\n",
              "    height: 32px;\n",
              "    padding: 0;\n",
              "    width: 32px;\n",
              "  }\n",
              "\n",
              "  .colab-df-quickchart:hover {\n",
              "    background-color: var(--hover-bg-color);\n",
              "    box-shadow: 0 1px 2px rgba(60, 64, 67, 0.3), 0 1px 3px 1px rgba(60, 64, 67, 0.15);\n",
              "    fill: var(--button-hover-fill-color);\n",
              "  }\n",
              "\n",
              "  .colab-df-quickchart-complete:disabled,\n",
              "  .colab-df-quickchart-complete:disabled:hover {\n",
              "    background-color: var(--disabled-bg-color);\n",
              "    fill: var(--disabled-fill-color);\n",
              "    box-shadow: none;\n",
              "  }\n",
              "\n",
              "  .colab-df-spinner {\n",
              "    border: 2px solid var(--fill-color);\n",
              "    border-color: transparent;\n",
              "    border-bottom-color: var(--fill-color);\n",
              "    animation:\n",
              "      spin 1s steps(1) infinite;\n",
              "  }\n",
              "\n",
              "  @keyframes spin {\n",
              "    0% {\n",
              "      border-color: transparent;\n",
              "      border-bottom-color: var(--fill-color);\n",
              "      border-left-color: var(--fill-color);\n",
              "    }\n",
              "    20% {\n",
              "      border-color: transparent;\n",
              "      border-left-color: var(--fill-color);\n",
              "      border-top-color: var(--fill-color);\n",
              "    }\n",
              "    30% {\n",
              "      border-color: transparent;\n",
              "      border-left-color: var(--fill-color);\n",
              "      border-top-color: var(--fill-color);\n",
              "      border-right-color: var(--fill-color);\n",
              "    }\n",
              "    40% {\n",
              "      border-color: transparent;\n",
              "      border-right-color: var(--fill-color);\n",
              "      border-top-color: var(--fill-color);\n",
              "    }\n",
              "    60% {\n",
              "      border-color: transparent;\n",
              "      border-right-color: var(--fill-color);\n",
              "    }\n",
              "    80% {\n",
              "      border-color: transparent;\n",
              "      border-right-color: var(--fill-color);\n",
              "      border-bottom-color: var(--fill-color);\n",
              "    }\n",
              "    90% {\n",
              "      border-color: transparent;\n",
              "      border-bottom-color: var(--fill-color);\n",
              "    }\n",
              "  }\n",
              "</style>\n",
              "\n",
              "  <script>\n",
              "    async function quickchart(key) {\n",
              "      const quickchartButtonEl =\n",
              "        document.querySelector('#' + key + ' button');\n",
              "      quickchartButtonEl.disabled = true;  // To prevent multiple clicks.\n",
              "      quickchartButtonEl.classList.add('colab-df-spinner');\n",
              "      try {\n",
              "        const charts = await google.colab.kernel.invokeFunction(\n",
              "            'suggestCharts', [key], {});\n",
              "      } catch (error) {\n",
              "        console.error('Error during call to suggestCharts:', error);\n",
              "      }\n",
              "      quickchartButtonEl.classList.remove('colab-df-spinner');\n",
              "      quickchartButtonEl.classList.add('colab-df-quickchart-complete');\n",
              "    }\n",
              "    (() => {\n",
              "      let quickchartButtonEl =\n",
              "        document.querySelector('#df-301e2b8b-ef84-49c8-b5a7-84c9e99a8691 button');\n",
              "      quickchartButtonEl.style.display =\n",
              "        google.colab.kernel.accessAllowed ? 'block' : 'none';\n",
              "    })();\n",
              "  </script>\n",
              "</div>\n",
              "    </div>\n",
              "  </div>\n"
            ],
            "application/vnd.google.colaboratory.intrinsic+json": {
              "type": "dataframe",
              "variable_name": "x",
              "summary": "{\n  \"name\": \"x\",\n  \"rows\": 13139,\n  \"fields\": [\n    {\n      \"column\": \"word\",\n      \"properties\": {\n        \"dtype\": \"string\",\n        \"num_unique_values\": 13139,\n        \"samples\": [\n          \"herebr\",\n          \"sink\",\n          \"funneling\"\n        ],\n        \"semantic_type\": \"\",\n        \"description\": \"\"\n      }\n    },\n    {\n      \"column\": \"frequency\",\n      \"properties\": {\n        \"dtype\": \"number\",\n        \"std\": 75,\n        \"min\": 1,\n        \"max\": 3384,\n        \"num_unique_values\": 324,\n        \"samples\": [\n          211,\n          251,\n          206\n        ],\n        \"semantic_type\": \"\",\n        \"description\": \"\"\n      }\n    }\n  ]\n}"
            }
          },
          "metadata": {},
          "execution_count": 65
        }
      ]
    },
    {
      "cell_type": "code",
      "metadata": {
        "id": "yX7a1lh9-nnc",
        "colab": {
          "base_uri": "https://localhost:8080/",
          "height": 550
        },
        "outputId": "26d93936-ca9e-4bb5-ee20-0a0dcbf919e1"
      },
      "source": [
        "# Frequency Distribution Plot\n",
        "# look at first X words\n",
        "\n",
        "# len(x) just the number of rows\n",
        "\n",
        "x = x[0:20] # wanna play? change the 20 to 10 or 30 and see what happens...\n",
        "            # you need to run the previous cell first\n",
        "x.plot(x='word', y='frequency')\n",
        "plt.xticks(np.arange(len(x)), x['word'], rotation=90)\n",
        "plt.suptitle('Top Words in DF')\n",
        "plt.show()\n"
      ],
      "execution_count": null,
      "outputs": [
        {
          "output_type": "display_data",
          "data": {
            "text/plain": [
              "<Figure size 640x480 with 1 Axes>"
            ],
            "image/png": "[encoded data removed]"
          },
          "metadata": {}
        }
      ]
    },
    {
      "cell_type": "code",
      "metadata": {
        "id": "UDKBLnN4OI4H"
      },
      "source": [
        "# # if we wanted to, we could delete 'hail' so that the model isn't cheating!\n",
        "# # to do this, we just need to append our stop words...\n",
        "\n",
        "# # i will keep this commented out for now, but it's possible to do this and repeat the notebook!\n",
        "\n",
        "# # not shown here, but like this\n",
        "# # link: https://stackabuse.com/removing-stop-words-from-strings-in-python/#:~:text=Using%20Python's%20NLTK%20Library&text=NLTK%20supports%20stop%20word%20removal,stop%20words%20provided%20by%20NLTK.\n",
        "\n",
        "# # import\n",
        "# nltk.download('punkt')\n",
        "# from nltk.tokenize import word_tokenize\n",
        "\n",
        "# sw_list = ['hail']\n",
        "# stop.extend(sw_list)\n",
        "\n",
        "# text_tokens = word_tokenize(str(hail_df[\"EVENT_NARRATIVE\"]))\n",
        "# tokens_without_sw = [word for word in text_tokens if not word in stop]\n",
        "\n",
        "# print(tokens_without_sw) # see, now hail is gone!!!\n",
        "# # would the model do just as well without hail in the description?"
      ],
      "execution_count": null,
      "outputs": []
    },
    {
      "cell_type": "markdown",
      "metadata": {
        "id": "RVA-zFUlHhbF"
      },
      "source": [
        "### Word Cloud\n",
        "Instead of just word frequency, you can get a nice graphic like this! Words that are most common are large. You can read more about customization here:\n",
        "https://www.datacamp.com/community/tutorials/wordcloud-python\n",
        "\n",
        "You can be creative here!!!"
      ]
    },
    {
      "cell_type": "code",
      "metadata": {
        "id": "6NpD7hhUHi0q",
        "colab": {
          "base_uri": "https://localhost:8080/",
          "height": 285
        },
        "outputId": "1e94212a-f9e0-49ad-90ef-6e3ff6d2b694"
      },
      "source": [
        "# https://amueller.github.io/word_cloud/auto_examples/simple.html#sphx-glr-auto-examples-simple-py\n",
        "\n",
        "from wordcloud import WordCloud\n",
        "\n",
        "# Generate a word cloud image\n",
        "wordcloud = WordCloud().generate(' '.join(df['review_body']))\n",
        "\n",
        "# # Display the generated image:\n",
        "# # the matplotlib way:\n",
        "# import matplotlib.pyplot as plt\n",
        "# plt.imshow(wordcloud, interpolation='bilinear')\n",
        "# plt.axis(\"off\")\n",
        "\n",
        "# lower max_font_size\n",
        "wordcloud = WordCloud(max_font_size=40).generate(' '.join(df['review_body']))\n",
        "plt.figure()\n",
        "plt.imshow(wordcloud, interpolation=\"bilinear\")\n",
        "plt.axis(\"off\")\n",
        "plt.show()"
      ],
      "execution_count": null,
      "outputs": [
        {
          "output_type": "display_data",
          "data": {
            "text/plain": [
              "<Figure size 640x480 with 1 Axes>"
            ],
            "image/png": "[encoded data removed]"
          },
          "metadata": {}
        }
      ]
    },
    {
      "cell_type": "markdown",
      "metadata": {
        "id": "RIbxxuZ71Tkc"
      },
      "source": [
        "### Tokenizer\n",
        "The tokenizer takes a given sentence and parses it into a list with individual words separated by a comma. This makes it easy for us to do some feature engineering later on in the notebook."
      ]
    },
    {
      "cell_type": "code",
      "metadata": {
        "id": "uILlqqeEVb-5",
        "colab": {
          "base_uri": "https://localhost:8080/",
          "height": 292
        },
        "outputId": "771f9e04-a22c-4259-dd39-62e73e9516ff"
      },
      "source": [
        "# tokenizer\n",
        "# hello tokenizer! make this a list with individual entries/values\n",
        "df['review_body'] = df.apply(lambda row: nltk.word_tokenize(row['review_body']), axis=1)\n",
        "df.head()\n",
        "# could also have created a new column?\n",
        "# link: https://stackoverflow.com/questions/33098040/how-to-use-word-tokenize-in-data-frame"
      ],
      "execution_count": null,
      "outputs": [
        {
          "output_type": "execute_result",
          "data": {
            "text/plain": [
              "   product_id                                      product_title  Brands  \\\n",
              "0  B001FE9KU6     ALTEC LANSING IM207 orbit-mp3 portable speaker  ALTEC    \n",
              "1  B001FE9KU6     ALTEC LANSING IM207 orbit-mp3 portable speaker  ALTEC    \n",
              "2  B001FE9KU6     ALTEC LANSING IM207 orbit-mp3 portable speaker  ALTEC    \n",
              "3  B002PU9RO8  Altec Lansing inMotion MIX Digital Portable Bo...  ALTEC    \n",
              "4  B00T7Z0BVW  Beats Pill Portable Speaker (Pink) - Newest Model   Beats   \n",
              "\n",
              "   star_rating verified_purchase  \\\n",
              "0            2                 Y   \n",
              "1            5                 Y   \n",
              "2            3                 Y   \n",
              "3            3                 Y   \n",
              "4            1                 Y   \n",
              "\n",
              "                                     review_headline  \\\n",
              "0  Cheap plastic feel. Speaker sounds good when y...   \n",
              "1                                            Speaker   \n",
              "2                                        Three Stars   \n",
              "3                                        Three Stars   \n",
              "4  ... instructions and they don't answer emails ...   \n",
              "\n",
              "                                         review_body  new_rating  \n",
              "0  [cheap, plastic, feel, hard, turn, difficult, ...           0  \n",
              "1  [bought, product, use, ipod, touch, use, work,...           1  \n",
              "2  [ok, speaker, easy, listening, dont, anything,...           0  \n",
              "3                  [dated, iphone, system, expected]           0  \n",
              "4  [doesnt, stay, charged, hours, doesnt, charge,...           0  "
            ],
            "text/html": [
              "\n",
              "  <div id=\"df-e48e163c-1518-43db-a881-565cb4c04c77\" class=\"colab-df-container\">\n",
              "    <div>\n",
              "<style scoped>\n",
              "    .dataframe tbody tr th:only-of-type {\n",
              "        vertical-align: middle;\n",
              "    }\n",
              "\n",
              "    .dataframe tbody tr th {\n",
              "        vertical-align: top;\n",
              "    }\n",
              "\n",
              "    .dataframe thead th {\n",
              "        text-align: right;\n",
              "    }\n",
              "</style>\n",
              "<table border=\"1\" class=\"dataframe\">\n",
              "  <thead>\n",
              "    <tr style=\"text-align: right;\">\n",
              "      <th></th>\n",
              "      <th>product_id</th>\n",
              "      <th>product_title</th>\n",
              "      <th>Brands</th>\n",
              "      <th>star_rating</th>\n",
              "      <th>verified_purchase</th>\n",
              "      <th>review_headline</th>\n",
              "      <th>review_body</th>\n",
              "      <th>new_rating</th>\n",
              "    </tr>\n",
              "  </thead>\n",
              "  <tbody>\n",
              "    <tr>\n",
              "      <th>0</th>\n",
              "      <td>B001FE9KU6</td>\n",
              "      <td>ALTEC LANSING IM207 orbit-mp3 portable speaker</td>\n",
              "      <td>ALTEC</td>\n",
              "      <td>2</td>\n",
              "      <td>Y</td>\n",
              "      <td>Cheap plastic feel. Speaker sounds good when y...</td>\n",
              "      <td>[cheap, plastic, feel, hard, turn, difficult, ...</td>\n",
              "      <td>0</td>\n",
              "    </tr>\n",
              "    <tr>\n",
              "      <th>1</th>\n",
              "      <td>B001FE9KU6</td>\n",
              "      <td>ALTEC LANSING IM207 orbit-mp3 portable speaker</td>\n",
              "      <td>ALTEC</td>\n",
              "      <td>5</td>\n",
              "      <td>Y</td>\n",
              "      <td>Speaker</td>\n",
              "      <td>[bought, product, use, ipod, touch, use, work,...</td>\n",
              "      <td>1</td>\n",
              "    </tr>\n",
              "    <tr>\n",
              "      <th>2</th>\n",
              "      <td>B001FE9KU6</td>\n",
              "      <td>ALTEC LANSING IM207 orbit-mp3 portable speaker</td>\n",
              "      <td>ALTEC</td>\n",
              "      <td>3</td>\n",
              "      <td>Y</td>\n",
              "      <td>Three Stars</td>\n",
              "      <td>[ok, speaker, easy, listening, dont, anything,...</td>\n",
              "      <td>0</td>\n",
              "    </tr>\n",
              "    <tr>\n",
              "      <th>3</th>\n",
              "      <td>B002PU9RO8</td>\n",
              "      <td>Altec Lansing inMotion MIX Digital Portable Bo...</td>\n",
              "      <td>ALTEC</td>\n",
              "      <td>3</td>\n",
              "      <td>Y</td>\n",
              "      <td>Three Stars</td>\n",
              "      <td>[dated, iphone, system, expected]</td>\n",
              "      <td>0</td>\n",
              "    </tr>\n",
              "    <tr>\n",
              "      <th>4</th>\n",
              "      <td>B00T7Z0BVW</td>\n",
              "      <td>Beats Pill Portable Speaker (Pink) - Newest Model</td>\n",
              "      <td>Beats</td>\n",
              "      <td>1</td>\n",
              "      <td>Y</td>\n",
              "      <td>... instructions and they don't answer emails ...</td>\n",
              "      <td>[doesnt, stay, charged, hours, doesnt, charge,...</td>\n",
              "      <td>0</td>\n",
              "    </tr>\n",
              "  </tbody>\n",
              "</table>\n",
              "</div>\n",
              "    <div class=\"colab-df-buttons\">\n",
              "\n",
              "  <div class=\"colab-df-container\">\n",
              "    <button class=\"colab-df-convert\" onclick=\"convertToInteractive('df-e48e163c-1518-43db-a881-565cb4c04c77')\"\n",
              "            title=\"Convert this dataframe to an interactive table.\"\n",
              "            style=\"display:none;\">\n",
              "\n",
              "  <svg xmlns=\"http://www.w3.org/2000/svg\" height=\"24px\" viewBox=\"0 -960 960 960\">\n",
              "    <path d=\"M120-120v-720h720v720H120Zm60-500h600v-160H180v160Zm220 220h160v-160H400v160Zm0 220h160v-160H400v160ZM180-400h160v-160H180v160Zm440 0h160v-160H620v160ZM180-180h160v-160H180v160Zm440 0h160v-160H620v160Z\"/>\n",
              "  </svg>\n",
              "    </button>\n",
              "\n",
              "  <style>\n",
              "    .colab-df-container {\n",
              "      display:flex;\n",
              "      gap: 12px;\n",
              "    }\n",
              "\n",
              "    .colab-df-convert {\n",
              "      background-color: #E8F0FE;\n",
              "      border: none;\n",
              "      border-radius: 50%;\n",
              "      cursor: pointer;\n",
              "      display: none;\n",
              "      fill: #1967D2;\n",
              "      height: 32px;\n",
              "      padding: 0 0 0 0;\n",
              "      width: 32px;\n",
              "    }\n",
              "\n",
              "    .colab-df-convert:hover {\n",
              "      background-color: #E2EBFA;\n",
              "      box-shadow: 0px 1px 2px rgba(60, 64, 67, 0.3), 0px 1px 3px 1px rgba(60, 64, 67, 0.15);\n",
              "      fill: #174EA6;\n",
              "    }\n",
              "\n",
              "    .colab-df-buttons div {\n",
              "      margin-bottom: 4px;\n",
              "    }\n",
              "\n",
              "    [theme=dark] .colab-df-convert {\n",
              "      background-color: #3B4455;\n",
              "      fill: #D2E3FC;\n",
              "    }\n",
              "\n",
              "    [theme=dark] .colab-df-convert:hover {\n",
              "      background-color: #434B5C;\n",
              "      box-shadow: 0px 1px 3px 1px rgba(0, 0, 0, 0.15);\n",
              "      filter: drop-shadow(0px 1px 2px rgba(0, 0, 0, 0.3));\n",
              "      fill: #FFFFFF;\n",
              "    }\n",
              "  </style>\n",
              "\n",
              "    <script>\n",
              "      const buttonEl =\n",
              "        document.querySelector('#df-e48e163c-1518-43db-a881-565cb4c04c77 button.colab-df-convert');\n",
              "      buttonEl.style.display =\n",
              "        google.colab.kernel.accessAllowed ? 'block' : 'none';\n",
              "\n",
              "      async function convertToInteractive(key) {\n",
              "        const element = document.querySelector('#df-e48e163c-1518-43db-a881-565cb4c04c77');\n",
              "        const dataTable =\n",
              "          await google.colab.kernel.invokeFunction('convertToInteractive',\n",
              "                                                    [key], {});\n",
              "        if (!dataTable) return;\n",
              "\n",
              "        const docLinkHtml = 'Like what you see? Visit the ' +\n",
              "          '<a target=\"_blank\" href=https://colab.research.google.com/notebooks/data_table.ipynb>data table notebook</a>'\n",
              "          + ' to learn more about interactive tables.';\n",
              "        element.innerHTML = '';\n",
              "        dataTable['output_type'] = 'display_data';\n",
              "        await google.colab.output.renderOutput(dataTable, element);\n",
              "        const docLink = document.createElement('div');\n",
              "        docLink.innerHTML = docLinkHtml;\n",
              "        element.appendChild(docLink);\n",
              "      }\n",
              "    </script>\n",
              "  </div>\n",
              "\n",
              "\n",
              "<div id=\"df-7b49c56a-1a50-45bb-ae1b-44b88126fd36\">\n",
              "  <button class=\"colab-df-quickchart\" onclick=\"quickchart('df-7b49c56a-1a50-45bb-ae1b-44b88126fd36')\"\n",
              "            title=\"Suggest charts\"\n",
              "            style=\"display:none;\">\n",
              "\n",
              "<svg xmlns=\"http://www.w3.org/2000/svg\" height=\"24px\"viewBox=\"0 0 24 24\"\n",
              "     width=\"24px\">\n",
              "    <g>\n",
              "        <path d=\"M19 3H5c-1.1 0-2 .9-2 2v14c0 1.1.9 2 2 2h14c1.1 0 2-.9 2-2V5c0-1.1-.9-2-2-2zM9 17H7v-7h2v7zm4 0h-2V7h2v10zm4 0h-2v-4h2v4z\"/>\n",
              "    </g>\n",
              "</svg>\n",
              "  </button>\n",
              "\n",
              "<style>\n",
              "  .colab-df-quickchart {\n",
              "      --bg-color: #E8F0FE;\n",
              "      --fill-color: #1967D2;\n",
              "      --hover-bg-color: #E2EBFA;\n",
              "      --hover-fill-color: #174EA6;\n",
              "      --disabled-fill-color: #AAA;\n",
              "      --disabled-bg-color: #DDD;\n",
              "  }\n",
              "\n",
              "  [theme=dark] .colab-df-quickchart {\n",
              "      --bg-color: #3B4455;\n",
              "      --fill-color: #D2E3FC;\n",
              "      --hover-bg-color: #434B5C;\n",
              "      --hover-fill-color: #FFFFFF;\n",
              "      --disabled-bg-color: #3B4455;\n",
              "      --disabled-fill-color: #666;\n",
              "  }\n",
              "\n",
              "  .colab-df-quickchart {\n",
              "    background-color: var(--bg-color);\n",
              "    border: none;\n",
              "    border-radius: 50%;\n",
              "    cursor: pointer;\n",
              "    display: none;\n",
              "    fill: var(--fill-color);\n",
              "    height: 32px;\n",
              "    padding: 0;\n",
              "    width: 32px;\n",
              "  }\n",
              "\n",
              "  .colab-df-quickchart:hover {\n",
              "    background-color: var(--hover-bg-color);\n",
              "    box-shadow: 0 1px 2px rgba(60, 64, 67, 0.3), 0 1px 3px 1px rgba(60, 64, 67, 0.15);\n",
              "    fill: var(--button-hover-fill-color);\n",
              "  }\n",
              "\n",
              "  .colab-df-quickchart-complete:disabled,\n",
              "  .colab-df-quickchart-complete:disabled:hover {\n",
              "    background-color: var(--disabled-bg-color);\n",
              "    fill: var(--disabled-fill-color);\n",
              "    box-shadow: none;\n",
              "  }\n",
              "\n",
              "  .colab-df-spinner {\n",
              "    border: 2px solid var(--fill-color);\n",
              "    border-color: transparent;\n",
              "    border-bottom-color: var(--fill-color);\n",
              "    animation:\n",
              "      spin 1s steps(1) infinite;\n",
              "  }\n",
              "\n",
              "  @keyframes spin {\n",
              "    0% {\n",
              "      border-color: transparent;\n",
              "      border-bottom-color: var(--fill-color);\n",
              "      border-left-color: var(--fill-color);\n",
              "    }\n",
              "    20% {\n",
              "      border-color: transparent;\n",
              "      border-left-color: var(--fill-color);\n",
              "      border-top-color: var(--fill-color);\n",
              "    }\n",
              "    30% {\n",
              "      border-color: transparent;\n",
              "      border-left-color: var(--fill-color);\n",
              "      border-top-color: var(--fill-color);\n",
              "      border-right-color: var(--fill-color);\n",
              "    }\n",
              "    40% {\n",
              "      border-color: transparent;\n",
              "      border-right-color: var(--fill-color);\n",
              "      border-top-color: var(--fill-color);\n",
              "    }\n",
              "    60% {\n",
              "      border-color: transparent;\n",
              "      border-right-color: var(--fill-color);\n",
              "    }\n",
              "    80% {\n",
              "      border-color: transparent;\n",
              "      border-right-color: var(--fill-color);\n",
              "      border-bottom-color: var(--fill-color);\n",
              "    }\n",
              "    90% {\n",
              "      border-color: transparent;\n",
              "      border-bottom-color: var(--fill-color);\n",
              "    }\n",
              "  }\n",
              "</style>\n",
              "\n",
              "  <script>\n",
              "    async function quickchart(key) {\n",
              "      const quickchartButtonEl =\n",
              "        document.querySelector('#' + key + ' button');\n",
              "      quickchartButtonEl.disabled = true;  // To prevent multiple clicks.\n",
              "      quickchartButtonEl.classList.add('colab-df-spinner');\n",
              "      try {\n",
              "        const charts = await google.colab.kernel.invokeFunction(\n",
              "            'suggestCharts', [key], {});\n",
              "      } catch (error) {\n",
              "        console.error('Error during call to suggestCharts:', error);\n",
              "      }\n",
              "      quickchartButtonEl.classList.remove('colab-df-spinner');\n",
              "      quickchartButtonEl.classList.add('colab-df-quickchart-complete');\n",
              "    }\n",
              "    (() => {\n",
              "      let quickchartButtonEl =\n",
              "        document.querySelector('#df-7b49c56a-1a50-45bb-ae1b-44b88126fd36 button');\n",
              "      quickchartButtonEl.style.display =\n",
              "        google.colab.kernel.accessAllowed ? 'block' : 'none';\n",
              "    })();\n",
              "  </script>\n",
              "</div>\n",
              "    </div>\n",
              "  </div>\n"
            ],
            "application/vnd.google.colaboratory.intrinsic+json": {
              "type": "dataframe",
              "summary": "{\n  \"name\": \"# link: https://stackoverflow\",\n  \"rows\": 5,\n  \"fields\": [\n    {\n      \"column\": \"product_id\",\n      \"properties\": {\n        \"dtype\": \"string\",\n        \"num_unique_values\": 3,\n        \"samples\": [\n          \"B001FE9KU6\",\n          \"B002PU9RO8\",\n          \"B00T7Z0BVW\"\n        ],\n        \"semantic_type\": \"\",\n        \"description\": \"\"\n      }\n    },\n    {\n      \"column\": \"product_title\",\n      \"properties\": {\n        \"dtype\": \"string\",\n        \"num_unique_values\": 3,\n        \"samples\": [\n          \"ALTEC LANSING IM207 orbit-mp3 portable speaker\",\n          \"Altec Lansing inMotion MIX Digital Portable Boombox Speaker System - iMT800\",\n          \"Beats Pill Portable Speaker (Pink) - Newest Model\"\n        ],\n        \"semantic_type\": \"\",\n        \"description\": \"\"\n      }\n    },\n    {\n      \"column\": \"Brands\",\n      \"properties\": {\n        \"dtype\": \"category\",\n        \"num_unique_values\": 2,\n        \"samples\": [\n          \"Beats\",\n          \"ALTEC \"\n        ],\n        \"semantic_type\": \"\",\n        \"description\": \"\"\n      }\n    },\n    {\n      \"column\": \"star_rating\",\n      \"properties\": {\n        \"dtype\": \"number\",\n        \"std\": 1,\n        \"min\": 1,\n        \"max\": 5,\n        \"num_unique_values\": 4,\n        \"samples\": [\n          5,\n          1\n        ],\n        \"semantic_type\": \"\",\n        \"description\": \"\"\n      }\n    },\n    {\n      \"column\": \"verified_purchase\",\n      \"properties\": {\n        \"dtype\": \"category\",\n        \"num_unique_values\": 1,\n        \"samples\": [\n          \"Y\"\n        ],\n        \"semantic_type\": \"\",\n        \"description\": \"\"\n      }\n    },\n    {\n      \"column\": \"review_headline\",\n      \"properties\": {\n        \"dtype\": \"string\",\n        \"num_unique_values\": 4,\n        \"samples\": [\n          \"Speaker\"\n        ],\n        \"semantic_type\": \"\",\n        \"description\": \"\"\n      }\n    },\n    {\n      \"column\": \"review_body\",\n      \"properties\": {\n        \"dtype\": \"object\",\n        \"semantic_type\": \"\",\n        \"description\": \"\"\n      }\n    },\n    {\n      \"column\": \"new_rating\",\n      \"properties\": {\n        \"dtype\": \"number\",\n        \"std\": 0,\n        \"min\": 0,\n        \"max\": 1,\n        \"num_unique_values\": 2,\n        \"samples\": [\n          1\n        ],\n        \"semantic_type\": \"\",\n        \"description\": \"\"\n      }\n    }\n  ]\n}"
            }
          },
          "metadata": {},
          "execution_count": 68
        }
      ]
    },
    {
      "cell_type": "code",
      "metadata": {
        "id": "df5jYVAIX9qE",
        "colab": {
          "base_uri": "https://localhost:8080/"
        },
        "outputId": "c85730b2-cb59-4f53-bf55-6a0249fc6359"
      },
      "source": [
        "# here's what we did\n",
        "print(df['review_body'][0])\n",
        "print(df['review_body'][1])\n",
        "print(df['review_body'][2])"
      ],
      "execution_count": null,
      "outputs": [
        {
          "output_type": "stream",
          "name": "stdout",
          "text": [
            "['cheap', 'plastic', 'feel', 'hard', 'turn', 'difficult', 'twist', 'get', 'past', 'get', 'decent', 'sound', 'quality', 'small', 'portable', 'speaker', 'batteries', 'last', 'least', 'several', 'hours', 'recommend', 'spending', 'little', 'something', 'like', 'jambox', 'much', 'happier']\n",
            "['bought', 'product', 'use', 'ipod', 'touch', 'use', 'work', 'lot', 'plus', 'use', 'workout']\n",
            "['ok', 'speaker', 'easy', 'listening', 'dont', 'anything', 'easy', 'bought', 'bose']\n"
          ]
        }
      ]
    },
    {
      "cell_type": "markdown",
      "metadata": {
        "id": "gQQaCfzY1mQ3"
      },
      "source": [
        "### Summary\n",
        "So what did we do? We processed our data to make it all lower case, got rid of funky characters, removed stop words and used the 'tokenizer' to start to parse our text data into something useable. Let's dig into some more examples."
      ]
    },
    {
      "cell_type": "markdown",
      "metadata": {
        "id": "3A_G0AdcX-Gk"
      },
      "source": [
        "# Lexicon Normalization\n",
        "This is a fancy word that means we want to take the words (lexicon) and get them in some standardized fashion (normalization). Our goal is to simply the information in our model."
      ]
    },
    {
      "cell_type": "markdown",
      "metadata": {
        "id": "IYlnhB_w6ny7"
      },
      "source": [
        "### Stemming\n",
        "From DataCamp: Stemming is a process of linguistic normalization, which reduces words to their word root word or chops off the derivational affixes. For example, connection, connected, connecting word reduce to a common word \"connec\".\n",
        "\n",
        "How can we use this? Use these simpler representations of the words to build your model \"connec\" (0/1) vs. having three different 0/1 variables for 'connection', 'connected', 'connecting' etc. See where we are going with this? It's all about teaching the computer how to exploit this unstructured data!"
      ]
    },
    {
      "cell_type": "code",
      "metadata": {
        "id": "gb3bKQxB677r",
        "colab": {
          "base_uri": "https://localhost:8080/"
        },
        "outputId": "549b994d-1459-4818-c9a4-0c83d228bc69"
      },
      "source": [
        "# we won't use this today, but sure, it's possible to chop a word down\n",
        "# this cuts down on dimensionality\n",
        "# using the example above, three words turn into one \"connec\"\n",
        "\n",
        "from nltk.stem import PorterStemmer\n",
        "from nltk.tokenize import sent_tokenize, word_tokenize\n",
        "\n",
        "# this is the function we will use\n",
        "ps = PorterStemmer()\n",
        "\n",
        "filtered_sent = df['review_body'][2]\n",
        "\n",
        "stemmed_words=[]\n",
        "for w in filtered_sent:\n",
        "    stemmed_words.append(ps.stem(w))\n",
        "\n",
        "print(\"Filtered Sentence:\",filtered_sent)\n",
        "print(\"Stemmed Sentence:\",stemmed_words)\n",
        "\n",
        "# in our example, we just got rid of \"trained' and 'reported' etc."
      ],
      "execution_count": null,
      "outputs": [
        {
          "output_type": "stream",
          "name": "stdout",
          "text": [
            "Filtered Sentence: ['ok', 'speaker', 'easy', 'listening', 'dont', 'anything', 'easy', 'bought', 'bose']\n",
            "Stemmed Sentence: ['ok', 'speaker', 'easi', 'listen', 'dont', 'anyth', 'easi', 'bought', 'bose']\n"
          ]
        }
      ]
    },
    {
      "cell_type": "code",
      "metadata": {
        "id": "KVWdyVmJ7dEl"
      },
      "source": [
        "# if we wanted to, we could make a new column with just the stemmed words\n",
        "# link: https://stackoverflow.com/questions/37443138/python-stemming-with-pandas-dataframe\n",
        "df['Stemmed'] = df['review_body'].apply(lambda x: [ps.stem(y) for y in x]) # Stem every word."
      ],
      "execution_count": null,
      "outputs": []
    },
    {
      "cell_type": "code",
      "metadata": {
        "id": "vwBP8cFN8Fcb",
        "colab": {
          "base_uri": "https://localhost:8080/"
        },
        "outputId": "cafae383-557a-4b70-e007-1e34892899ff"
      },
      "source": [
        "# check your work!\n",
        "print(df['review_body'][0]) # reported\n",
        "print(df['Stemmed'][0]) # report\n",
        "\n",
        "print(df['review_body'][10]) # note the difference between inches, reported, covered\n",
        "print(df['Stemmed'][10]) # inch, report, cover"
      ],
      "execution_count": null,
      "outputs": [
        {
          "output_type": "stream",
          "name": "stdout",
          "text": [
            "['cheap', 'plastic', 'feel', 'hard', 'turn', 'difficult', 'twist', 'get', 'past', 'get', 'decent', 'sound', 'quality', 'small', 'portable', 'speaker', 'batteries', 'last', 'least', 'several', 'hours', 'recommend', 'spending', 'little', 'something', 'like', 'jambox', 'much', 'happier']\n",
            "['cheap', 'plastic', 'feel', 'hard', 'turn', 'difficult', 'twist', 'get', 'past', 'get', 'decent', 'sound', 'qualiti', 'small', 'portabl', 'speaker', 'batteri', 'last', 'least', 'sever', 'hour', 'recommend', 'spend', 'littl', 'someth', 'like', 'jambox', 'much', 'happier']\n",
            "['worth', 'buy', 'item', 'fantastic', 'battery', 'could', 'hold', 'maybe', 'least', 'one', 'day', 'play', 'several', 'hours', 'day', 'need', 'charge', 'times', 'week']\n",
            "['worth', 'buy', 'item', 'fantast', 'batteri', 'could', 'hold', 'mayb', 'least', 'one', 'day', 'play', 'sever', 'hour', 'day', 'need', 'charg', 'time', 'week']\n"
          ]
        }
      ]
    },
    {
      "cell_type": "markdown",
      "metadata": {
        "id": "5XjzwraGDjuQ"
      },
      "source": [
        "It doesn't seem like we get crazy different results between Stemming and the raw data in our example."
      ]
    },
    {
      "cell_type": "markdown",
      "metadata": {
        "id": "KTqYfgwi5pxH"
      },
      "source": [
        "# Making a text classification algorithm\n",
        "* Put the hail_df and flood_df together as one big dataset (they have similar numbers of observations)\n",
        "* Decide on how to create features for modeling (Bag of Words vs. TF-IDF)\n",
        "* Split the data into test or train partitions\n",
        "* Fit a classification model!\n",
        "* Check out the error metrics\n",
        "\n",
        "Try doing this with EPISODE_NARRATIVE vs. stemmed EVENT_NARRATIVE we created. We get interesting results depending on what we choose."
      ]
    },
    {
      "cell_type": "markdown",
      "metadata": {
        "id": "UUqLLaeE0h7f"
      },
      "source": [
        "### Merge the Data (tmpdf)...\n",
        "Just appending the hail_df rows and flood_df rows."
      ]
    },
    {
      "cell_type": "code",
      "metadata": {
        "id": "oYgXCt8ZGP12",
        "colab": {
          "base_uri": "https://localhost:8080/"
        },
        "outputId": "68de4a5b-6170-407a-8853-9bccbb560276"
      },
      "source": [
        "# first, just appened the datasets you made\n",
        "\n",
        "print(hail_df.shape)\n",
        "print(flood_df.shape)\n",
        "\n",
        "tmpdf = hail_df.append(flood_df, ignore_index=True)\n",
        "print(tmpdf.shape)"
      ],
      "execution_count": null,
      "outputs": [
        {
          "output_type": "stream",
          "name": "stdout",
          "text": [
            "(3783, 29)\n",
            "(3851, 29)\n",
            "(7634, 29)\n"
          ]
        }
      ]
    },
    {
      "cell_type": "code",
      "metadata": {
        "id": "tmOMhAKENPYE",
        "colab": {
          "base_uri": "https://localhost:8080/",
          "height": 1000
        },
        "outputId": "cce460df-b494-4a31-d830-037c8eb2f616"
      },
      "source": [
        "# check it out!\n",
        "tmpdf.info()\n",
        "tmpdf.head()"
      ],
      "execution_count": null,
      "outputs": [
        {
          "output_type": "stream",
          "name": "stdout",
          "text": [
            "<class 'pandas.core.frame.DataFrame'>\n",
            "RangeIndex: 7634 entries, 0 to 7633\n",
            "Data columns (total 29 columns):\n",
            " #   Column             Non-Null Count  Dtype  \n",
            "---  ------             --------------  -----  \n",
            " 0   EPISODE_ID         7634 non-null   int64  \n",
            " 1   EVENT_ID           7634 non-null   int64  \n",
            " 2   STATE              7634 non-null   object \n",
            " 3   STATE_FIPS         7634 non-null   int64  \n",
            " 4   YEAR               7634 non-null   int64  \n",
            " 5   MONTH_NAME         7634 non-null   object \n",
            " 6   EVENT_TYPE         7634 non-null   object \n",
            " 7   CZ_NAME            7634 non-null   object \n",
            " 8   BEGIN_DATE_TIME    7634 non-null   object \n",
            " 9   CZ_TIMEZONE        7634 non-null   object \n",
            " 10  END_DATE_TIME      7634 non-null   object \n",
            " 11  INJURIES_DIRECT    7634 non-null   int64  \n",
            " 12  INJURIES_INDIRECT  7634 non-null   int64  \n",
            " 13  DEATHS_DIRECT      7634 non-null   int64  \n",
            " 14  DEATHS_INDIRECT    7634 non-null   int64  \n",
            " 15  DAMAGE_PROPERTY    6647 non-null   object \n",
            " 16  DAMAGE_CROPS       6713 non-null   float64\n",
            " 17  SOURCE             7634 non-null   object \n",
            " 18  BEGIN_AZIMUTH      7634 non-null   object \n",
            " 19  BEGIN_LOCATION     7634 non-null   object \n",
            " 20  END_AZIMUTH        7634 non-null   object \n",
            " 21  END_LOCATION       7634 non-null   object \n",
            " 22  BEGIN_LAT          7634 non-null   float64\n",
            " 23  BEGIN_LON          7634 non-null   float64\n",
            " 24  END_LAT            7634 non-null   float64\n",
            " 25  END_LON            7634 non-null   float64\n",
            " 26  EPISODE_NARRATIVE  7634 non-null   object \n",
            " 27  EVENT_NARRATIVE    7634 non-null   object \n",
            " 28  Stemmed            7634 non-null   object \n",
            "dtypes: float64(5), int64(8), object(16)\n",
            "memory usage: 1.7+ MB\n"
          ]
        },
        {
          "output_type": "execute_result",
          "data": {
            "text/plain": [
              "   EPISODE_ID  EVENT_ID        STATE  STATE_FIPS  YEAR MONTH_NAME EVENT_TYPE  \\\n",
              "0      141212    848333      VERMONT          50  2019  September       Hail   \n",
              "1      139926    844159      MONTANA          30  2019  September       Hail   \n",
              "2      139926    844160      MONTANA          30  2019  September       Hail   \n",
              "3      139926    844158      MONTANA          30  2019  September       Hail   \n",
              "4      141962    852318  CONNECTICUT           9  2019  September       Hail   \n",
              "\n",
              "     CZ_NAME BEGIN_DATE_TIME CZ_TIMEZONE  ... BEGIN_LOCATION  END_AZIMUTH  \\\n",
              "0    WINDSOR  9/4/2019 12:29       EST-5  ...         LUDLOW            W   \n",
              "1  ROOSEVELT   9/2/2019 8:37       MST-7  ...          FROID          ENE   \n",
              "2  ROOSEVELT   9/2/2019 8:50       MST-7  ...          FROID          ENE   \n",
              "3   SHERIDAN   9/2/2019 7:27       MST-7  ...     PLENTYWOOD          WSW   \n",
              "4   HARTFORD  9/4/2019 16:10       EST-5  ...        ENFIELD            N   \n",
              "\n",
              "   END_LOCATION  BEGIN_LAT  BEGIN_LON END_LAT  END_LON  \\\n",
              "0        LUDLOW      43.40     -72.72   43.40   -72.72   \n",
              "1         FROID      48.39    -104.26   48.39  -104.26   \n",
              "2         FROID      48.39    -104.29   48.39  -104.29   \n",
              "3    PLENTYWOOD      48.72    -104.74   48.72  -104.74   \n",
              "4       ENFIELD      41.97     -72.57   41.97   -72.57   \n",
              "\n",
              "                                   EPISODE_NARRATIVE  \\\n",
              "0  A strong mid-level disturbance and cold front ...   \n",
              "1  Plentiful surface moisture from the southeast ...   \n",
              "2  Plentiful surface moisture from the southeast ...   \n",
              "3  Plentiful surface moisture from the southeast ...   \n",
              "4  A cold front pushed through southern New Engla...   \n",
              "\n",
              "                                     EVENT_NARRATIVE  \\\n",
              "0  [quarter, size, hail, reported, okemo, ski, re...   \n",
              "1  [trained, spotter, reported, hail, size, quart...   \n",
              "2  [public, reported, via, social, media, quarter...   \n",
              "3            [public, reported, quarter, size, hail]   \n",
              "4              [dime, size, hail, reported, enfield]   \n",
              "\n",
              "                                             Stemmed  \n",
              "0  [quarter, size, hail, report, okemo, ski, resort]  \n",
              "1  [train, spotter, report, hail, size, quarter, ...  \n",
              "2  [public, report, via, social, media, quarter, ...  \n",
              "3              [public, report, quarter, size, hail]  \n",
              "4                [dime, size, hail, report, enfield]  \n",
              "\n",
              "[5 rows x 29 columns]"
            ],
            "text/html": [
              "\n",
              "  <div id=\"df-b51d9a8a-9ad3-4acd-8aff-fe76e4c68c93\">\n",
              "    <div class=\"colab-df-container\">\n",
              "      <div>\n",
              "<style scoped>\n",
              "    .dataframe tbody tr th:only-of-type {\n",
              "        vertical-align: middle;\n",
              "    }\n",
              "\n",
              "    .dataframe tbody tr th {\n",
              "        vertical-align: top;\n",
              "    }\n",
              "\n",
              "    .dataframe thead th {\n",
              "        text-align: right;\n",
              "    }\n",
              "</style>\n",
              "<table border=\"1\" class=\"dataframe\">\n",
              "  <thead>\n",
              "    <tr style=\"text-align: right;\">\n",
              "      <th></th>\n",
              "      <th>EPISODE_ID</th>\n",
              "      <th>EVENT_ID</th>\n",
              "      <th>STATE</th>\n",
              "      <th>STATE_FIPS</th>\n",
              "      <th>YEAR</th>\n",
              "      <th>MONTH_NAME</th>\n",
              "      <th>EVENT_TYPE</th>\n",
              "      <th>CZ_NAME</th>\n",
              "      <th>BEGIN_DATE_TIME</th>\n",
              "      <th>CZ_TIMEZONE</th>\n",
              "      <th>...</th>\n",
              "      <th>BEGIN_LOCATION</th>\n",
              "      <th>END_AZIMUTH</th>\n",
              "      <th>END_LOCATION</th>\n",
              "      <th>BEGIN_LAT</th>\n",
              "      <th>BEGIN_LON</th>\n",
              "      <th>END_LAT</th>\n",
              "      <th>END_LON</th>\n",
              "      <th>EPISODE_NARRATIVE</th>\n",
              "      <th>EVENT_NARRATIVE</th>\n",
              "      <th>Stemmed</th>\n",
              "    </tr>\n",
              "  </thead>\n",
              "  <tbody>\n",
              "    <tr>\n",
              "      <th>0</th>\n",
              "      <td>141212</td>\n",
              "      <td>848333</td>\n",
              "      <td>VERMONT</td>\n",
              "      <td>50</td>\n",
              "      <td>2019</td>\n",
              "      <td>September</td>\n",
              "      <td>Hail</td>\n",
              "      <td>WINDSOR</td>\n",
              "      <td>9/4/2019 12:29</td>\n",
              "      <td>EST-5</td>\n",
              "      <td>...</td>\n",
              "      <td>LUDLOW</td>\n",
              "      <td>W</td>\n",
              "      <td>LUDLOW</td>\n",
              "      <td>43.40</td>\n",
              "      <td>-72.72</td>\n",
              "      <td>43.40</td>\n",
              "      <td>-72.72</td>\n",
              "      <td>A strong mid-level disturbance and cold front ...</td>\n",
              "      <td>[quarter, size, hail, reported, okemo, ski, re...</td>\n",
              "      <td>[quarter, size, hail, report, okemo, ski, resort]</td>\n",
              "    </tr>\n",
              "    <tr>\n",
              "      <th>1</th>\n",
              "      <td>139926</td>\n",
              "      <td>844159</td>\n",
              "      <td>MONTANA</td>\n",
              "      <td>30</td>\n",
              "      <td>2019</td>\n",
              "      <td>September</td>\n",
              "      <td>Hail</td>\n",
              "      <td>ROOSEVELT</td>\n",
              "      <td>9/2/2019 8:37</td>\n",
              "      <td>MST-7</td>\n",
              "      <td>...</td>\n",
              "      <td>FROID</td>\n",
              "      <td>ENE</td>\n",
              "      <td>FROID</td>\n",
              "      <td>48.39</td>\n",
              "      <td>-104.26</td>\n",
              "      <td>48.39</td>\n",
              "      <td>-104.26</td>\n",
              "      <td>Plentiful surface moisture from the southeast ...</td>\n",
              "      <td>[trained, spotter, reported, hail, size, quart...</td>\n",
              "      <td>[train, spotter, report, hail, size, quarter, ...</td>\n",
              "    </tr>\n",
              "    <tr>\n",
              "      <th>2</th>\n",
              "      <td>139926</td>\n",
              "      <td>844160</td>\n",
              "      <td>MONTANA</td>\n",
              "      <td>30</td>\n",
              "      <td>2019</td>\n",
              "      <td>September</td>\n",
              "      <td>Hail</td>\n",
              "      <td>ROOSEVELT</td>\n",
              "      <td>9/2/2019 8:50</td>\n",
              "      <td>MST-7</td>\n",
              "      <td>...</td>\n",
              "      <td>FROID</td>\n",
              "      <td>ENE</td>\n",
              "      <td>FROID</td>\n",
              "      <td>48.39</td>\n",
              "      <td>-104.29</td>\n",
              "      <td>48.39</td>\n",
              "      <td>-104.29</td>\n",
              "      <td>Plentiful surface moisture from the southeast ...</td>\n",
              "      <td>[public, reported, via, social, media, quarter...</td>\n",
              "      <td>[public, report, via, social, media, quarter, ...</td>\n",
              "    </tr>\n",
              "    <tr>\n",
              "      <th>3</th>\n",
              "      <td>139926</td>\n",
              "      <td>844158</td>\n",
              "      <td>MONTANA</td>\n",
              "      <td>30</td>\n",
              "      <td>2019</td>\n",
              "      <td>September</td>\n",
              "      <td>Hail</td>\n",
              "      <td>SHERIDAN</td>\n",
              "      <td>9/2/2019 7:27</td>\n",
              "      <td>MST-7</td>\n",
              "      <td>...</td>\n",
              "      <td>PLENTYWOOD</td>\n",
              "      <td>WSW</td>\n",
              "      <td>PLENTYWOOD</td>\n",
              "      <td>48.72</td>\n",
              "      <td>-104.74</td>\n",
              "      <td>48.72</td>\n",
              "      <td>-104.74</td>\n",
              "      <td>Plentiful surface moisture from the southeast ...</td>\n",
              "      <td>[public, reported, quarter, size, hail]</td>\n",
              "      <td>[public, report, quarter, size, hail]</td>\n",
              "    </tr>\n",
              "    <tr>\n",
              "      <th>4</th>\n",
              "      <td>141962</td>\n",
              "      <td>852318</td>\n",
              "      <td>CONNECTICUT</td>\n",
              "      <td>9</td>\n",
              "      <td>2019</td>\n",
              "      <td>September</td>\n",
              "      <td>Hail</td>\n",
              "      <td>HARTFORD</td>\n",
              "      <td>9/4/2019 16:10</td>\n",
              "      <td>EST-5</td>\n",
              "      <td>...</td>\n",
              "      <td>ENFIELD</td>\n",
              "      <td>N</td>\n",
              "      <td>ENFIELD</td>\n",
              "      <td>41.97</td>\n",
              "      <td>-72.57</td>\n",
              "      <td>41.97</td>\n",
              "      <td>-72.57</td>\n",
              "      <td>A cold front pushed through southern New Engla...</td>\n",
              "      <td>[dime, size, hail, reported, enfield]</td>\n",
              "      <td>[dime, size, hail, report, enfield]</td>\n",
              "    </tr>\n",
              "  </tbody>\n",
              "</table>\n",
              "<p>5 rows × 29 columns</p>\n",
              "</div>\n",
              "      <button class=\"colab-df-convert\" onclick=\"convertToInteractive('df-b51d9a8a-9ad3-4acd-8aff-fe76e4c68c93')\"\n",
              "              title=\"Convert this dataframe to an interactive table.\"\n",
              "              style=\"display:none;\">\n",
              "        \n",
              "  <svg xmlns=\"http://www.w3.org/2000/svg\" height=\"24px\"viewBox=\"0 0 24 24\"\n",
              "       width=\"24px\">\n",
              "    <path d=\"M0 0h24v24H0V0z\" fill=\"none\"/>\n",
              "    <path d=\"M18.56 5.44l.94 2.06.94-2.06 2.06-.94-2.06-.94-.94-2.06-.94 2.06-2.06.94zm-11 1L8.5 8.5l.94-2.06 2.06-.94-2.06-.94L8.5 2.5l-.94 2.06-2.06.94zm10 10l.94 2.06.94-2.06 2.06-.94-2.06-.94-.94-2.06-.94 2.06-2.06.94z\"/><path d=\"M17.41 7.96l-1.37-1.37c-.4-.4-.92-.59-1.43-.59-.52 0-1.04.2-1.43.59L10.3 9.45l-7.72 7.72c-.78.78-.78 2.05 0 2.83L4 21.41c.39.39.9.59 1.41.59.51 0 1.02-.2 1.41-.59l7.78-7.78 2.81-2.81c.8-.78.8-2.07 0-2.86zM5.41 20L4 18.59l7.72-7.72 1.47 1.35L5.41 20z\"/>\n",
              "  </svg>\n",
              "      </button>\n",
              "      \n",
              "  <style>\n",
              "    .colab-df-container {\n",
              "      display:flex;\n",
              "      flex-wrap:wrap;\n",
              "      gap: 12px;\n",
              "    }\n",
              "\n",
              "    .colab-df-convert {\n",
              "      background-color: #E8F0FE;\n",
              "      border: none;\n",
              "      border-radius: 50%;\n",
              "      cursor: pointer;\n",
              "      display: none;\n",
              "      fill: #1967D2;\n",
              "      height: 32px;\n",
              "      padding: 0 0 0 0;\n",
              "      width: 32px;\n",
              "    }\n",
              "\n",
              "    .colab-df-convert:hover {\n",
              "      background-color: #E2EBFA;\n",
              "      box-shadow: 0px 1px 2px rgba(60, 64, 67, 0.3), 0px 1px 3px 1px rgba(60, 64, 67, 0.15);\n",
              "      fill: #174EA6;\n",
              "    }\n",
              "\n",
              "    [theme=dark] .colab-df-convert {\n",
              "      background-color: #3B4455;\n",
              "      fill: #D2E3FC;\n",
              "    }\n",
              "\n",
              "    [theme=dark] .colab-df-convert:hover {\n",
              "      background-color: #434B5C;\n",
              "      box-shadow: 0px 1px 3px 1px rgba(0, 0, 0, 0.15);\n",
              "      filter: drop-shadow(0px 1px 2px rgba(0, 0, 0, 0.3));\n",
              "      fill: #FFFFFF;\n",
              "    }\n",
              "  </style>\n",
              "\n",
              "      <script>\n",
              "        const buttonEl =\n",
              "          document.querySelector('#df-b51d9a8a-9ad3-4acd-8aff-fe76e4c68c93 button.colab-df-convert');\n",
              "        buttonEl.style.display =\n",
              "          google.colab.kernel.accessAllowed ? 'block' : 'none';\n",
              "\n",
              "        async function convertToInteractive(key) {\n",
              "          const element = document.querySelector('#df-b51d9a8a-9ad3-4acd-8aff-fe76e4c68c93');\n",
              "          const dataTable =\n",
              "            await google.colab.kernel.invokeFunction('convertToInteractive',\n",
              "                                                     [key], {});\n",
              "          if (!dataTable) return;\n",
              "\n",
              "          const docLinkHtml = 'Like what you see? Visit the ' +\n",
              "            '<a target=\"_blank\" href=https://colab.research.google.com/notebooks/data_table.ipynb>data table notebook</a>'\n",
              "            + ' to learn more about interactive tables.';\n",
              "          element.innerHTML = '';\n",
              "          dataTable['output_type'] = 'display_data';\n",
              "          await google.colab.output.renderOutput(dataTable, element);\n",
              "          const docLink = document.createElement('div');\n",
              "          docLink.innerHTML = docLinkHtml;\n",
              "          element.appendChild(docLink);\n",
              "        }\n",
              "      </script>\n",
              "    </div>\n",
              "  </div>\n",
              "  "
            ]
          },
          "metadata": {},
          "execution_count": 207
        }
      ]
    },
    {
      "cell_type": "markdown",
      "metadata": {
        "id": "xfmoZK1h1H0U"
      },
      "source": [
        "### Clean up the stemmed column into something useable for modeling\n",
        "Let's get rid of the square brackets and leave it as a regular, cleaned up text column."
      ]
    },
    {
      "cell_type": "code",
      "metadata": {
        "id": "mqeEKAh71YdA",
        "colab": {
          "base_uri": "https://localhost:8080/"
        },
        "outputId": "c9901e9f-1e46-4ae3-f7f5-cfcec482c95e"
      },
      "source": [
        "# here's what it looked like before\n",
        "df['Stemmed'].head()"
      ],
      "execution_count": null,
      "outputs": [
        {
          "output_type": "execute_result",
          "data": {
            "text/plain": [
              "0    [cheap, plastic, feel, hard, turn, difficult, ...\n",
              "1    [bought, product, use, ipod, touch, use, work,...\n",
              "2    [ok, speaker, easi, listen, dont, anyth, easi,...\n",
              "3                        [date, iphon, system, expect]\n",
              "4    [doesnt, stay, charg, hour, doesnt, charg, ano...\n",
              "Name: Stemmed, dtype: object"
            ]
          },
          "metadata": {},
          "execution_count": 73
        }
      ]
    },
    {
      "cell_type": "code",
      "metadata": {
        "id": "R5a-JzkszBS0",
        "colab": {
          "base_uri": "https://localhost:8080/"
        },
        "outputId": "424624c8-7d9f-4069-8a38-98812ec8c041"
      },
      "source": [
        "# link: https://pythonhealthcare.org/2018/12/14/101-pre-processing-data-tokenization-stemming-and-removal-of-stop-words/\n",
        "# try to change\n",
        "def rejoin_words(row):\n",
        "    my_list = row['Stemmed']\n",
        "    joined_words = ( \" \".join(my_list))\n",
        "    return joined_words\n",
        "\n",
        "df['Stemmed'] = df.apply(rejoin_words, axis=1)\n",
        "# here it is after - no square brackets and commas!\n",
        "df['Stemmed'].head()"
      ],
      "execution_count": null,
      "outputs": [
        {
          "output_type": "execute_result",
          "data": {
            "text/plain": [
              "0    cheap plastic feel hard turn difficult twist g...\n",
              "1    bought product use ipod touch use work lot plu...\n",
              "2    ok speaker easi listen dont anyth easi bought ...\n",
              "3                             date iphon system expect\n",
              "4    doesnt stay charg hour doesnt charg anoth devi...\n",
              "Name: Stemmed, dtype: object"
            ]
          },
          "metadata": {},
          "execution_count": 74
        }
      ]
    },
    {
      "cell_type": "markdown",
      "metadata": {
        "id": "y-uCYJF-0peL"
      },
      "source": [
        "### Choose X and Y\n",
        "This is where you can choose to either use 'Stemmed' or the raw 'EPISODE_NARRATIVE'. We will use 'Stemmed' as the first example - you will use the raw 'EPISODE_NARRATIVE' for your homework.\n",
        "\n",
        "Both are 100% valid approaches to modeling - one just has a little more pre-processing."
      ]
    },
    {
      "cell_type": "code",
      "metadata": {
        "id": "IBzVhy3pNZ6W",
        "colab": {
          "base_uri": "https://localhost:8080/"
        },
        "outputId": "1364bdb6-b2ab-4d16-93ff-129ca2e6573d"
      },
      "source": [
        "# split into X and Y\n",
        "X=pd.DataFrame(df['Stemmed'])\n",
        "y=df['new_rating']\n",
        "print(X.shape,y.shape)"
      ],
      "execution_count": null,
      "outputs": [
        {
          "output_type": "stream",
          "name": "stdout",
          "text": [
            "(5726, 1) (5726,)\n"
          ]
        }
      ]
    },
    {
      "cell_type": "code",
      "metadata": {
        "id": "-f2mdCVPL8Jx"
      },
      "source": [
        "# BTW - if you haven't already, you can mount your drive\n",
        "# and save a copy of this data if you want"
      ],
      "execution_count": null,
      "outputs": []
    },
    {
      "cell_type": "code",
      "source": [
        "# on your own, you should split into train and test\n",
        "# and then use fit_transform(train) and transform(test)"
      ],
      "metadata": {
        "id": "vqTYUhV6k9Fu"
      },
      "execution_count": null,
      "outputs": []
    },
    {
      "cell_type": "markdown",
      "metadata": {
        "id": "52uXLD6CMHwZ"
      },
      "source": [
        "## Create features for modeling: Bag of Words\n",
        "This will tell you how many times each word was mentioned in a sample.\n",
        "\n",
        "**Check out the documentation:** https://scikit-learn.org/stable/modules/generated/sklearn.feature_extraction.text.CountVectorizer.html\n",
        "\n",
        "[Unigram, bigram, trigram](https://www.google.com/url?sa=i&url=https%3A%2F%2Farshadmehmood.com%2Fdevelopment%2Fgenerate-unigrams-bigrams-trigrams-ngrams-etc-in-python%2F&psig=AOvVaw2DPfI9oyB65ONqb7AEDzM6&ust=1592425067747000&source=images&cd=vfe&ved=0CAIQjRxqFwoTCJChmOeTh-oCFQAAAAAdAAAAABAD) is something you should be comfortable with.\n"
      ]
    },
    {
      "cell_type": "markdown",
      "metadata": {
        "id": "shkXR215ix03"
      },
      "source": [
        "* https://arshadmehmood.com/development/generate-unigrams-bigrams-trigrams-ngrams-etc-in-python/"
      ]
    },
    {
      "cell_type": "code",
      "metadata": {
        "id": "5iUE2iqlMAu8",
        "colab": {
          "base_uri": "https://localhost:8080/"
        },
        "outputId": "cbba851d-cc65-445c-8ec0-04b983e367da"
      },
      "source": [
        "from sklearn.feature_extraction.text import CountVectorizer\n",
        "from nltk.tokenize import RegexpTokenizer\n",
        "\n",
        "# get rid of garbage text\n",
        "token = RegexpTokenizer(r'[a-zA-Z0-9]+')\n",
        "\n",
        "#tokenizer to remove unwanted elements from out data like symbols and numbers\n",
        "# IN ONE LINE OF CODE! Let's go for the more detailed description...\n",
        "cv = CountVectorizer(lowercase=True,\n",
        "                     stop_words='english',\n",
        "                     ngram_range = (1,1), # (1,1) is unigram, (1,2) is uni and bigram, (2,2) is just bigram\n",
        "                     tokenizer = token.tokenize)\n",
        "text_counts= cv.fit_transform(X['Stemmed']) # don't forget to update this name, based on what you use!\n",
        "print(text_counts.shape)"
      ],
      "execution_count": null,
      "outputs": [
        {
          "output_type": "stream",
          "name": "stderr",
          "text": [
            "/usr/local/lib/python3.10/dist-packages/sklearn/feature_extraction/text.py:528: UserWarning: The parameter 'token_pattern' will not be used since 'tokenizer' is not None'\n",
            "  warnings.warn(\n"
          ]
        },
        {
          "output_type": "stream",
          "name": "stdout",
          "text": [
            "(5726, 9758)\n"
          ]
        }
      ]
    },
    {
      "cell_type": "code",
      "source": [
        "6620 # unigrams\n",
        "31570 # bigrams\n",
        "48161 # trigrams\n",
        "6620 + 31570+48161"
      ],
      "metadata": {
        "colab": {
          "base_uri": "https://localhost:8080/"
        },
        "id": "wGPvYzoClxNz",
        "outputId": "3300a720-e03b-4879-8ec1-3fbde0f495d6"
      },
      "execution_count": null,
      "outputs": [
        {
          "output_type": "execute_result",
          "data": {
            "text/plain": [
              "86351"
            ]
          },
          "metadata": {},
          "execution_count": 230
        }
      ]
    },
    {
      "cell_type": "code",
      "metadata": {
        "id": "keuj_3oHi8Ld",
        "colab": {
          "base_uri": "https://localhost:8080/"
        },
        "outputId": "abfb6c91-d508-47dd-fac0-042664a3db92"
      },
      "source": [
        "# inspect text_counts\n",
        "# check out the first row\n",
        "print(text_counts)\n",
        "np.sum(text_counts[1]) # see how many entries there are"
      ],
      "execution_count": null,
      "outputs": [
        {
          "output_type": "stream",
          "name": "stdout",
          "text": [
            "  (0, 1410)\t1\n",
            "  (0, 6141)\t1\n",
            "  (0, 2985)\t1\n",
            "  (0, 3639)\t1\n",
            "  (0, 8853)\t1\n",
            "  (0, 2264)\t1\n",
            "  (0, 8880)\t1\n",
            "  (0, 5960)\t1\n",
            "  (0, 2090)\t1\n",
            "  (0, 7776)\t1\n",
            "  (0, 6580)\t1\n",
            "  (0, 7637)\t1\n",
            "  (0, 6277)\t1\n",
            "  (0, 7858)\t1\n",
            "  (0, 720)\t1\n",
            "  (0, 7379)\t1\n",
            "  (0, 3867)\t1\n",
            "  (0, 6765)\t1\n",
            "  (0, 7925)\t1\n",
            "  (0, 4711)\t1\n",
            "  (0, 7726)\t1\n",
            "  (0, 4670)\t1\n",
            "  (0, 4341)\t1\n",
            "  (0, 3634)\t1\n",
            "  (1, 1001)\t1\n",
            "  :\t:\n",
            "  (5724, 7726)\t1\n",
            "  (5724, 9582)\t2\n",
            "  (5724, 3456)\t3\n",
            "  (5724, 1172)\t1\n",
            "  (5724, 5393)\t2\n",
            "  (5724, 6055)\t1\n",
            "  (5724, 2857)\t2\n",
            "  (5724, 6386)\t1\n",
            "  (5724, 4005)\t1\n",
            "  (5724, 3845)\t1\n",
            "  (5724, 8085)\t1\n",
            "  (5725, 6277)\t1\n",
            "  (5725, 7858)\t1\n",
            "  (5725, 9582)\t1\n",
            "  (5725, 4242)\t1\n",
            "  (5725, 5393)\t1\n",
            "  (5725, 582)\t1\n",
            "  (5725, 5318)\t1\n",
            "  (5725, 344)\t1\n",
            "  (5725, 2714)\t1\n",
            "  (5725, 8683)\t1\n",
            "  (5725, 6742)\t1\n",
            "  (5725, 9691)\t1\n",
            "  (5725, 1781)\t1\n",
            "  (5725, 712)\t1\n"
          ]
        },
        {
          "output_type": "execute_result",
          "data": {
            "text/plain": [
              "11"
            ]
          },
          "metadata": {},
          "execution_count": 77
        }
      ]
    },
    {
      "cell_type": "markdown",
      "source": [
        "## Build a model"
      ],
      "metadata": {
        "id": "1ximp2ADoO1u"
      }
    },
    {
      "cell_type": "code",
      "metadata": {
        "id": "hhi-DA2fmlhz"
      },
      "source": [
        "from sklearn.model_selection import train_test_split\n",
        "\n",
        "# 60% Training; 20% Validation; 20% Test\n",
        "# text_counts is a SPARSE MATRIX!\n",
        "# notice we we\n",
        "X_train, X_test, y_train, y_test = train_test_split(text_counts, y, test_size=0.4)\n",
        "\n",
        "X_test, X_val, y_test, y_val = train_test_split(X_train, y_train, test_size=0.5)"
      ],
      "execution_count": null,
      "outputs": []
    },
    {
      "cell_type": "code",
      "metadata": {
        "id": "YLCXl82CjJcY",
        "colab": {
          "base_uri": "https://localhost:8080/"
        },
        "outputId": "db2b9f16-f0bb-4545-fbc1-fab8024dec9b"
      },
      "source": [
        "print(X_train.shape, X_val.shape, X_test.shape)\n",
        "# voila! note how there are 6620 unigrams (unique words)\n",
        "# if you use bigrams (1,2) this will get bigger"
      ],
      "execution_count": null,
      "outputs": [
        {
          "output_type": "stream",
          "name": "stdout",
          "text": [
            "(3435, 9758) (1718, 9758) (1717, 9758)\n"
          ]
        }
      ]
    },
    {
      "cell_type": "code",
      "metadata": {
        "id": "S7_zkPjKN70T",
        "colab": {
          "base_uri": "https://localhost:8080/"
        },
        "outputId": "1e001ed3-2a1a-4454-845f-d5f8401b5618"
      },
      "source": [
        "from sklearn.tree import DecisionTreeClassifier\n",
        "#Import scikit-learn metrics module for accuracy calculation\n",
        "from sklearn import metrics\n",
        "# Model Generation Using Multinomial Naive Bayes\n",
        "clf = DecisionTreeClassifier().fit(X_train, y_train)\n",
        "predicted= clf.predict(X_test)\n",
        "print(\"DTC Accuracy:\",metrics.accuracy_score(y_test, predicted))\n",
        "predicted= clf.predict(X_val)\n",
        "print(\"DTC Accuracy:\",metrics.accuracy_score(y_val, predicted))\n",
        "\n",
        "# WOW! 99% accuracy on test data.\n",
        "\n",
        "# think of how much time this saves and we didn't even have\n",
        "# to read any of this, just needed to be careful with our\n",
        "# data prep and let it rip!"
      ],
      "execution_count": null,
      "outputs": [
        {
          "output_type": "stream",
          "name": "stdout",
          "text": [
            "DTC Accuracy: 0.9994175888177053\n",
            "DTC Accuracy: 0.9988358556461001\n"
          ]
        }
      ]
    },
    {
      "cell_type": "code",
      "metadata": {
        "id": "mnBaJIhQOTmU",
        "colab": {
          "base_uri": "https://localhost:8080/"
        },
        "outputId": "466ad50c-ebf8-4368-f35d-232c0178dd10"
      },
      "source": [
        "from sklearn.ensemble import RandomForestClassifier\n",
        "#Import scikit-learn metrics module for accuracy calculation\n",
        "from sklearn import metrics\n",
        "# Model Generation Using Multinomial Naive Bayes\n",
        "clf = RandomForestClassifier().fit(X_train, y_train)\n",
        "predicted= clf.predict(X_test)\n",
        "print(\"RFC Accuracy:\",metrics.accuracy_score(y_test, predicted))\n",
        "\n",
        "# WOW! 99% accuracy - even better!\n",
        "\n",
        "# think of how much time this saves and we didn't even have\n",
        "# to read any of this, just needed to be careful with our\n",
        "# data prep and let it rip!"
      ],
      "execution_count": null,
      "outputs": [
        {
          "output_type": "stream",
          "name": "stdout",
          "text": [
            "RFC Accuracy: 0.9994175888177053\n"
          ]
        }
      ]
    },
    {
      "cell_type": "code",
      "metadata": {
        "id": "3bHHa73zPJcR",
        "colab": {
          "base_uri": "https://localhost:8080/"
        },
        "outputId": "fec741e2-abba-427f-b6eb-bbd0cb05f213"
      },
      "source": [
        "# classification report\n",
        "from sklearn.metrics import classification_report\n",
        "print(classification_report(y_test, predicted))"
      ],
      "execution_count": null,
      "outputs": [
        {
          "output_type": "stream",
          "name": "stdout",
          "text": [
            "              precision    recall  f1-score   support\n",
            "\n",
            "           0       1.00      1.00      1.00       803\n",
            "           1       1.00      1.00      1.00       914\n",
            "\n",
            "    accuracy                           1.00      1717\n",
            "   macro avg       1.00      1.00      1.00      1717\n",
            "weighted avg       1.00      1.00      1.00      1717\n",
            "\n"
          ]
        }
      ]
    },
    {
      "cell_type": "code",
      "metadata": {
        "id": "4JqtSHOGPS68",
        "colab": {
          "base_uri": "https://localhost:8080/"
        },
        "outputId": "ea836944-9656-4ec2-f754-9b4e6f2fc479"
      },
      "source": [
        "# confusion matrix\n",
        "from sklearn.metrics import confusion_matrix\n",
        "confusion_matrix(y_test, predicted) # only a handful of misses here, wow..."
      ],
      "execution_count": null,
      "outputs": [
        {
          "output_type": "execute_result",
          "data": {
            "text/plain": [
              "array([[803,   0],\n",
              "       [  1, 913]])"
            ]
          },
          "metadata": {},
          "execution_count": 84
        }
      ]
    },
    {
      "cell_type": "markdown",
      "metadata": {
        "id": "DKicbobpPhBY"
      },
      "source": [
        "# Create features for modeling: TF-IDF\n",
        "This is a more sophisticated method. TF-IDF is a numerical statistic that is intended to reflect how important a word is to a document in a collection or corpus.\n",
        "\n",
        "**Make sure you are comfortable with this:** https://qph.fs.quoracdn.net/main-qimg-316793eea38e7acdcc0cd2224bcaf6b8\n",
        "\n",
        "![alt text](https://qph.fs.quoracdn.net/main-qimg-316793eea38e7acdcc0cd2224bcaf6b8)\n",
        "\n",
        "* TF(w) = (Number of times term w appears in a document) / (Total number of terms in the document)\n",
        "* IDF(w) = log_e(Total number of documents / Number of documents with term w in it)\n",
        "*TF-IDF (term frequency * inverse document frequency) is the product of these two quantities - that's it!\n",
        "\n",
        "**From DataCamp:** In Term Frequency(TF), you just count the number of words occurred in each document. The main issue with this Term Frequency is that it will give more weight to longer documents. Term frequency is basically the output of the Bag of Words (BoW) model.\n",
        "\n",
        "IDF(Inverse Document Frequency) measures the amount of information a given word provides across the document. IDF is the logarithmically scaled inverse ratio of the number of documents that contain the word and the total number of documents.\n",
        "\n",
        "TF-IDF(Term Frequency-Inverse Document Frequency) normalizes the document term matrix. It is the product of TF and IDF. Word with high tf-idf in a document, it is most of the times occurred in given documents and must be absent in the other documents. So the words must be a signature word."
      ]
    },
    {
      "cell_type": "code",
      "metadata": {
        "id": "bEmESem3PogM"
      },
      "source": [
        "# create the matrix\n",
        "from sklearn.feature_extraction.text import TfidfVectorizer\n",
        "tf=TfidfVectorizer()\n",
        "text_tf= tf.fit_transform(X['Stemmed']) # don't forget to update!!!"
      ],
      "execution_count": null,
      "outputs": []
    },
    {
      "cell_type": "code",
      "metadata": {
        "id": "7wCjX3_3kL4r",
        "colab": {
          "base_uri": "https://localhost:8080/"
        },
        "outputId": "7f399557-a4ad-4d6f-c46f-989c1c918b66"
      },
      "source": [
        "# check out what you did\n",
        "text_tf.shape # there are 6695 TF-IDF"
      ],
      "execution_count": null,
      "outputs": [
        {
          "output_type": "execute_result",
          "data": {
            "text/plain": [
              "(5726, 9875)"
            ]
          },
          "metadata": {},
          "execution_count": 86
        }
      ]
    },
    {
      "cell_type": "code",
      "metadata": {
        "id": "2YWL_0LUkSf6",
        "colab": {
          "base_uri": "https://localhost:8080/"
        },
        "outputId": "b5e9b973-5c09-41ea-f7fe-0b21aa4dbb9f"
      },
      "source": [
        "# notice there are 7 words here - it is the index corresponding to the word, followed by TF-IDF!\n",
        "print(text_tf[0])"
      ],
      "execution_count": null,
      "outputs": [
        {
          "output_type": "stream",
          "name": "stdout",
          "text": [
            "  (0, 3679)\t0.2888494331807177\n",
            "  (0, 5350)\t0.14318812975411535\n",
            "  (0, 4392)\t0.258458058993189\n",
            "  (0, 4724)\t0.11656996931160953\n",
            "  (0, 7811)\t0.16721605850935328\n",
            "  (0, 4765)\t0.12322239271362553\n",
            "  (0, 8010)\t0.2251265757455918\n",
            "  (0, 6842)\t0.1483067892273224\n",
            "  (0, 3916)\t0.16721605850935328\n",
            "  (0, 7459)\t0.19900572690231727\n",
            "  (0, 4642)\t0.2187372981668006\n",
            "  (0, 4598)\t0.1610350766348671\n",
            "  (0, 731)\t0.13168639975555024\n",
            "  (0, 7943)\t0.08072133200771138\n",
            "  (0, 6354)\t0.1577902374788767\n",
            "  (0, 7721)\t0.13593059088618298\n",
            "  (0, 6657)\t0.11499679844762946\n",
            "  (0, 7861)\t0.07441351018863002\n",
            "  (0, 2113)\t0.18096703845808815\n",
            "  (0, 6036)\t0.24934531286192307\n",
            "  (0, 3423)\t0.23795445073113125\n",
            "  (0, 8982)\t0.30457971703374465\n",
            "  (0, 2288)\t0.22872721635841156\n",
            "  (0, 8955)\t0.14606124103730606\n",
            "  (0, 3684)\t0.19406098984671036\n",
            "  (0, 3019)\t0.19351576475031204\n",
            "  (0, 6218)\t0.21149673811621403\n",
            "  (0, 1428)\t0.18631544922334958\n"
          ]
        }
      ]
    },
    {
      "cell_type": "code",
      "metadata": {
        "id": "1ZBXgVcGPtO_"
      },
      "source": [
        "# split the data\n",
        "from sklearn.model_selection import train_test_split\n",
        "X_train, X_test, y_train, y_test = train_test_split(text_tf, y,\n",
        "                                                    test_size=0.3, random_state=123)"
      ],
      "execution_count": null,
      "outputs": []
    },
    {
      "cell_type": "code",
      "metadata": {
        "id": "-uVYRdy0P5TS",
        "colab": {
          "base_uri": "https://localhost:8080/"
        },
        "outputId": "561a042a-d361-4290-8ddf-bcad125cbc83"
      },
      "source": [
        "# fit a model\n",
        "from sklearn.tree import DecisionTreeClassifier\n",
        "from sklearn import metrics\n",
        "# Model Generation Using Multinomial Naive Bayes\n",
        "clf = DecisionTreeClassifier().fit(X_train, y_train)\n",
        "predicted= clf.predict(X_test)\n",
        "print(\"DTC Accuracy:\",metrics.accuracy_score(y_test, predicted))\n",
        "\n",
        "# 98%!"
      ],
      "execution_count": null,
      "outputs": [
        {
          "output_type": "stream",
          "name": "stdout",
          "text": [
            "DTC Accuracy: 0.7182770663562281\n"
          ]
        }
      ]
    },
    {
      "cell_type": "code",
      "metadata": {
        "id": "Z34l6jrSQF_k",
        "colab": {
          "base_uri": "https://localhost:8080/"
        },
        "outputId": "2f86b58a-6932-46af-9736-b7bb772bd9c7"
      },
      "source": [
        "# fit a model\n",
        "from sklearn.ensemble import RandomForestClassifier\n",
        "from sklearn import metrics\n",
        "# Model Generation Using RFC\n",
        "clf = RandomForestClassifier().fit(X_train, y_train)\n",
        "predicted= clf.predict(X_test)\n",
        "print(\"RFC Accuracy:\",metrics.accuracy_score(y_test, predicted))\n",
        "\n",
        "# 99%! Your results might be a little different"
      ],
      "execution_count": null,
      "outputs": [
        {
          "output_type": "stream",
          "name": "stdout",
          "text": [
            "RFC Accuracy: 0.8119906868451688\n"
          ]
        }
      ]
    },
    {
      "cell_type": "markdown",
      "metadata": {
        "id": "0SnNihICpJvq"
      },
      "source": [
        "# Thoughts\n",
        "TF-IDF is interesting - and it is essentially a glorified form of feature engineering.\n",
        "\n",
        "We can use more condensed code to fit the TF_IDF with a feedforward neural network.\n",
        "**Link:** https://www.kaggle.com/welgum/tf-idf-with-simple-nn-keras\n",
        "\n",
        "Later on, we can consider (1) one-hot encoding for use in a neural network or (2) learn word embeddings which we can either flatten or incorporate into the LSTM and (3) import pre-learned word embeddings for help 'hot-rod' our models."
      ]
    },
    {
      "cell_type": "code",
      "metadata": {
        "id": "q6E2n3sTrEdj"
      },
      "source": [
        "# we can start this in another notebook"
      ],
      "execution_count": null,
      "outputs": []
    }
  ]
}
